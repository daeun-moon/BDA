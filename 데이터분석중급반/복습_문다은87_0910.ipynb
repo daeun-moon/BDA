{
  "nbformat": 4,
  "nbformat_minor": 0,
  "metadata": {
    "colab": {
      "provenance": []
    },
    "kernelspec": {
      "name": "python3",
      "display_name": "Python 3"
    },
    "language_info": {
      "name": "python"
    }
  },
  "cells": [
    {
      "cell_type": "markdown",
      "source": [
        "# 2주차 복습과제 - 교차검증"
      ],
      "metadata": {
        "id": "vWZKF1iRnjAk"
      }
    },
    {
      "cell_type": "code",
      "execution_count": 47,
      "metadata": {
        "id": "L8yNSALelKjK"
      },
      "outputs": [],
      "source": [
        "from sklearn.datasets import load_iris\n",
        "from sklearn.tree import DecisionTreeClassifier\n",
        "from sklearn.model_selection import train_test_split\n",
        "from sklearn.metrics import accuracy_score, precision_score, recall_score #Confusion matrix 수업 때 진행할 예정\n",
        "from sklearn.model_selection import KFold\n",
        "from sklearn.metrics import classification_report\n",
        "from sklearn.metrics import accuracy_score#임포트\n",
        "import numpy as np\n",
        "import pandas as pd"
      ]
    },
    {
      "cell_type": "markdown",
      "source": [
        "# 0. Data Load"
      ],
      "metadata": {
        "id": "9ZBacctbnxw2"
      }
    },
    {
      "cell_type": "code",
      "source": [
        "fold_iris = load_iris()\n",
        "features = fold_iris.data\n",
        "label= fold_iris.target"
      ],
      "metadata": {
        "id": "9MJXhqhtnsyI"
      },
      "execution_count": 48,
      "outputs": []
    },
    {
      "cell_type": "markdown",
      "source": [
        "# 1. Train/Test split\n",
        "- 기본 모델로 나눠서 실제 과적합이 어떤 식으로 발생하는지 확인!"
      ],
      "metadata": {
        "id": "U_tOaf-qn4kv"
      }
    },
    {
      "cell_type": "code",
      "source": [
        "X_train, X_test, y_train, y_test = train_test_split(features, label, test_size=0.2, random_state=111)"
      ],
      "metadata": {
        "id": "-1cxH4oMnuSm"
      },
      "execution_count": 49,
      "outputs": []
    },
    {
      "cell_type": "code",
      "source": [
        "model = DecisionTreeClassifier()\n",
        "model_sp1 = DecisionTreeClassifier(random_state=111, max_depth=3)\n",
        "model.fit(X_train, y_train) #모델 학습\n",
        "model_sp1.fit(X_train, y_train) #모델 학습 - 하이퍼 파라미터 존재하는 모델\n",
        "pred_train = model.predict(X_train) #train 예측\n",
        "pred_test = model.predict(X_test) # test예측\n",
        "pred_train_sp = model_sp1.predict(X_train) #train 예측 - 하이퍼 파라미터 존재하는 모델\n",
        "pred_test_sp = model_sp1.predict(X_test) # test예측 - 하이퍼 파라미터 존재하는 모델"
      ],
      "metadata": {
        "id": "CLJc4lHUn-Qj"
      },
      "execution_count": 50,
      "outputs": []
    },
    {
      "cell_type": "code",
      "source": [
        "# train이 1.0 > test가 0.9 => 과적합 문제 발생!\n",
        "print(accuracy_score(y_train, pred_train))\n",
        "print(accuracy_score(y_test, pred_test))"
      ],
      "metadata": {
        "colab": {
          "base_uri": "https://localhost:8080/"
        },
        "id": "Cgg3RJFMoOpC",
        "outputId": "7a06b510-6cc5-4662-da99-ec51db4ec3d3"
      },
      "execution_count": 51,
      "outputs": [
        {
          "output_type": "stream",
          "name": "stdout",
          "text": [
            "1.0\n",
            "0.9\n"
          ]
        }
      ]
    },
    {
      "cell_type": "code",
      "source": [
        "print(accuracy_score(y_train, pred_train_sp))\n",
        "print(accuracy_score(y_test, pred_test_sp))"
      ],
      "metadata": {
        "colab": {
          "base_uri": "https://localhost:8080/"
        },
        "id": "-jTjOZg3pD1S",
        "outputId": "f4d4339c-dc8d-44fa-b9af-1ab92fd7283b"
      },
      "execution_count": 52,
      "outputs": [
        {
          "output_type": "stream",
          "name": "stdout",
          "text": [
            "0.9916666666666667\n",
            "0.9\n"
          ]
        }
      ]
    },
    {
      "cell_type": "markdown",
      "source": [
        "- max_depth =3으로 진행하면 기존 train 데이터 정확도는 1.0 에서 0.9916666666666667 정확도가 줄었다.\n",
        "- DT : 가지치기 형식으로 뻗어나가는 구조. 데이터를 나눠가면서 분리하는데 max_depth(최대깊이)를 최소화(3)로 줄이니까 train 정확도가 줄었다.\n",
        "- 물론 Iris 데이터가 너무 작기 때문에 그럴 수도 있지만\n",
        "- 최대 깊이 지정 X : 데이터의 모든 것을 하나하나 분리하고 학습\n",
        "- 최대 깊이 지정 O : 분리하는 과정을 3개까지만 하고 분리 멈춤 -> 아직 분리할 것들이 남았지만 그 부분은 학습하지 않음\n",
        "- 기존에 1이 아닌 정확도가 조금 줄게  되었고, 이 부분은 과적합을 막기 위해서 하이퍼파라미터를 튜닝해서 과적합을 줄이고 일반화를 하기 위해 진행한 것!"
      ],
      "metadata": {
        "id": "jnZA4faKpZSc"
      }
    },
    {
      "cell_type": "markdown",
      "source": [
        "# 2. 교차검증(CV- Cross Validation)을 통해서 과적합이 나눠지는지?"
      ],
      "metadata": {
        "id": "SoidRJYfqofy"
      }
    },
    {
      "cell_type": "code",
      "source": [
        "from sklearn.model_selection import KFold\n",
        "kfold= KFold(n_splits=5) #데이터셋을 분리하는 것\n",
        "cv_accuracy_train=[]\n",
        "cv_accuracy_test=[]\n",
        "kf_model = DecisionTreeClassifier(random_state=111, max_depth=3)"
      ],
      "metadata": {
        "id": "NPD4mS4oqY8J"
      },
      "execution_count": 53,
      "outputs": []
    },
    {
      "cell_type": "code",
      "source": [
        "kfold"
      ],
      "metadata": {
        "colab": {
          "base_uri": "https://localhost:8080/"
        },
        "id": "2EpBC8Gkq61u",
        "outputId": "a9e8bb94-8841-46d4-8d40-235d2d8d8662"
      },
      "execution_count": 54,
      "outputs": [
        {
          "output_type": "execute_result",
          "data": {
            "text/plain": [
              "KFold(n_splits=5, random_state=None, shuffle=False)"
            ]
          },
          "metadata": {},
          "execution_count": 54
        }
      ]
    },
    {
      "cell_type": "code",
      "source": [
        "label"
      ],
      "metadata": {
        "colab": {
          "base_uri": "https://localhost:8080/"
        },
        "id": "TwB8tI1rzqXs",
        "outputId": "264f31d5-b059-476e-8a50-c1537fe7d49f"
      },
      "execution_count": 55,
      "outputs": [
        {
          "output_type": "execute_result",
          "data": {
            "text/plain": [
              "array([0, 0, 0, 0, 0, 0, 0, 0, 0, 0, 0, 0, 0, 0, 0, 0, 0, 0, 0, 0, 0, 0,\n",
              "       0, 0, 0, 0, 0, 0, 0, 0, 0, 0, 0, 0, 0, 0, 0, 0, 0, 0, 0, 0, 0, 0,\n",
              "       0, 0, 0, 0, 0, 0, 1, 1, 1, 1, 1, 1, 1, 1, 1, 1, 1, 1, 1, 1, 1, 1,\n",
              "       1, 1, 1, 1, 1, 1, 1, 1, 1, 1, 1, 1, 1, 1, 1, 1, 1, 1, 1, 1, 1, 1,\n",
              "       1, 1, 1, 1, 1, 1, 1, 1, 1, 1, 1, 1, 2, 2, 2, 2, 2, 2, 2, 2, 2, 2,\n",
              "       2, 2, 2, 2, 2, 2, 2, 2, 2, 2, 2, 2, 2, 2, 2, 2, 2, 2, 2, 2, 2, 2,\n",
              "       2, 2, 2, 2, 2, 2, 2, 2, 2, 2, 2, 2, 2, 2, 2, 2, 2, 2])"
            ]
          },
          "metadata": {},
          "execution_count": 55
        }
      ]
    },
    {
      "cell_type": "code",
      "source": [
        "n_iter = 0 #5번 진행하니 초깃값 설정\n",
        "\n",
        "for train_idx, test_idx in kfold.split(features):\n",
        "\n",
        "    X_train, X_test = features[train_idx], features[test_idx]\n",
        "    y_train, y_test = label[train_idx], label[test_idx]\n",
        "\n",
        "    #학습을 위해서 dt배우기\n",
        "    kf_model.fit(X_train, y_train)\n",
        "\n",
        "    #예측\n",
        "    kf_pred_train = kf_model.predict(X_train)\n",
        "    df_pred_test = kf_model.predict(X_test)\n",
        "\n",
        "    #정확도를 5번 측정하면서 값에 넣을 것이니\n",
        "    n_iter +=1\n",
        "    accuracy_train = np.round(accuracy_score(y_train, kf_pred_train),4) # train\n",
        "    accuracy_test = np.round(accuracy_score(y_test, df_pred_test),4) # test\n",
        "\n",
        "    print('\\n{} 번 train 교차 검증 정확도 :{} ,test 교차 검증 정확도 :{} '.format(n_iter,accuracy_train, accuracy_test))\n",
        "\n",
        "    cv_accuracy_train.append(accuracy_train)\n",
        "    cv_accuracy_test.append(accuracy_test)\n",
        "print('')\n",
        "print('train 평균 정확도',np.mean(cv_accuracy_train))\n",
        "print('test 평균 정확도',np.mean(cv_accuracy_test))"
      ],
      "metadata": {
        "colab": {
          "base_uri": "https://localhost:8080/"
        },
        "id": "M_KYhT2yq_Va",
        "outputId": "3f2dceb4-4d1f-423b-ef74-2cf13f8d866c"
      },
      "execution_count": 63,
      "outputs": [
        {
          "output_type": "stream",
          "name": "stdout",
          "text": [
            "\n",
            "1 번 train 교차 검증 정확도 :0.975 ,test 교차 검증 정확도 :1.0 \n",
            "\n",
            "2 번 train 교차 검증 정확도 :0.975 ,test 교차 검증 정확도 :0.9667 \n",
            "\n",
            "3 번 train 교차 검증 정확도 :0.9917 ,test 교차 검증 정확도 :0.8333 \n",
            "\n",
            "4 번 train 교차 검증 정확도 :0.9833 ,test 교차 검증 정확도 :0.9333 \n",
            "\n",
            "5 번 train 교차 검증 정확도 :0.975 ,test 교차 검증 정확도 :0.7 \n",
            "\n",
            "train 평균 정확도 0.9799999999999999\n",
            "test 평균 정확도 0.8866599999999998\n"
          ]
        }
      ]
    },
    {
      "cell_type": "markdown",
      "source": [
        "- 반복횟수를 거듭할 수록 train의 정확도는 점차 감소\n",
        "- 기존에 하이퍼 파라미터가 없는 경우는 다 1로 나옴\n",
        "- 결과적으로는 test 평균 정확도 0.9로 떨어짐\n",
        "- train은 0.975인데 test는 1이 나왔다? 이건 어떻게 해석??!!"
      ],
      "metadata": {
        "id": "UgtS_zNTs7T7"
      }
    },
    {
      "cell_type": "markdown",
      "source": [
        "# 3. Skf 모델 진행\n",
        "- 과적합을 막기 위해서 Skf 방식 사용 가능\n",
        "- 모델링에서 과적합을 막기 위해 하이퍼파라미터 추가 가능\n",
        "- kfold의 문제점은 ?\n",
        "  - 정답라벨이 0,1,2 총 3개 -> KFold는 랜덤하게 데이터를 추출하기 때문에 정답 비중이 고르게 분포하지 않을 수 있다.\n",
        "  - 그러다보니 정답레이블이 불균형일 수 있다. 불균형 또는 다중분류인 경우는 Skf를 통해 정답 라벨 불균형을 해소해준다!"
      ],
      "metadata": {
        "id": "GbAMaDdGx_VD"
      }
    },
    {
      "cell_type": "code",
      "source": [
        "label\n",
        "# 0,1,2로 3개로 분류"
      ],
      "metadata": {
        "colab": {
          "base_uri": "https://localhost:8080/"
        },
        "id": "uHc-RYcFrl5l",
        "outputId": "3aaa1a6a-0971-4ff7-dd72-1412939f9212"
      },
      "execution_count": 58,
      "outputs": [
        {
          "output_type": "execute_result",
          "data": {
            "text/plain": [
              "array([0, 0, 0, 0, 0, 0, 0, 0, 0, 0, 0, 0, 0, 0, 0, 0, 0, 0, 0, 0, 0, 0,\n",
              "       0, 0, 0, 0, 0, 0, 0, 0, 0, 0, 0, 0, 0, 0, 0, 0, 0, 0, 0, 0, 0, 0,\n",
              "       0, 0, 0, 0, 0, 0, 1, 1, 1, 1, 1, 1, 1, 1, 1, 1, 1, 1, 1, 1, 1, 1,\n",
              "       1, 1, 1, 1, 1, 1, 1, 1, 1, 1, 1, 1, 1, 1, 1, 1, 1, 1, 1, 1, 1, 1,\n",
              "       1, 1, 1, 1, 1, 1, 1, 1, 1, 1, 1, 1, 2, 2, 2, 2, 2, 2, 2, 2, 2, 2,\n",
              "       2, 2, 2, 2, 2, 2, 2, 2, 2, 2, 2, 2, 2, 2, 2, 2, 2, 2, 2, 2, 2, 2,\n",
              "       2, 2, 2, 2, 2, 2, 2, 2, 2, 2, 2, 2, 2, 2, 2, 2, 2, 2])"
            ]
          },
          "metadata": {},
          "execution_count": 58
        }
      ]
    },
    {
      "cell_type": "code",
      "source": [
        "from sklearn.model_selection import StratifiedKFold\n",
        "skf_iris = StratifiedKFold(n_splits=3)\n",
        "cnt_iter=0"
      ],
      "metadata": {
        "id": "oHw4o-aXybFQ"
      },
      "execution_count": 59,
      "outputs": []
    },
    {
      "cell_type": "code",
      "source": [
        "skf_iris"
      ],
      "metadata": {
        "colab": {
          "base_uri": "https://localhost:8080/"
        },
        "id": "0EN9VtuKz1-y",
        "outputId": "7502f439-b35e-4366-d647-40b36f54722f"
      },
      "execution_count": 60,
      "outputs": [
        {
          "output_type": "execute_result",
          "data": {
            "text/plain": [
              "StratifiedKFold(n_splits=3, random_state=None, shuffle=False)"
            ]
          },
          "metadata": {},
          "execution_count": 60
        }
      ]
    },
    {
      "cell_type": "code",
      "source": [
        "n_iter=0\n",
        "\n",
        "skf_cv_accuracy_train = []\n",
        "skf_cv_accuracy_test = []\n",
        "skf_model = DecisionTreeClassifier(random_state=111, max_depth=3)\n",
        "\n",
        "for train_idx, test_idx in skf_iris.split(features, label):\n",
        "    X_train, X_test = features[train_idx], features[test_idx]\n",
        "    y_train, y_test = label[train_idx], label[test_idx]\n",
        "\n",
        "    #학습을 위해서 dt배우기\n",
        "    skf_model.fit(X_train, y_train)\n",
        "    #예측\n",
        "    skf_pred_train = skf_model.predict(X_train)\n",
        "    skf_pred_test = skf_model.predict(X_test)\n",
        "\n",
        "    #정확도를 5번 측정하면서 값에 넣을 것이니\n",
        "    n_iter +=1\n",
        "    accuracy_train = np.round(accuracy_score(y_train, skf_pred_train),4)\n",
        "    accuracy_test = np.round(accuracy_score(y_test, skf_pred_test),4)\n",
        "\n",
        "    print('\\n{} 번 train 교차 검증 정확도 :{} ,test 교차 검증 정확도 :{} '.format(n_iter,accuracy_train, accuracy_test))\n",
        "\n",
        "    skf_cv_accuracy_train.append(accuracy_train)\n",
        "    skf_cv_accuracy_test.append(accuracy_test)\n",
        "print('')\n",
        "print('train 평균 정확도',np.mean(skf_cv_accuracy_train))\n",
        "print('test 평균 정확도',np.mean(skf_cv_accuracy_test))"
      ],
      "metadata": {
        "colab": {
          "base_uri": "https://localhost:8080/"
        },
        "id": "LblF2912z4_i",
        "outputId": "16ea5eed-2c9e-4c1d-d44d-347339dde988"
      },
      "execution_count": 68,
      "outputs": [
        {
          "output_type": "stream",
          "name": "stdout",
          "text": [
            "\n",
            "1 번 train 교차 검증 정확도 :0.95 ,test 교차 검증 정확도 :0.98 \n",
            "\n",
            "2 번 train 교차 검증 정확도 :0.99 ,test 교차 검증 정확도 :0.94 \n",
            "\n",
            "3 번 train 교차 검증 정확도 :0.97 ,test 교차 검증 정확도 :0.96 \n",
            "\n",
            "train 평균 정확도 0.9700000000000001\n",
            "test 평균 정확도 0.96\n"
          ]
        }
      ]
    },
    {
      "cell_type": "markdown",
      "source": [
        "- train에 대해서 과적합이 되는 것은 iris 데이터가 작아서 그런건가?\n",
        "- 최소 타이타닉 데이터 정도 되면 달라질까?"
      ],
      "metadata": {
        "id": "frkssZ9-0zSN"
      }
    },
    {
      "cell_type": "markdown",
      "source": [
        "# 5. KFold, SKf 정리\n",
        "## Kfold\n",
        "- 학습 시에 0,1,2로 구성되어 있는 정답데이터가 고르게 분포 되어 있더라도, 랜덤하게 추출하다 보니 0,1만 있는 데이터, 0만 있는 데이터, 0,2만 있는 데이터로 추출 될 가능성이 있다.\n",
        "- 추출의 비중도 0이 10개, 1이 5개 이렇게\n",
        "- 이런 식으로 학습할 데이터의 라벨이 달라지면 정확도의 문제가 올 수 있다.\n",
        "\n",
        "## Skfold\n",
        "- 학습시에 정답레이블의 불균형을 맞춰준다.\n",
        "- 0,1,2 라벨로 구성되어 있으면 0,1,2이 각각 10개씩 처럼 비중도 맞춰서 학습하게 된다.\n",
        "- 정답레이블에 대한 불균형은 항상 모델링을 진행할 때 확인해야한다!\n",
        "- iris 데이터는 150개 정도라서 다른 데이터 set을 통해서 과제 진행해보자!"
      ],
      "metadata": {
        "id": "sMj_bI2e09Zj"
      }
    },
    {
      "cell_type": "markdown",
      "source": [
        "# 6. 실제 레이블 개수 & 비율 확인"
      ],
      "metadata": {
        "id": "mG0VcanN1qIo"
      }
    },
    {
      "cell_type": "code",
      "source": [
        "import pandas as pd\n",
        "iris=load_iris()\n",
        "\n",
        "iris_df = pd.DataFrame(data=iris.data, columns=iris.feature_names)\n",
        "iris_df['label'] = iris.target"
      ],
      "metadata": {
        "id": "fcHt4f060m3n"
      },
      "execution_count": 70,
      "outputs": []
    },
    {
      "cell_type": "code",
      "source": [
        "## KFold\n",
        "kfold= KFold(n_splits=5)\n",
        "n_iter = 0\n",
        "\n",
        "for train_idx, test_idx in kfold.split(iris_df):\n",
        "    n_iter +=1\n",
        "    label_train = iris_df['label'].iloc[train_idx]\n",
        "    label_test = iris_df['label'].iloc[test_idx]\n",
        "    print('학습 정답 레이블', label_train.value_counts())\n",
        "    print('학습 정답 레이블', label_test.value_counts())"
      ],
      "metadata": {
        "colab": {
          "base_uri": "https://localhost:8080/"
        },
        "id": "4QTTBKU11ycY",
        "outputId": "05314462-552d-4ca3-b6d8-b7dda82d66d0"
      },
      "execution_count": 71,
      "outputs": [
        {
          "output_type": "stream",
          "name": "stdout",
          "text": [
            "학습 정답 레이블 1    50\n",
            "2    50\n",
            "0    20\n",
            "Name: label, dtype: int64\n",
            "학습 정답 레이블 0    30\n",
            "Name: label, dtype: int64\n",
            "학습 정답 레이블 2    50\n",
            "1    40\n",
            "0    30\n",
            "Name: label, dtype: int64\n",
            "학습 정답 레이블 0    20\n",
            "1    10\n",
            "Name: label, dtype: int64\n",
            "학습 정답 레이블 0    50\n",
            "2    50\n",
            "1    20\n",
            "Name: label, dtype: int64\n",
            "학습 정답 레이블 1    30\n",
            "Name: label, dtype: int64\n",
            "학습 정답 레이블 0    50\n",
            "1    40\n",
            "2    30\n",
            "Name: label, dtype: int64\n",
            "학습 정답 레이블 2    20\n",
            "1    10\n",
            "Name: label, dtype: int64\n",
            "학습 정답 레이블 0    50\n",
            "1    50\n",
            "2    20\n",
            "Name: label, dtype: int64\n",
            "학습 정답 레이블 2    30\n",
            "Name: label, dtype: int64\n"
          ]
        }
      ]
    },
    {
      "cell_type": "code",
      "source": [
        "#Skf\n",
        "skf_iris = StratifiedKFold(n_splits=3)\n",
        "n_iter=0\n",
        "\n",
        "for train_idx, test_idx in skf_iris.split(iris_df,iris_df['label']):\n",
        "    n_iter +=1\n",
        "    label_train = iris_df['label'].iloc[train_idx]\n",
        "    label_test = iris_df['label'].iloc[test_idx]\n",
        "    print('학습 정답 레이블', label_train.value_counts())\n",
        "    print('학습 정답 레이블', label_test.value_counts())"
      ],
      "metadata": {
        "colab": {
          "base_uri": "https://localhost:8080/"
        },
        "id": "XqswtWbR102P",
        "outputId": "695c4851-a0f2-4607-fcff-3329f9506262"
      },
      "execution_count": 72,
      "outputs": [
        {
          "output_type": "stream",
          "name": "stdout",
          "text": [
            "학습 정답 레이블 2    34\n",
            "0    33\n",
            "1    33\n",
            "Name: label, dtype: int64\n",
            "학습 정답 레이블 0    17\n",
            "1    17\n",
            "2    16\n",
            "Name: label, dtype: int64\n",
            "학습 정답 레이블 1    34\n",
            "0    33\n",
            "2    33\n",
            "Name: label, dtype: int64\n",
            "학습 정답 레이블 0    17\n",
            "2    17\n",
            "1    16\n",
            "Name: label, dtype: int64\n",
            "학습 정답 레이블 0    34\n",
            "1    33\n",
            "2    33\n",
            "Name: label, dtype: int64\n",
            "학습 정답 레이블 1    17\n",
            "2    17\n",
            "0    16\n",
            "Name: label, dtype: int64\n"
          ]
        }
      ]
    },
    {
      "cell_type": "markdown",
      "source": [
        "- y값의 희소성으로 발생할 수 있는 문제 : 사기탐지, 이상치 탐지 (공모전 주 주제)\n",
        "- y값이 희소한 경우 대부분의 거래는 정상이지만 비정상이 있을 수 있다.(비정상이 낮은 경우)\n",
        "- 즉, 클래스 불균형이 생길 수 있다.\n",
        "- 대부분 문제들이 예측을 하는 경우에는 모든 상황이 0,1 이진으로 나눌 때 균형잡히기가 어려울 수 있다.\n",
        "- 이런 부분을 학습할 때 중요한 포인트이니 학습시에 꼭 불균형을 체크해야한다!"
      ],
      "metadata": {
        "id": "nwWKW6hB2ERv"
      }
    },
    {
      "cell_type": "code",
      "source": [],
      "metadata": {
        "id": "qWDhu9kz2aGn"
      },
      "execution_count": null,
      "outputs": []
    }
  ]
}