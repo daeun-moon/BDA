{
  "nbformat": 4,
  "nbformat_minor": 0,
  "metadata": {
    "colab": {
      "provenance": []
    },
    "kernelspec": {
      "name": "python3",
      "display_name": "Python 3"
    },
    "language_info": {
      "name": "python"
    }
  },
  "cells": [
    {
      "cell_type": "code",
      "execution_count": 4,
      "metadata": {
        "id": "-UbMjUy53mL5"
      },
      "outputs": [],
      "source": [
        "from sklearn.tree import DecisionTreeClassifier\n",
        "from sklearn.ensemble import RandomForestClassifier\n",
        "from sklearn.linear_model import LogisticRegression\n",
        "from sklearn.model_selection import cross_val_score, cross_validate\n",
        "from sklearn.datasets import load_iris\n",
        "import numpy as np"
      ]
    },
    {
      "cell_type": "code",
      "source": [
        "# 경고무시\n",
        "import warnings\n",
        "warnings.filterwarnings(action  = 'ignore')"
      ],
      "metadata": {
        "id": "8NfQhthr5Fnl"
      },
      "execution_count": 11,
      "outputs": []
    },
    {
      "cell_type": "markdown",
      "source": [
        "# 교차검증\n",
        "- cross_val_score, cross_validate\n",
        "- 많이 사용하는 교차검증 방법\n",
        "- 기능적으로 좋은 부분 : 자체적으로 데이터 타입이 회귀 또는 분류에 따라서 kf, skf 바꿔서 작업 해줌\n",
        "- 데이터의 불균형이나 이런 것들 또는 타입에 따른 데이터 검증 방법을 생각할 필요 없어서 편하게 사용 가능\n",
        "- cross_val_score(사용할 모델, x값, y값, scoring(평가할 스코어링 방법), cv(몇번 교차검증 할 것인가), n_jobs(cpu사용에 대한 지정), verbose(진행상황보기), fit_params 등)"
      ],
      "metadata": {
        "id": "MHsvQeaS4B3j"
      }
    },
    {
      "cell_type": "code",
      "source": [
        "iris_data = load_iris()\n",
        "data= iris_data.data\n",
        "label= iris_data.target"
      ],
      "metadata": {
        "id": "BQZ3KOm04igS"
      },
      "execution_count": 5,
      "outputs": []
    },
    {
      "cell_type": "code",
      "source": [
        "dt_clf = DecisionTreeClassifier(random_state=111)"
      ],
      "metadata": {
        "id": "5yKrAwXq4ovl"
      },
      "execution_count": 6,
      "outputs": []
    },
    {
      "cell_type": "code",
      "source": [
        "#교차검증 진행\n",
        "scores = cross_val_score(dt_clf, data, label, scoring='accuracy',cv=5)\n",
        "print(np.round(np.mean(scores),3))"
      ],
      "metadata": {
        "colab": {
          "base_uri": "https://localhost:8080/"
        },
        "id": "hEJK70804yTP",
        "outputId": "2acbb449-8fe8-45d8-efff-5ca8be531197"
      },
      "execution_count": 7,
      "outputs": [
        {
          "output_type": "stream",
          "name": "stdout",
          "text": [
            "0.96\n"
          ]
        }
      ]
    },
    {
      "cell_type": "code",
      "source": [
        "# cross validate\n",
        "# 소요시간, train, test에 대한 내가 원하는 지표를 다 볼 수 있다.\n",
        "crs=cross_validate(dt_clf, data, label, scoring='accuracy',cv=5, return_train_score=True)\n",
        "crs"
      ],
      "metadata": {
        "colab": {
          "base_uri": "https://localhost:8080/"
        },
        "id": "PR89L9W4411d",
        "outputId": "98c535d8-56cd-4be1-c80a-cf29b1279272"
      },
      "execution_count": 8,
      "outputs": [
        {
          "output_type": "execute_result",
          "data": {
            "text/plain": [
              "{'fit_time': array([0.00140047, 0.00303507, 0.00111485, 0.00102067, 0.00099969]),\n",
              " 'score_time': array([0.00074935, 0.0015142 , 0.00054932, 0.00060058, 0.00057101]),\n",
              " 'test_score': array([0.96666667, 0.96666667, 0.9       , 0.96666667, 1.        ]),\n",
              " 'train_score': array([1., 1., 1., 1., 1.])}"
            ]
          },
          "metadata": {},
          "execution_count": 8
        }
      ]
    },
    {
      "cell_type": "code",
      "source": [
        "import pandas as pd\n",
        "pd.DataFrame(crs)"
      ],
      "metadata": {
        "colab": {
          "base_uri": "https://localhost:8080/",
          "height": 206
        },
        "id": "8RLY6Mu544Af",
        "outputId": "28f9df2d-8897-47d4-85cc-3ebd2a6a1fd0"
      },
      "execution_count": 9,
      "outputs": [
        {
          "output_type": "execute_result",
          "data": {
            "text/plain": [
              "   fit_time  score_time  test_score  train_score\n",
              "0  0.001400    0.000749    0.966667          1.0\n",
              "1  0.003035    0.001514    0.966667          1.0\n",
              "2  0.001115    0.000549    0.900000          1.0\n",
              "3  0.001021    0.000601    0.966667          1.0\n",
              "4  0.001000    0.000571    1.000000          1.0"
            ],
            "text/html": [
              "\n",
              "  <div id=\"df-a7a67bd0-7b00-473c-8fc2-d4a8328d131b\" class=\"colab-df-container\">\n",
              "    <div>\n",
              "<style scoped>\n",
              "    .dataframe tbody tr th:only-of-type {\n",
              "        vertical-align: middle;\n",
              "    }\n",
              "\n",
              "    .dataframe tbody tr th {\n",
              "        vertical-align: top;\n",
              "    }\n",
              "\n",
              "    .dataframe thead th {\n",
              "        text-align: right;\n",
              "    }\n",
              "</style>\n",
              "<table border=\"1\" class=\"dataframe\">\n",
              "  <thead>\n",
              "    <tr style=\"text-align: right;\">\n",
              "      <th></th>\n",
              "      <th>fit_time</th>\n",
              "      <th>score_time</th>\n",
              "      <th>test_score</th>\n",
              "      <th>train_score</th>\n",
              "    </tr>\n",
              "  </thead>\n",
              "  <tbody>\n",
              "    <tr>\n",
              "      <th>0</th>\n",
              "      <td>0.001400</td>\n",
              "      <td>0.000749</td>\n",
              "      <td>0.966667</td>\n",
              "      <td>1.0</td>\n",
              "    </tr>\n",
              "    <tr>\n",
              "      <th>1</th>\n",
              "      <td>0.003035</td>\n",
              "      <td>0.001514</td>\n",
              "      <td>0.966667</td>\n",
              "      <td>1.0</td>\n",
              "    </tr>\n",
              "    <tr>\n",
              "      <th>2</th>\n",
              "      <td>0.001115</td>\n",
              "      <td>0.000549</td>\n",
              "      <td>0.900000</td>\n",
              "      <td>1.0</td>\n",
              "    </tr>\n",
              "    <tr>\n",
              "      <th>3</th>\n",
              "      <td>0.001021</td>\n",
              "      <td>0.000601</td>\n",
              "      <td>0.966667</td>\n",
              "      <td>1.0</td>\n",
              "    </tr>\n",
              "    <tr>\n",
              "      <th>4</th>\n",
              "      <td>0.001000</td>\n",
              "      <td>0.000571</td>\n",
              "      <td>1.000000</td>\n",
              "      <td>1.0</td>\n",
              "    </tr>\n",
              "  </tbody>\n",
              "</table>\n",
              "</div>\n",
              "    <div class=\"colab-df-buttons\">\n",
              "\n",
              "  <div class=\"colab-df-container\">\n",
              "    <button class=\"colab-df-convert\" onclick=\"convertToInteractive('df-a7a67bd0-7b00-473c-8fc2-d4a8328d131b')\"\n",
              "            title=\"Convert this dataframe to an interactive table.\"\n",
              "            style=\"display:none;\">\n",
              "\n",
              "  <svg xmlns=\"http://www.w3.org/2000/svg\" height=\"24px\" viewBox=\"0 -960 960 960\">\n",
              "    <path d=\"M120-120v-720h720v720H120Zm60-500h600v-160H180v160Zm220 220h160v-160H400v160Zm0 220h160v-160H400v160ZM180-400h160v-160H180v160Zm440 0h160v-160H620v160ZM180-180h160v-160H180v160Zm440 0h160v-160H620v160Z\"/>\n",
              "  </svg>\n",
              "    </button>\n",
              "\n",
              "  <style>\n",
              "    .colab-df-container {\n",
              "      display:flex;\n",
              "      gap: 12px;\n",
              "    }\n",
              "\n",
              "    .colab-df-convert {\n",
              "      background-color: #E8F0FE;\n",
              "      border: none;\n",
              "      border-radius: 50%;\n",
              "      cursor: pointer;\n",
              "      display: none;\n",
              "      fill: #1967D2;\n",
              "      height: 32px;\n",
              "      padding: 0 0 0 0;\n",
              "      width: 32px;\n",
              "    }\n",
              "\n",
              "    .colab-df-convert:hover {\n",
              "      background-color: #E2EBFA;\n",
              "      box-shadow: 0px 1px 2px rgba(60, 64, 67, 0.3), 0px 1px 3px 1px rgba(60, 64, 67, 0.15);\n",
              "      fill: #174EA6;\n",
              "    }\n",
              "\n",
              "    .colab-df-buttons div {\n",
              "      margin-bottom: 4px;\n",
              "    }\n",
              "\n",
              "    [theme=dark] .colab-df-convert {\n",
              "      background-color: #3B4455;\n",
              "      fill: #D2E3FC;\n",
              "    }\n",
              "\n",
              "    [theme=dark] .colab-df-convert:hover {\n",
              "      background-color: #434B5C;\n",
              "      box-shadow: 0px 1px 3px 1px rgba(0, 0, 0, 0.15);\n",
              "      filter: drop-shadow(0px 1px 2px rgba(0, 0, 0, 0.3));\n",
              "      fill: #FFFFFF;\n",
              "    }\n",
              "  </style>\n",
              "\n",
              "    <script>\n",
              "      const buttonEl =\n",
              "        document.querySelector('#df-a7a67bd0-7b00-473c-8fc2-d4a8328d131b button.colab-df-convert');\n",
              "      buttonEl.style.display =\n",
              "        google.colab.kernel.accessAllowed ? 'block' : 'none';\n",
              "\n",
              "      async function convertToInteractive(key) {\n",
              "        const element = document.querySelector('#df-a7a67bd0-7b00-473c-8fc2-d4a8328d131b');\n",
              "        const dataTable =\n",
              "          await google.colab.kernel.invokeFunction('convertToInteractive',\n",
              "                                                    [key], {});\n",
              "        if (!dataTable) return;\n",
              "\n",
              "        const docLinkHtml = 'Like what you see? Visit the ' +\n",
              "          '<a target=\"_blank\" href=https://colab.research.google.com/notebooks/data_table.ipynb>data table notebook</a>'\n",
              "          + ' to learn more about interactive tables.';\n",
              "        element.innerHTML = '';\n",
              "        dataTable['output_type'] = 'display_data';\n",
              "        await google.colab.output.renderOutput(dataTable, element);\n",
              "        const docLink = document.createElement('div');\n",
              "        docLink.innerHTML = docLinkHtml;\n",
              "        element.appendChild(docLink);\n",
              "      }\n",
              "    </script>\n",
              "  </div>\n",
              "\n",
              "\n",
              "<div id=\"df-e6ac4e19-f6a0-4a66-ac45-093b4dd06b32\">\n",
              "  <button class=\"colab-df-quickchart\" onclick=\"quickchart('df-e6ac4e19-f6a0-4a66-ac45-093b4dd06b32')\"\n",
              "            title=\"Suggest charts.\"\n",
              "            style=\"display:none;\">\n",
              "\n",
              "<svg xmlns=\"http://www.w3.org/2000/svg\" height=\"24px\"viewBox=\"0 0 24 24\"\n",
              "     width=\"24px\">\n",
              "    <g>\n",
              "        <path d=\"M19 3H5c-1.1 0-2 .9-2 2v14c0 1.1.9 2 2 2h14c1.1 0 2-.9 2-2V5c0-1.1-.9-2-2-2zM9 17H7v-7h2v7zm4 0h-2V7h2v10zm4 0h-2v-4h2v4z\"/>\n",
              "    </g>\n",
              "</svg>\n",
              "  </button>\n",
              "\n",
              "<style>\n",
              "  .colab-df-quickchart {\n",
              "      --bg-color: #E8F0FE;\n",
              "      --fill-color: #1967D2;\n",
              "      --hover-bg-color: #E2EBFA;\n",
              "      --hover-fill-color: #174EA6;\n",
              "      --disabled-fill-color: #AAA;\n",
              "      --disabled-bg-color: #DDD;\n",
              "  }\n",
              "\n",
              "  [theme=dark] .colab-df-quickchart {\n",
              "      --bg-color: #3B4455;\n",
              "      --fill-color: #D2E3FC;\n",
              "      --hover-bg-color: #434B5C;\n",
              "      --hover-fill-color: #FFFFFF;\n",
              "      --disabled-bg-color: #3B4455;\n",
              "      --disabled-fill-color: #666;\n",
              "  }\n",
              "\n",
              "  .colab-df-quickchart {\n",
              "    background-color: var(--bg-color);\n",
              "    border: none;\n",
              "    border-radius: 50%;\n",
              "    cursor: pointer;\n",
              "    display: none;\n",
              "    fill: var(--fill-color);\n",
              "    height: 32px;\n",
              "    padding: 0;\n",
              "    width: 32px;\n",
              "  }\n",
              "\n",
              "  .colab-df-quickchart:hover {\n",
              "    background-color: var(--hover-bg-color);\n",
              "    box-shadow: 0 1px 2px rgba(60, 64, 67, 0.3), 0 1px 3px 1px rgba(60, 64, 67, 0.15);\n",
              "    fill: var(--button-hover-fill-color);\n",
              "  }\n",
              "\n",
              "  .colab-df-quickchart-complete:disabled,\n",
              "  .colab-df-quickchart-complete:disabled:hover {\n",
              "    background-color: var(--disabled-bg-color);\n",
              "    fill: var(--disabled-fill-color);\n",
              "    box-shadow: none;\n",
              "  }\n",
              "\n",
              "  .colab-df-spinner {\n",
              "    border: 2px solid var(--fill-color);\n",
              "    border-color: transparent;\n",
              "    border-bottom-color: var(--fill-color);\n",
              "    animation:\n",
              "      spin 1s steps(1) infinite;\n",
              "  }\n",
              "\n",
              "  @keyframes spin {\n",
              "    0% {\n",
              "      border-color: transparent;\n",
              "      border-bottom-color: var(--fill-color);\n",
              "      border-left-color: var(--fill-color);\n",
              "    }\n",
              "    20% {\n",
              "      border-color: transparent;\n",
              "      border-left-color: var(--fill-color);\n",
              "      border-top-color: var(--fill-color);\n",
              "    }\n",
              "    30% {\n",
              "      border-color: transparent;\n",
              "      border-left-color: var(--fill-color);\n",
              "      border-top-color: var(--fill-color);\n",
              "      border-right-color: var(--fill-color);\n",
              "    }\n",
              "    40% {\n",
              "      border-color: transparent;\n",
              "      border-right-color: var(--fill-color);\n",
              "      border-top-color: var(--fill-color);\n",
              "    }\n",
              "    60% {\n",
              "      border-color: transparent;\n",
              "      border-right-color: var(--fill-color);\n",
              "    }\n",
              "    80% {\n",
              "      border-color: transparent;\n",
              "      border-right-color: var(--fill-color);\n",
              "      border-bottom-color: var(--fill-color);\n",
              "    }\n",
              "    90% {\n",
              "      border-color: transparent;\n",
              "      border-bottom-color: var(--fill-color);\n",
              "    }\n",
              "  }\n",
              "</style>\n",
              "\n",
              "  <script>\n",
              "    async function quickchart(key) {\n",
              "      const quickchartButtonEl =\n",
              "        document.querySelector('#' + key + ' button');\n",
              "      quickchartButtonEl.disabled = true;  // To prevent multiple clicks.\n",
              "      quickchartButtonEl.classList.add('colab-df-spinner');\n",
              "      try {\n",
              "        const charts = await google.colab.kernel.invokeFunction(\n",
              "            'suggestCharts', [key], {});\n",
              "      } catch (error) {\n",
              "        console.error('Error during call to suggestCharts:', error);\n",
              "      }\n",
              "      quickchartButtonEl.classList.remove('colab-df-spinner');\n",
              "      quickchartButtonEl.classList.add('colab-df-quickchart-complete');\n",
              "    }\n",
              "    (() => {\n",
              "      let quickchartButtonEl =\n",
              "        document.querySelector('#df-e6ac4e19-f6a0-4a66-ac45-093b4dd06b32 button');\n",
              "      quickchartButtonEl.style.display =\n",
              "        google.colab.kernel.accessAllowed ? 'block' : 'none';\n",
              "    })();\n",
              "  </script>\n",
              "</div>\n",
              "    </div>\n",
              "  </div>\n"
            ]
          },
          "metadata": {},
          "execution_count": 9
        }
      ]
    },
    {
      "cell_type": "code",
      "source": [
        "scores"
      ],
      "metadata": {
        "colab": {
          "base_uri": "https://localhost:8080/"
        },
        "id": "OGUm5zp_4_Hx",
        "outputId": "94fa8a30-e0ab-4469-93c8-905baf1696aa"
      },
      "execution_count": 10,
      "outputs": [
        {
          "output_type": "execute_result",
          "data": {
            "text/plain": [
              "array([0.96666667, 0.96666667, 0.9       , 0.96666667, 1.        ])"
            ]
          },
          "metadata": {},
          "execution_count": 10
        }
      ]
    },
    {
      "cell_type": "markdown",
      "source": [
        "# Confusion Matrix\n",
        "- 정확도, 정밀도, 재현율, f1 스코어, auc, roc 커브"
      ],
      "metadata": {
        "id": "7dmyevwo5MQp"
      }
    },
    {
      "cell_type": "code",
      "source": [
        "scores = cross_val_score(dt_clf, data, label, scoring='precision',cv=5)\n",
        "scores"
      ],
      "metadata": {
        "colab": {
          "base_uri": "https://localhost:8080/"
        },
        "id": "h1uFo0B45Q-w",
        "outputId": "b7118531-bcf3-4461-f1ea-d60e1f1373e5"
      },
      "execution_count": 13,
      "outputs": [
        {
          "output_type": "execute_result",
          "data": {
            "text/plain": [
              "array([nan, nan, nan, nan, nan])"
            ]
          },
          "metadata": {},
          "execution_count": 13
        }
      ]
    },
    {
      "cell_type": "code",
      "source": [
        "scores = cross_val_score(dt_clf, data, label, scoring='f1',cv=5)\n",
        "scores"
      ],
      "metadata": {
        "colab": {
          "base_uri": "https://localhost:8080/"
        },
        "id": "bGxVGnOU5Tj2",
        "outputId": "15215605-88f5-4526-8175-d70d444fbfa8"
      },
      "execution_count": 15,
      "outputs": [
        {
          "output_type": "execute_result",
          "data": {
            "text/plain": [
              "array([nan, nan, nan, nan, nan])"
            ]
          },
          "metadata": {},
          "execution_count": 15
        }
      ]
    },
    {
      "cell_type": "markdown",
      "source": [
        "- 왜 nan이 나올까???\n",
        "- 정확도, 정밀도, 재현율, f1스코어, auc, roc커브 등 여러 지표들은 이진분류를 바탕으로 계산 진행\n",
        "- BUT 아이리스 데이터는 다중분류!"
      ],
      "metadata": {
        "id": "dY0RwpML5a3j"
      }
    },
    {
      "cell_type": "markdown",
      "source": [
        "# 다중분류 진행 시 정확도 외 다른 평가지표에 대한 가중치 설정 방법\n",
        "- 다중분류시 평가지표를 확인하기 위해서는 _micro, _macro, _weighted 이런 식으로 사용\n",
        "- macro : 모든 예측결과에 대해 평균을 내어서 값을 계산하는 방법\n",
        "- micro : 각각의 정답에 대한 개수를 가지고 평균값을 구한다.\n",
        "- weighted : 가중 평균값을 구한다. 가중치를 주고 싶은 것에 줄 수 있다"
      ],
      "metadata": {
        "id": "7va7m1Zf5nZC"
      }
    },
    {
      "cell_type": "markdown",
      "source": [
        "## macro, micro, weighted 예시\n",
        "- 4개의 클래스로 분류 : 0,1,2,3 클래스 존재\n",
        "- precision 값을 계산해보니\n",
        "  - 0 0.5 = 1/2\n",
        "  - 1 0.1 = 10/100\n",
        "  - 2 0.5 = 1/2\n",
        "  - 3 0.5 = 1/2\n",
        "- macro :\n",
        "  (0.5+0.1+0.5+0.5)/4 = 0.4\n",
        "- micro :\n",
        "  (1+10+1+1)/(2+100+2+2) = 0.1226\n",
        "- 클래스에 대한 불균형에 따라서 두 개의 값을 다르게 사용\n",
        "- 대부분 둘 다 사용하고 두 지표 보여주면서 이렇게 나왔습니다 하고 넘어가는 경우가 다수\n",
        "\n",
        "### 그렇다면 둘의 차이는?\n",
        "- 클래스 불균형일 때 영향도를 생각해서 사용!\n",
        "  - 2,100,2,2 총 206개의 클래스에서\n",
        "  - 랜덤하게 데이터를 뽑는다고 하면\n",
        "  - 확률적으로 우리는 클래스 1을 뽑을 확률이 제일 높다.\n",
        "  - 사기 탐지를 예시로 보면 대부분 정상이라 사기인 경우는 적다.\n",
        "  - 대부분의 데이터는 정상 , 사기는 아주 희귀하게 한 두개 존재"
      ],
      "metadata": {
        "id": "0lC2QSq76HxI"
      }
    },
    {
      "cell_type": "code",
      "source": [
        "#  _micro\n",
        "scores = cross_val_score(dt_clf, data, label, scoring='precision_micro',cv=5)\n",
        "scores"
      ],
      "metadata": {
        "colab": {
          "base_uri": "https://localhost:8080/"
        },
        "id": "X0BtVOeT5YIg",
        "outputId": "efed5850-cbb0-4e1e-8dd1-b0298f632c4a"
      },
      "execution_count": 16,
      "outputs": [
        {
          "output_type": "execute_result",
          "data": {
            "text/plain": [
              "array([0.96666667, 0.96666667, 0.9       , 0.96666667, 1.        ])"
            ]
          },
          "metadata": {},
          "execution_count": 16
        }
      ]
    },
    {
      "cell_type": "code",
      "source": [
        "import seaborn as sns\n",
        "df =sns.load_dataset('titanic')\n",
        "df_tt=df[['pclass','fare']]\n",
        "df_tt"
      ],
      "metadata": {
        "colab": {
          "base_uri": "https://localhost:8080/",
          "height": 423
        },
        "id": "F9GgTjya5-Ez",
        "outputId": "981dd199-4ff9-4508-8a27-187a6fa918db"
      },
      "execution_count": 18,
      "outputs": [
        {
          "output_type": "execute_result",
          "data": {
            "text/plain": [
              "     pclass     fare\n",
              "0         3   7.2500\n",
              "1         1  71.2833\n",
              "2         3   7.9250\n",
              "3         1  53.1000\n",
              "4         3   8.0500\n",
              "..      ...      ...\n",
              "886       2  13.0000\n",
              "887       1  30.0000\n",
              "888       3  23.4500\n",
              "889       1  30.0000\n",
              "890       3   7.7500\n",
              "\n",
              "[891 rows x 2 columns]"
            ],
            "text/html": [
              "\n",
              "  <div id=\"df-749874d6-eb7c-4624-a1da-db9d7ae5d679\" class=\"colab-df-container\">\n",
              "    <div>\n",
              "<style scoped>\n",
              "    .dataframe tbody tr th:only-of-type {\n",
              "        vertical-align: middle;\n",
              "    }\n",
              "\n",
              "    .dataframe tbody tr th {\n",
              "        vertical-align: top;\n",
              "    }\n",
              "\n",
              "    .dataframe thead th {\n",
              "        text-align: right;\n",
              "    }\n",
              "</style>\n",
              "<table border=\"1\" class=\"dataframe\">\n",
              "  <thead>\n",
              "    <tr style=\"text-align: right;\">\n",
              "      <th></th>\n",
              "      <th>pclass</th>\n",
              "      <th>fare</th>\n",
              "    </tr>\n",
              "  </thead>\n",
              "  <tbody>\n",
              "    <tr>\n",
              "      <th>0</th>\n",
              "      <td>3</td>\n",
              "      <td>7.2500</td>\n",
              "    </tr>\n",
              "    <tr>\n",
              "      <th>1</th>\n",
              "      <td>1</td>\n",
              "      <td>71.2833</td>\n",
              "    </tr>\n",
              "    <tr>\n",
              "      <th>2</th>\n",
              "      <td>3</td>\n",
              "      <td>7.9250</td>\n",
              "    </tr>\n",
              "    <tr>\n",
              "      <th>3</th>\n",
              "      <td>1</td>\n",
              "      <td>53.1000</td>\n",
              "    </tr>\n",
              "    <tr>\n",
              "      <th>4</th>\n",
              "      <td>3</td>\n",
              "      <td>8.0500</td>\n",
              "    </tr>\n",
              "    <tr>\n",
              "      <th>...</th>\n",
              "      <td>...</td>\n",
              "      <td>...</td>\n",
              "    </tr>\n",
              "    <tr>\n",
              "      <th>886</th>\n",
              "      <td>2</td>\n",
              "      <td>13.0000</td>\n",
              "    </tr>\n",
              "    <tr>\n",
              "      <th>887</th>\n",
              "      <td>1</td>\n",
              "      <td>30.0000</td>\n",
              "    </tr>\n",
              "    <tr>\n",
              "      <th>888</th>\n",
              "      <td>3</td>\n",
              "      <td>23.4500</td>\n",
              "    </tr>\n",
              "    <tr>\n",
              "      <th>889</th>\n",
              "      <td>1</td>\n",
              "      <td>30.0000</td>\n",
              "    </tr>\n",
              "    <tr>\n",
              "      <th>890</th>\n",
              "      <td>3</td>\n",
              "      <td>7.7500</td>\n",
              "    </tr>\n",
              "  </tbody>\n",
              "</table>\n",
              "<p>891 rows × 2 columns</p>\n",
              "</div>\n",
              "    <div class=\"colab-df-buttons\">\n",
              "\n",
              "  <div class=\"colab-df-container\">\n",
              "    <button class=\"colab-df-convert\" onclick=\"convertToInteractive('df-749874d6-eb7c-4624-a1da-db9d7ae5d679')\"\n",
              "            title=\"Convert this dataframe to an interactive table.\"\n",
              "            style=\"display:none;\">\n",
              "\n",
              "  <svg xmlns=\"http://www.w3.org/2000/svg\" height=\"24px\" viewBox=\"0 -960 960 960\">\n",
              "    <path d=\"M120-120v-720h720v720H120Zm60-500h600v-160H180v160Zm220 220h160v-160H400v160Zm0 220h160v-160H400v160ZM180-400h160v-160H180v160Zm440 0h160v-160H620v160ZM180-180h160v-160H180v160Zm440 0h160v-160H620v160Z\"/>\n",
              "  </svg>\n",
              "    </button>\n",
              "\n",
              "  <style>\n",
              "    .colab-df-container {\n",
              "      display:flex;\n",
              "      gap: 12px;\n",
              "    }\n",
              "\n",
              "    .colab-df-convert {\n",
              "      background-color: #E8F0FE;\n",
              "      border: none;\n",
              "      border-radius: 50%;\n",
              "      cursor: pointer;\n",
              "      display: none;\n",
              "      fill: #1967D2;\n",
              "      height: 32px;\n",
              "      padding: 0 0 0 0;\n",
              "      width: 32px;\n",
              "    }\n",
              "\n",
              "    .colab-df-convert:hover {\n",
              "      background-color: #E2EBFA;\n",
              "      box-shadow: 0px 1px 2px rgba(60, 64, 67, 0.3), 0px 1px 3px 1px rgba(60, 64, 67, 0.15);\n",
              "      fill: #174EA6;\n",
              "    }\n",
              "\n",
              "    .colab-df-buttons div {\n",
              "      margin-bottom: 4px;\n",
              "    }\n",
              "\n",
              "    [theme=dark] .colab-df-convert {\n",
              "      background-color: #3B4455;\n",
              "      fill: #D2E3FC;\n",
              "    }\n",
              "\n",
              "    [theme=dark] .colab-df-convert:hover {\n",
              "      background-color: #434B5C;\n",
              "      box-shadow: 0px 1px 3px 1px rgba(0, 0, 0, 0.15);\n",
              "      filter: drop-shadow(0px 1px 2px rgba(0, 0, 0, 0.3));\n",
              "      fill: #FFFFFF;\n",
              "    }\n",
              "  </style>\n",
              "\n",
              "    <script>\n",
              "      const buttonEl =\n",
              "        document.querySelector('#df-749874d6-eb7c-4624-a1da-db9d7ae5d679 button.colab-df-convert');\n",
              "      buttonEl.style.display =\n",
              "        google.colab.kernel.accessAllowed ? 'block' : 'none';\n",
              "\n",
              "      async function convertToInteractive(key) {\n",
              "        const element = document.querySelector('#df-749874d6-eb7c-4624-a1da-db9d7ae5d679');\n",
              "        const dataTable =\n",
              "          await google.colab.kernel.invokeFunction('convertToInteractive',\n",
              "                                                    [key], {});\n",
              "        if (!dataTable) return;\n",
              "\n",
              "        const docLinkHtml = 'Like what you see? Visit the ' +\n",
              "          '<a target=\"_blank\" href=https://colab.research.google.com/notebooks/data_table.ipynb>data table notebook</a>'\n",
              "          + ' to learn more about interactive tables.';\n",
              "        element.innerHTML = '';\n",
              "        dataTable['output_type'] = 'display_data';\n",
              "        await google.colab.output.renderOutput(dataTable, element);\n",
              "        const docLink = document.createElement('div');\n",
              "        docLink.innerHTML = docLinkHtml;\n",
              "        element.appendChild(docLink);\n",
              "      }\n",
              "    </script>\n",
              "  </div>\n",
              "\n",
              "\n",
              "<div id=\"df-c1c314fb-4184-42fc-8d40-40524e0f5ac1\">\n",
              "  <button class=\"colab-df-quickchart\" onclick=\"quickchart('df-c1c314fb-4184-42fc-8d40-40524e0f5ac1')\"\n",
              "            title=\"Suggest charts.\"\n",
              "            style=\"display:none;\">\n",
              "\n",
              "<svg xmlns=\"http://www.w3.org/2000/svg\" height=\"24px\"viewBox=\"0 0 24 24\"\n",
              "     width=\"24px\">\n",
              "    <g>\n",
              "        <path d=\"M19 3H5c-1.1 0-2 .9-2 2v14c0 1.1.9 2 2 2h14c1.1 0 2-.9 2-2V5c0-1.1-.9-2-2-2zM9 17H7v-7h2v7zm4 0h-2V7h2v10zm4 0h-2v-4h2v4z\"/>\n",
              "    </g>\n",
              "</svg>\n",
              "  </button>\n",
              "\n",
              "<style>\n",
              "  .colab-df-quickchart {\n",
              "      --bg-color: #E8F0FE;\n",
              "      --fill-color: #1967D2;\n",
              "      --hover-bg-color: #E2EBFA;\n",
              "      --hover-fill-color: #174EA6;\n",
              "      --disabled-fill-color: #AAA;\n",
              "      --disabled-bg-color: #DDD;\n",
              "  }\n",
              "\n",
              "  [theme=dark] .colab-df-quickchart {\n",
              "      --bg-color: #3B4455;\n",
              "      --fill-color: #D2E3FC;\n",
              "      --hover-bg-color: #434B5C;\n",
              "      --hover-fill-color: #FFFFFF;\n",
              "      --disabled-bg-color: #3B4455;\n",
              "      --disabled-fill-color: #666;\n",
              "  }\n",
              "\n",
              "  .colab-df-quickchart {\n",
              "    background-color: var(--bg-color);\n",
              "    border: none;\n",
              "    border-radius: 50%;\n",
              "    cursor: pointer;\n",
              "    display: none;\n",
              "    fill: var(--fill-color);\n",
              "    height: 32px;\n",
              "    padding: 0;\n",
              "    width: 32px;\n",
              "  }\n",
              "\n",
              "  .colab-df-quickchart:hover {\n",
              "    background-color: var(--hover-bg-color);\n",
              "    box-shadow: 0 1px 2px rgba(60, 64, 67, 0.3), 0 1px 3px 1px rgba(60, 64, 67, 0.15);\n",
              "    fill: var(--button-hover-fill-color);\n",
              "  }\n",
              "\n",
              "  .colab-df-quickchart-complete:disabled,\n",
              "  .colab-df-quickchart-complete:disabled:hover {\n",
              "    background-color: var(--disabled-bg-color);\n",
              "    fill: var(--disabled-fill-color);\n",
              "    box-shadow: none;\n",
              "  }\n",
              "\n",
              "  .colab-df-spinner {\n",
              "    border: 2px solid var(--fill-color);\n",
              "    border-color: transparent;\n",
              "    border-bottom-color: var(--fill-color);\n",
              "    animation:\n",
              "      spin 1s steps(1) infinite;\n",
              "  }\n",
              "\n",
              "  @keyframes spin {\n",
              "    0% {\n",
              "      border-color: transparent;\n",
              "      border-bottom-color: var(--fill-color);\n",
              "      border-left-color: var(--fill-color);\n",
              "    }\n",
              "    20% {\n",
              "      border-color: transparent;\n",
              "      border-left-color: var(--fill-color);\n",
              "      border-top-color: var(--fill-color);\n",
              "    }\n",
              "    30% {\n",
              "      border-color: transparent;\n",
              "      border-left-color: var(--fill-color);\n",
              "      border-top-color: var(--fill-color);\n",
              "      border-right-color: var(--fill-color);\n",
              "    }\n",
              "    40% {\n",
              "      border-color: transparent;\n",
              "      border-right-color: var(--fill-color);\n",
              "      border-top-color: var(--fill-color);\n",
              "    }\n",
              "    60% {\n",
              "      border-color: transparent;\n",
              "      border-right-color: var(--fill-color);\n",
              "    }\n",
              "    80% {\n",
              "      border-color: transparent;\n",
              "      border-right-color: var(--fill-color);\n",
              "      border-bottom-color: var(--fill-color);\n",
              "    }\n",
              "    90% {\n",
              "      border-color: transparent;\n",
              "      border-bottom-color: var(--fill-color);\n",
              "    }\n",
              "  }\n",
              "</style>\n",
              "\n",
              "  <script>\n",
              "    async function quickchart(key) {\n",
              "      const quickchartButtonEl =\n",
              "        document.querySelector('#' + key + ' button');\n",
              "      quickchartButtonEl.disabled = true;  // To prevent multiple clicks.\n",
              "      quickchartButtonEl.classList.add('colab-df-spinner');\n",
              "      try {\n",
              "        const charts = await google.colab.kernel.invokeFunction(\n",
              "            'suggestCharts', [key], {});\n",
              "      } catch (error) {\n",
              "        console.error('Error during call to suggestCharts:', error);\n",
              "      }\n",
              "      quickchartButtonEl.classList.remove('colab-df-spinner');\n",
              "      quickchartButtonEl.classList.add('colab-df-quickchart-complete');\n",
              "    }\n",
              "    (() => {\n",
              "      let quickchartButtonEl =\n",
              "        document.querySelector('#df-c1c314fb-4184-42fc-8d40-40524e0f5ac1 button');\n",
              "      quickchartButtonEl.style.display =\n",
              "        google.colab.kernel.accessAllowed ? 'block' : 'none';\n",
              "    })();\n",
              "  </script>\n",
              "</div>\n",
              "    </div>\n",
              "  </div>\n"
            ]
          },
          "metadata": {},
          "execution_count": 18
        }
      ]
    },
    {
      "cell_type": "code",
      "source": [
        "# accuracy 확인\n",
        "scores = cross_val_score(dt_clf, df_tt, df['survived'], scoring='accuracy',cv=5)\n",
        "print(np.round(np.mean(scores),3))\n",
        "scores"
      ],
      "metadata": {
        "colab": {
          "base_uri": "https://localhost:8080/"
        },
        "id": "Jv0Jl4657wjo",
        "outputId": "64e0f4c3-78b8-4451-ee46-345a48884a60"
      },
      "execution_count": 19,
      "outputs": [
        {
          "output_type": "stream",
          "name": "stdout",
          "text": [
            "0.688\n"
          ]
        },
        {
          "output_type": "execute_result",
          "data": {
            "text/plain": [
              "array([0.62569832, 0.66853933, 0.68539326, 0.73033708, 0.73033708])"
            ]
          },
          "metadata": {},
          "execution_count": 19
        }
      ]
    },
    {
      "cell_type": "code",
      "source": [
        "# f1 확인\n",
        "scores = cross_val_score(dt_clf, df_tt, df['survived'], scoring='f1',cv=5)\n",
        "scores"
      ],
      "metadata": {
        "colab": {
          "base_uri": "https://localhost:8080/"
        },
        "id": "3i1UIir6740c",
        "outputId": "7b15f638-162b-41a7-ff46-310db205b952"
      },
      "execution_count": 21,
      "outputs": [
        {
          "output_type": "execute_result",
          "data": {
            "text/plain": [
              "array([0.42735043, 0.4957265 , 0.53333333, 0.60655738, 0.61290323])"
            ]
          },
          "metadata": {},
          "execution_count": 21
        }
      ]
    },
    {
      "cell_type": "code",
      "source": [
        "# precision 확인\n",
        "scores = cross_val_score(dt_clf, df_tt, df['survived'], scoring='precision',cv=5)\n",
        "scores"
      ],
      "metadata": {
        "colab": {
          "base_uri": "https://localhost:8080/"
        },
        "id": "1es-JWDB7-4m",
        "outputId": "71db84b7-a2d3-4d79-bad1-6363c3ab6ff0"
      },
      "execution_count": 22,
      "outputs": [
        {
          "output_type": "execute_result",
          "data": {
            "text/plain": [
              "array([0.52083333, 0.59183673, 0.61538462, 0.68518519, 0.69090909])"
            ]
          },
          "metadata": {},
          "execution_count": 22
        }
      ]
    },
    {
      "cell_type": "markdown",
      "source": [
        "# leaveOneOut 교차검증\n",
        "- Group 교차검증\n",
        "  - 그룹핑은 그룹핑 데이터를 가지고 교차검증을 할 때 더 좋은 성능을 보여줄 수 있다.\n",
        "  - 단순하게 교차검증을 cross 하는게 아니라, 데이터의 특성을 보고 내가 분석할 것이 어떤 클래스 별의 수치를 비교하는 것이라면 교차검증 자체도 그룹핑으로 접근 할 수 있는 것\n"
      ],
      "metadata": {
        "id": "oK0DBQPv8anW"
      }
    },
    {
      "cell_type": "code",
      "source": [
        "from sklearn.model_selection import LeaveOneOut\n",
        "loo = LeaveOneOut()\n",
        "scores =cross_val_score(dt_clf, df_tt, df['survived'], scoring='accuracy',cv=loo)"
      ],
      "metadata": {
        "id": "zXdkEsB48E15"
      },
      "execution_count": 24,
      "outputs": []
    },
    {
      "cell_type": "code",
      "source": [
        "print(len(scores))\n",
        "print(scores.mean())"
      ],
      "metadata": {
        "colab": {
          "base_uri": "https://localhost:8080/"
        },
        "id": "h2zlLtzJCtt5",
        "outputId": "8496c660-8dd5-4210-f8cd-900b48850af3"
      },
      "execution_count": 25,
      "outputs": [
        {
          "output_type": "stream",
          "name": "stdout",
          "text": [
            "891\n",
            "0.6745230078563412\n"
          ]
        }
      ]
    },
    {
      "cell_type": "code",
      "source": [
        "## cross val 응용하기\n",
        "model = [DecisionTreeClassifier(),RandomForestClassifier(),LogisticRegression()]\n",
        "name = ['DT','RF','LR']\n",
        "\n",
        "for model ,name in zip(model, name):\n",
        "    print('******************사용한 알고리즘',name,'******************')\n",
        "    for score in ['accuracy','precision','recall','f1']:\n",
        "        print(score)\n",
        "        print('--')\n",
        "        print(cross_val_score(model, df_tt, df['survived'], scoring=score,cv=10))"
      ],
      "metadata": {
        "colab": {
          "base_uri": "https://localhost:8080/"
        },
        "id": "FH9fWv3cC0T_",
        "outputId": "9cf55acc-dd31-4241-8fec-397bc01a3182"
      },
      "execution_count": 26,
      "outputs": [
        {
          "output_type": "stream",
          "name": "stdout",
          "text": [
            "******************사용한 알고리즘 DT ******************\n",
            "accuracy\n",
            "--\n",
            "[0.67777778 0.61797753 0.64044944 0.66292135 0.6741573  0.71910112\n",
            " 0.60674157 0.78651685 0.71910112 0.75280899]\n",
            "precision\n",
            "--\n",
            "[0.63636364 0.5        0.54545455 0.59090909 0.6        0.63636364\n",
            " 0.47826087 0.74193548 0.65517241 0.76      ]\n",
            "recall\n",
            "--\n",
            "[0.4        0.35294118 0.35294118 0.38235294 0.44117647 0.61764706\n",
            " 0.32352941 0.67647059 0.55882353 0.54285714]\n",
            "f1\n",
            "--\n",
            "[0.49122807 0.4137931  0.42857143 0.46428571 0.50847458 0.62686567\n",
            " 0.39285714 0.70769231 0.6031746  0.63333333]\n",
            "******************사용한 알고리즘 RF ******************\n",
            "accuracy\n",
            "--\n",
            "[0.7        0.59550562 0.68539326 0.68539326 0.68539326 0.68539326\n",
            " 0.6741573  0.78651685 0.73033708 0.7752809 ]\n",
            "precision\n",
            "--\n",
            "[0.66666667 0.45833333 0.58333333 0.5862069  0.61538462 0.62857143\n",
            " 0.56       0.75       0.65517241 0.75      ]\n",
            "recall\n",
            "--\n",
            "[0.48571429 0.38235294 0.47058824 0.52941176 0.47058824 0.64705882\n",
            " 0.47058824 0.67647059 0.61764706 0.57142857]\n",
            "f1\n",
            "--\n",
            "[0.56666667 0.43333333 0.55737705 0.5        0.55737705 0.65714286\n",
            " 0.5        0.70769231 0.625      0.65625   ]\n",
            "******************사용한 알고리즘 LR ******************\n",
            "accuracy\n",
            "--\n",
            "[0.58888889 0.61797753 0.68539326 0.66292135 0.69662921 0.65168539\n",
            " 0.70786517 0.73033708 0.70786517 0.74157303]\n",
            "precision\n",
            "--\n",
            "[0.44444444 0.5        0.66666667 0.56666667 0.70588235 0.55555556\n",
            " 0.66666667 0.72727273 0.66666667 0.8       ]\n",
            "recall\n",
            "--\n",
            "[0.22857143 0.23529412 0.35294118 0.5        0.35294118 0.44117647\n",
            " 0.47058824 0.47058824 0.47058824 0.45714286]\n",
            "f1\n",
            "--\n",
            "[0.30188679 0.32       0.46153846 0.53125    0.47058824 0.49180328\n",
            " 0.55172414 0.57142857 0.55172414 0.58181818]\n"
          ]
        }
      ]
    },
    {
      "cell_type": "markdown",
      "source": [
        "# 평가지표\n",
        "- 분류, 회귀\n",
        "- 둘 다 다르게 측정\n",
        "- 딥러닝은 비용함수\n",
        "- 우리는 ML에 대해서 분류, 회귀로 평가지표 확인!"
      ],
      "metadata": {
        "id": "eVz_OB5aDFCX"
      }
    },
    {
      "cell_type": "markdown",
      "source": [
        "## 분류\n",
        "- 정확도, 정밀도, 재현율, f1 , roc\n",
        "- 구성요소가 어떤 식으로 되어 있는 것이고\n",
        "- 정밀도, 재현율의 차이가 어떤 상황에 맞는 것이고\n",
        "- 왜 우리는 그래서 F1 스코어를 보는지?\n",
        "- roc 커브에 x축과 y축이 의미하는 것은?\n",
        "\n",
        "### 정확도\n",
        "- 정확도 = 예측의 결과 (0,1) 동일한 데이터 건수 / 전체 예측 데이터 건수\n",
        "- 맞춘다는 것이 1만 맞춘다는 것으로 생각하지만 0도 0으로 맞춘 것\n",
        "- 0과 1을 둘 다 맞춘 것을 고민해야한다\n",
        "- 정밀도, 재현율을 이해하려면 오차행렬 (confusion matrix)를 이해해야한다"
      ],
      "metadata": {
        "id": "Tb3VE_t7DO_B"
      }
    },
    {
      "cell_type": "markdown",
      "source": [
        "### Confusion Matrix ( 이진분류가 디폴트)\n",
        "\n",
        "[](https://)![confusion.png](data:image/png;base64,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)"
      ],
      "metadata": {
        "id": "kTg4oQOcD0TG"
      }
    },
    {
      "cell_type": "code",
      "source": [],
      "metadata": {
        "id": "VstnnDlkDMWd"
      },
      "execution_count": null,
      "outputs": []
    }
  ]
}