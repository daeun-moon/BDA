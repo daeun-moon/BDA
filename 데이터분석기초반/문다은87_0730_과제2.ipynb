{
  "nbformat": 4,
  "nbformat_minor": 0,
  "metadata": {
    "colab": {
      "provenance": []
    },
    "kernelspec": {
      "name": "python3",
      "display_name": "Python 3"
    },
    "language_info": {
      "name": "python"
    }
  },
  "cells": [
    {
      "cell_type": "markdown",
      "source": [
        "## 필수과제2\n",
        "- 위에 배웠던 모든 스케일링과 인코딩을 진행해 주세요.\n",
        "- 데이터를 드릴 예정이며 해당 데이터들 가지고 스케일링 및 인코딩을 진행해 주세요.\n",
        "\n",
        "- 기존 데이터 분포를 확인해보고 -> 이 데이터 분포를 통해서 어떤 식으로 스케일링을 해야 하는지?\n",
        "- 고민해 보시고 정리해주세요.\n",
        "- 이상치가 많다\n",
        "- 치우쳐진 데이터다.\n",
        "- 요약통계나, 시각화를 통해서 확인할 수 있다.\n",
        "- 정규분포인지아닌지 통계치를 가지고 검정할 수 있다.\n",
        "- csv파일로도 준비 부탁드릴게요.\n",
        "\n",
        "- 여러분들이 스케일링한 데이터를 가지고 모델링을 돌려보려고 한다.\n",
        "- csv파일로 스케일링 된 데이터를 실제 머신에 넣어보고 어떤 정확도, RMSE 값이 나오는지 확인해 보자!\n",
        "- csv파일은 랜덤으로 요청할 것\n"
      ],
      "metadata": {
        "id": "N_kX0hjJ-T9N"
      }
    },
    {
      "cell_type": "markdown",
      "source": [
        "- PassengerId - A unique Id for each passenger. Each Id takes the form gggg_pp where gggg indicates a group the passenger is travelling with and pp is their number within the group. People in a group are often family members, but not always.\n",
        "- HomePlanet - The planet the passenger departed from, typically their planet of permanent residence.\n",
        "- CryoSleep - Indicates whether the passenger elected to be put into suspended animation for the duration of the voyage. Passengers in cryosleep are confined to their cabins.\n",
        "- Cabin - The cabin number where the passenger is staying. Takes the form deck/num/side, where side can be either P for Port or S for Starboard.\n",
        "- Destination - The planet the passenger will be debarking to.\n",
        "- Age - The age of the passenger.\n",
        "- VIP - Whether the passenger has paid for special VIP service during the voyage.\n",
        "- RoomService, FoodCourt, ShoppingMall, Spa, VRDeck - Amount the passenger has billed at each of the Spaceship Titanic's many luxury amenities.\n",
        "Name - The first and last names of the passenger.\n",
        "- Transported - Whether the passenger was transported to another dimension. This is the **target**, the column you are trying to predict."
      ],
      "metadata": {
        "id": "XzsHvcCK_iFd"
      }
    },
    {
      "cell_type": "code",
      "execution_count": 245,
      "metadata": {
        "colab": {
          "base_uri": "https://localhost:8080/",
          "height": 661
        },
        "id": "zJi_QvQo9eHU",
        "outputId": "5810a171-6145-4d27-fecc-9aabbc4b80df"
      },
      "outputs": [
        {
          "output_type": "execute_result",
          "data": {
            "text/plain": [
              "     PassengerId HomePlanet CryoSleep     Cabin    Destination   Age    VIP  \\\n",
              "0        0001_01     Europa     False     B/0/P    TRAPPIST-1e  39.0  False   \n",
              "1        0002_01      Earth     False     F/0/S    TRAPPIST-1e  24.0  False   \n",
              "2        0003_01     Europa     False     A/0/S    TRAPPIST-1e  58.0   True   \n",
              "3        0003_02     Europa     False     A/0/S    TRAPPIST-1e  33.0  False   \n",
              "4        0004_01      Earth     False     F/1/S    TRAPPIST-1e  16.0  False   \n",
              "...          ...        ...       ...       ...            ...   ...    ...   \n",
              "8688     9276_01     Europa     False    A/98/P    55 Cancri e  41.0   True   \n",
              "8689     9278_01      Earth      True  G/1499/S  PSO J318.5-22  18.0  False   \n",
              "8690     9279_01      Earth     False  G/1500/S    TRAPPIST-1e  26.0  False   \n",
              "8691     9280_01     Europa     False   E/608/S    55 Cancri e  32.0  False   \n",
              "8692     9280_02     Europa     False   E/608/S    TRAPPIST-1e  44.0  False   \n",
              "\n",
              "      RoomService  FoodCourt  ShoppingMall     Spa  VRDeck               Name  \\\n",
              "0             0.0        0.0           0.0     0.0     0.0    Maham Ofracculy   \n",
              "1           109.0        9.0          25.0   549.0    44.0       Juanna Vines   \n",
              "2            43.0     3576.0           0.0  6715.0    49.0      Altark Susent   \n",
              "3             0.0     1283.0         371.0  3329.0   193.0       Solam Susent   \n",
              "4           303.0       70.0         151.0   565.0     2.0  Willy Santantines   \n",
              "...           ...        ...           ...     ...     ...                ...   \n",
              "8688          0.0     6819.0           0.0  1643.0    74.0  Gravior Noxnuther   \n",
              "8689          0.0        0.0           0.0     0.0     0.0    Kurta Mondalley   \n",
              "8690          0.0        0.0        1872.0     1.0     0.0       Fayey Connon   \n",
              "8691          0.0     1049.0           0.0   353.0  3235.0   Celeon Hontichre   \n",
              "8692        126.0     4688.0           0.0     0.0    12.0   Propsh Hontichre   \n",
              "\n",
              "      Transported  \n",
              "0           False  \n",
              "1            True  \n",
              "2           False  \n",
              "3           False  \n",
              "4            True  \n",
              "...           ...  \n",
              "8688        False  \n",
              "8689        False  \n",
              "8690         True  \n",
              "8691        False  \n",
              "8692         True  \n",
              "\n",
              "[8693 rows x 14 columns]"
            ],
            "text/html": [
              "\n",
              "\n",
              "  <div id=\"df-82a2658f-4f05-46f0-974b-2265186e5747\">\n",
              "    <div class=\"colab-df-container\">\n",
              "      <div>\n",
              "<style scoped>\n",
              "    .dataframe tbody tr th:only-of-type {\n",
              "        vertical-align: middle;\n",
              "    }\n",
              "\n",
              "    .dataframe tbody tr th {\n",
              "        vertical-align: top;\n",
              "    }\n",
              "\n",
              "    .dataframe thead th {\n",
              "        text-align: right;\n",
              "    }\n",
              "</style>\n",
              "<table border=\"1\" class=\"dataframe\">\n",
              "  <thead>\n",
              "    <tr style=\"text-align: right;\">\n",
              "      <th></th>\n",
              "      <th>PassengerId</th>\n",
              "      <th>HomePlanet</th>\n",
              "      <th>CryoSleep</th>\n",
              "      <th>Cabin</th>\n",
              "      <th>Destination</th>\n",
              "      <th>Age</th>\n",
              "      <th>VIP</th>\n",
              "      <th>RoomService</th>\n",
              "      <th>FoodCourt</th>\n",
              "      <th>ShoppingMall</th>\n",
              "      <th>Spa</th>\n",
              "      <th>VRDeck</th>\n",
              "      <th>Name</th>\n",
              "      <th>Transported</th>\n",
              "    </tr>\n",
              "  </thead>\n",
              "  <tbody>\n",
              "    <tr>\n",
              "      <th>0</th>\n",
              "      <td>0001_01</td>\n",
              "      <td>Europa</td>\n",
              "      <td>False</td>\n",
              "      <td>B/0/P</td>\n",
              "      <td>TRAPPIST-1e</td>\n",
              "      <td>39.0</td>\n",
              "      <td>False</td>\n",
              "      <td>0.0</td>\n",
              "      <td>0.0</td>\n",
              "      <td>0.0</td>\n",
              "      <td>0.0</td>\n",
              "      <td>0.0</td>\n",
              "      <td>Maham Ofracculy</td>\n",
              "      <td>False</td>\n",
              "    </tr>\n",
              "    <tr>\n",
              "      <th>1</th>\n",
              "      <td>0002_01</td>\n",
              "      <td>Earth</td>\n",
              "      <td>False</td>\n",
              "      <td>F/0/S</td>\n",
              "      <td>TRAPPIST-1e</td>\n",
              "      <td>24.0</td>\n",
              "      <td>False</td>\n",
              "      <td>109.0</td>\n",
              "      <td>9.0</td>\n",
              "      <td>25.0</td>\n",
              "      <td>549.0</td>\n",
              "      <td>44.0</td>\n",
              "      <td>Juanna Vines</td>\n",
              "      <td>True</td>\n",
              "    </tr>\n",
              "    <tr>\n",
              "      <th>2</th>\n",
              "      <td>0003_01</td>\n",
              "      <td>Europa</td>\n",
              "      <td>False</td>\n",
              "      <td>A/0/S</td>\n",
              "      <td>TRAPPIST-1e</td>\n",
              "      <td>58.0</td>\n",
              "      <td>True</td>\n",
              "      <td>43.0</td>\n",
              "      <td>3576.0</td>\n",
              "      <td>0.0</td>\n",
              "      <td>6715.0</td>\n",
              "      <td>49.0</td>\n",
              "      <td>Altark Susent</td>\n",
              "      <td>False</td>\n",
              "    </tr>\n",
              "    <tr>\n",
              "      <th>3</th>\n",
              "      <td>0003_02</td>\n",
              "      <td>Europa</td>\n",
              "      <td>False</td>\n",
              "      <td>A/0/S</td>\n",
              "      <td>TRAPPIST-1e</td>\n",
              "      <td>33.0</td>\n",
              "      <td>False</td>\n",
              "      <td>0.0</td>\n",
              "      <td>1283.0</td>\n",
              "      <td>371.0</td>\n",
              "      <td>3329.0</td>\n",
              "      <td>193.0</td>\n",
              "      <td>Solam Susent</td>\n",
              "      <td>False</td>\n",
              "    </tr>\n",
              "    <tr>\n",
              "      <th>4</th>\n",
              "      <td>0004_01</td>\n",
              "      <td>Earth</td>\n",
              "      <td>False</td>\n",
              "      <td>F/1/S</td>\n",
              "      <td>TRAPPIST-1e</td>\n",
              "      <td>16.0</td>\n",
              "      <td>False</td>\n",
              "      <td>303.0</td>\n",
              "      <td>70.0</td>\n",
              "      <td>151.0</td>\n",
              "      <td>565.0</td>\n",
              "      <td>2.0</td>\n",
              "      <td>Willy Santantines</td>\n",
              "      <td>True</td>\n",
              "    </tr>\n",
              "    <tr>\n",
              "      <th>...</th>\n",
              "      <td>...</td>\n",
              "      <td>...</td>\n",
              "      <td>...</td>\n",
              "      <td>...</td>\n",
              "      <td>...</td>\n",
              "      <td>...</td>\n",
              "      <td>...</td>\n",
              "      <td>...</td>\n",
              "      <td>...</td>\n",
              "      <td>...</td>\n",
              "      <td>...</td>\n",
              "      <td>...</td>\n",
              "      <td>...</td>\n",
              "      <td>...</td>\n",
              "    </tr>\n",
              "    <tr>\n",
              "      <th>8688</th>\n",
              "      <td>9276_01</td>\n",
              "      <td>Europa</td>\n",
              "      <td>False</td>\n",
              "      <td>A/98/P</td>\n",
              "      <td>55 Cancri e</td>\n",
              "      <td>41.0</td>\n",
              "      <td>True</td>\n",
              "      <td>0.0</td>\n",
              "      <td>6819.0</td>\n",
              "      <td>0.0</td>\n",
              "      <td>1643.0</td>\n",
              "      <td>74.0</td>\n",
              "      <td>Gravior Noxnuther</td>\n",
              "      <td>False</td>\n",
              "    </tr>\n",
              "    <tr>\n",
              "      <th>8689</th>\n",
              "      <td>9278_01</td>\n",
              "      <td>Earth</td>\n",
              "      <td>True</td>\n",
              "      <td>G/1499/S</td>\n",
              "      <td>PSO J318.5-22</td>\n",
              "      <td>18.0</td>\n",
              "      <td>False</td>\n",
              "      <td>0.0</td>\n",
              "      <td>0.0</td>\n",
              "      <td>0.0</td>\n",
              "      <td>0.0</td>\n",
              "      <td>0.0</td>\n",
              "      <td>Kurta Mondalley</td>\n",
              "      <td>False</td>\n",
              "    </tr>\n",
              "    <tr>\n",
              "      <th>8690</th>\n",
              "      <td>9279_01</td>\n",
              "      <td>Earth</td>\n",
              "      <td>False</td>\n",
              "      <td>G/1500/S</td>\n",
              "      <td>TRAPPIST-1e</td>\n",
              "      <td>26.0</td>\n",
              "      <td>False</td>\n",
              "      <td>0.0</td>\n",
              "      <td>0.0</td>\n",
              "      <td>1872.0</td>\n",
              "      <td>1.0</td>\n",
              "      <td>0.0</td>\n",
              "      <td>Fayey Connon</td>\n",
              "      <td>True</td>\n",
              "    </tr>\n",
              "    <tr>\n",
              "      <th>8691</th>\n",
              "      <td>9280_01</td>\n",
              "      <td>Europa</td>\n",
              "      <td>False</td>\n",
              "      <td>E/608/S</td>\n",
              "      <td>55 Cancri e</td>\n",
              "      <td>32.0</td>\n",
              "      <td>False</td>\n",
              "      <td>0.0</td>\n",
              "      <td>1049.0</td>\n",
              "      <td>0.0</td>\n",
              "      <td>353.0</td>\n",
              "      <td>3235.0</td>\n",
              "      <td>Celeon Hontichre</td>\n",
              "      <td>False</td>\n",
              "    </tr>\n",
              "    <tr>\n",
              "      <th>8692</th>\n",
              "      <td>9280_02</td>\n",
              "      <td>Europa</td>\n",
              "      <td>False</td>\n",
              "      <td>E/608/S</td>\n",
              "      <td>TRAPPIST-1e</td>\n",
              "      <td>44.0</td>\n",
              "      <td>False</td>\n",
              "      <td>126.0</td>\n",
              "      <td>4688.0</td>\n",
              "      <td>0.0</td>\n",
              "      <td>0.0</td>\n",
              "      <td>12.0</td>\n",
              "      <td>Propsh Hontichre</td>\n",
              "      <td>True</td>\n",
              "    </tr>\n",
              "  </tbody>\n",
              "</table>\n",
              "<p>8693 rows × 14 columns</p>\n",
              "</div>\n",
              "      <button class=\"colab-df-convert\" onclick=\"convertToInteractive('df-82a2658f-4f05-46f0-974b-2265186e5747')\"\n",
              "              title=\"Convert this dataframe to an interactive table.\"\n",
              "              style=\"display:none;\">\n",
              "\n",
              "  <svg xmlns=\"http://www.w3.org/2000/svg\" height=\"24px\"viewBox=\"0 0 24 24\"\n",
              "       width=\"24px\">\n",
              "    <path d=\"M0 0h24v24H0V0z\" fill=\"none\"/>\n",
              "    <path d=\"M18.56 5.44l.94 2.06.94-2.06 2.06-.94-2.06-.94-.94-2.06-.94 2.06-2.06.94zm-11 1L8.5 8.5l.94-2.06 2.06-.94-2.06-.94L8.5 2.5l-.94 2.06-2.06.94zm10 10l.94 2.06.94-2.06 2.06-.94-2.06-.94-.94-2.06-.94 2.06-2.06.94z\"/><path d=\"M17.41 7.96l-1.37-1.37c-.4-.4-.92-.59-1.43-.59-.52 0-1.04.2-1.43.59L10.3 9.45l-7.72 7.72c-.78.78-.78 2.05 0 2.83L4 21.41c.39.39.9.59 1.41.59.51 0 1.02-.2 1.41-.59l7.78-7.78 2.81-2.81c.8-.78.8-2.07 0-2.86zM5.41 20L4 18.59l7.72-7.72 1.47 1.35L5.41 20z\"/>\n",
              "  </svg>\n",
              "      </button>\n",
              "\n",
              "\n",
              "\n",
              "    <div id=\"df-79fff38a-c38d-4cb2-8845-65a8d4b12b0c\">\n",
              "      <button class=\"colab-df-quickchart\" onclick=\"quickchart('df-79fff38a-c38d-4cb2-8845-65a8d4b12b0c')\"\n",
              "              title=\"Suggest charts.\"\n",
              "              style=\"display:none;\">\n",
              "\n",
              "<svg xmlns=\"http://www.w3.org/2000/svg\" height=\"24px\"viewBox=\"0 0 24 24\"\n",
              "     width=\"24px\">\n",
              "    <g>\n",
              "        <path d=\"M19 3H5c-1.1 0-2 .9-2 2v14c0 1.1.9 2 2 2h14c1.1 0 2-.9 2-2V5c0-1.1-.9-2-2-2zM9 17H7v-7h2v7zm4 0h-2V7h2v10zm4 0h-2v-4h2v4z\"/>\n",
              "    </g>\n",
              "</svg>\n",
              "      </button>\n",
              "    </div>\n",
              "\n",
              "<style>\n",
              "  .colab-df-quickchart {\n",
              "    background-color: #E8F0FE;\n",
              "    border: none;\n",
              "    border-radius: 50%;\n",
              "    cursor: pointer;\n",
              "    display: none;\n",
              "    fill: #1967D2;\n",
              "    height: 32px;\n",
              "    padding: 0 0 0 0;\n",
              "    width: 32px;\n",
              "  }\n",
              "\n",
              "  .colab-df-quickchart:hover {\n",
              "    background-color: #E2EBFA;\n",
              "    box-shadow: 0px 1px 2px rgba(60, 64, 67, 0.3), 0px 1px 3px 1px rgba(60, 64, 67, 0.15);\n",
              "    fill: #174EA6;\n",
              "  }\n",
              "\n",
              "  [theme=dark] .colab-df-quickchart {\n",
              "    background-color: #3B4455;\n",
              "    fill: #D2E3FC;\n",
              "  }\n",
              "\n",
              "  [theme=dark] .colab-df-quickchart:hover {\n",
              "    background-color: #434B5C;\n",
              "    box-shadow: 0px 1px 3px 1px rgba(0, 0, 0, 0.15);\n",
              "    filter: drop-shadow(0px 1px 2px rgba(0, 0, 0, 0.3));\n",
              "    fill: #FFFFFF;\n",
              "  }\n",
              "</style>\n",
              "\n",
              "    <script>\n",
              "      async function quickchart(key) {\n",
              "        const containerElement = document.querySelector('#' + key);\n",
              "        const charts = await google.colab.kernel.invokeFunction(\n",
              "            'suggestCharts', [key], {});\n",
              "      }\n",
              "    </script>\n",
              "\n",
              "      <script>\n",
              "\n",
              "function displayQuickchartButton(domScope) {\n",
              "  let quickchartButtonEl =\n",
              "    domScope.querySelector('#df-79fff38a-c38d-4cb2-8845-65a8d4b12b0c button.colab-df-quickchart');\n",
              "  quickchartButtonEl.style.display =\n",
              "    google.colab.kernel.accessAllowed ? 'block' : 'none';\n",
              "}\n",
              "\n",
              "        displayQuickchartButton(document);\n",
              "      </script>\n",
              "      <style>\n",
              "    .colab-df-container {\n",
              "      display:flex;\n",
              "      flex-wrap:wrap;\n",
              "      gap: 12px;\n",
              "    }\n",
              "\n",
              "    .colab-df-convert {\n",
              "      background-color: #E8F0FE;\n",
              "      border: none;\n",
              "      border-radius: 50%;\n",
              "      cursor: pointer;\n",
              "      display: none;\n",
              "      fill: #1967D2;\n",
              "      height: 32px;\n",
              "      padding: 0 0 0 0;\n",
              "      width: 32px;\n",
              "    }\n",
              "\n",
              "    .colab-df-convert:hover {\n",
              "      background-color: #E2EBFA;\n",
              "      box-shadow: 0px 1px 2px rgba(60, 64, 67, 0.3), 0px 1px 3px 1px rgba(60, 64, 67, 0.15);\n",
              "      fill: #174EA6;\n",
              "    }\n",
              "\n",
              "    [theme=dark] .colab-df-convert {\n",
              "      background-color: #3B4455;\n",
              "      fill: #D2E3FC;\n",
              "    }\n",
              "\n",
              "    [theme=dark] .colab-df-convert:hover {\n",
              "      background-color: #434B5C;\n",
              "      box-shadow: 0px 1px 3px 1px rgba(0, 0, 0, 0.15);\n",
              "      filter: drop-shadow(0px 1px 2px rgba(0, 0, 0, 0.3));\n",
              "      fill: #FFFFFF;\n",
              "    }\n",
              "  </style>\n",
              "\n",
              "      <script>\n",
              "        const buttonEl =\n",
              "          document.querySelector('#df-82a2658f-4f05-46f0-974b-2265186e5747 button.colab-df-convert');\n",
              "        buttonEl.style.display =\n",
              "          google.colab.kernel.accessAllowed ? 'block' : 'none';\n",
              "\n",
              "        async function convertToInteractive(key) {\n",
              "          const element = document.querySelector('#df-82a2658f-4f05-46f0-974b-2265186e5747');\n",
              "          const dataTable =\n",
              "            await google.colab.kernel.invokeFunction('convertToInteractive',\n",
              "                                                     [key], {});\n",
              "          if (!dataTable) return;\n",
              "\n",
              "          const docLinkHtml = 'Like what you see? Visit the ' +\n",
              "            '<a target=\"_blank\" href=https://colab.research.google.com/notebooks/data_table.ipynb>data table notebook</a>'\n",
              "            + ' to learn more about interactive tables.';\n",
              "          element.innerHTML = '';\n",
              "          dataTable['output_type'] = 'display_data';\n",
              "          await google.colab.output.renderOutput(dataTable, element);\n",
              "          const docLink = document.createElement('div');\n",
              "          docLink.innerHTML = docLinkHtml;\n",
              "          element.appendChild(docLink);\n",
              "        }\n",
              "      </script>\n",
              "    </div>\n",
              "  </div>\n"
            ]
          },
          "metadata": {},
          "execution_count": 245
        }
      ],
      "source": [
        "import pandas as pd\n",
        "ss = pd.read_csv('/content/spaceship_tt.csv')\n",
        "ss"
      ]
    },
    {
      "cell_type": "code",
      "source": [
        "# data의 컬럼들 확인\n",
        "ss.columns"
      ],
      "metadata": {
        "colab": {
          "base_uri": "https://localhost:8080/"
        },
        "id": "K20Z0c7794S6",
        "outputId": "31afeef4-9777-4721-8cda-42af195df748"
      },
      "execution_count": 246,
      "outputs": [
        {
          "output_type": "execute_result",
          "data": {
            "text/plain": [
              "Index(['PassengerId', 'HomePlanet', 'CryoSleep', 'Cabin', 'Destination', 'Age',\n",
              "       'VIP', 'RoomService', 'FoodCourt', 'ShoppingMall', 'Spa', 'VRDeck',\n",
              "       'Name', 'Transported'],\n",
              "      dtype='object')"
            ]
          },
          "metadata": {},
          "execution_count": 246
        }
      ]
    },
    {
      "cell_type": "code",
      "source": [
        "ss.HomePlanet.value_counts()"
      ],
      "metadata": {
        "colab": {
          "base_uri": "https://localhost:8080/"
        },
        "id": "IWUZvmAl_Let",
        "outputId": "66cefba2-f516-4f62-90f8-69cdbe1dcec0"
      },
      "execution_count": 247,
      "outputs": [
        {
          "output_type": "execute_result",
          "data": {
            "text/plain": [
              "Earth     4602\n",
              "Europa    2131\n",
              "Mars      1759\n",
              "Name: HomePlanet, dtype: int64"
            ]
          },
          "metadata": {},
          "execution_count": 247
        }
      ]
    },
    {
      "cell_type": "markdown",
      "source": [
        "# 칼럼 정보\n",
        "- ['PassengerId', 'HomePlanet', 'CryoSleep', 'Cabin', 'Destination', 'Age','VIP', 'RoomService', 'FoodCourt', 'ShoppingMall', 'Spa', 'VRDeck','Name','Transported']\n",
        "- 분석 제외 칼럼 : PassengerId, Name\n",
        "- 범주형 컬럼 : HomePlanet, CryoSleep, Destination, VIP\n",
        "- 연속형 컬럼 : Age, RoomService, FoodCourt, ShoppingMall, Spa, VRDeck\n",
        "- Cabin은 Cabin_deck, Cabin_num, Cabin_side로 세분화 후 , Cabin_deck, Cabin_side는 범주화 컬럼, Cabin_num은 연속형 컬럼으로 분류\n",
        "(Takes the form deck/num/side, where side can be either P for Port or S for Starboard.)\n"
      ],
      "metadata": {
        "id": "rR6X-jpJ-onW"
      }
    },
    {
      "cell_type": "markdown",
      "source": [
        "### 칼럼 분포 확인"
      ],
      "metadata": {
        "id": "yhliFlX5GzUu"
      }
    },
    {
      "cell_type": "code",
      "source": [
        "ss.HomePlanet.value_counts()"
      ],
      "metadata": {
        "colab": {
          "base_uri": "https://localhost:8080/"
        },
        "id": "LubWs9X5C2rg",
        "outputId": "3194a5ab-80b0-4be3-f78b-619657bd8acb"
      },
      "execution_count": 248,
      "outputs": [
        {
          "output_type": "execute_result",
          "data": {
            "text/plain": [
              "Earth     4602\n",
              "Europa    2131\n",
              "Mars      1759\n",
              "Name: HomePlanet, dtype: int64"
            ]
          },
          "metadata": {},
          "execution_count": 248
        }
      ]
    },
    {
      "cell_type": "code",
      "source": [
        "ss.CryoSleep.value_counts()"
      ],
      "metadata": {
        "colab": {
          "base_uri": "https://localhost:8080/"
        },
        "id": "DmAbQjQQC42N",
        "outputId": "a1184d9f-c341-4b82-a147-338f9c7f28e0"
      },
      "execution_count": 249,
      "outputs": [
        {
          "output_type": "execute_result",
          "data": {
            "text/plain": [
              "False    5439\n",
              "True     3037\n",
              "Name: CryoSleep, dtype: int64"
            ]
          },
          "metadata": {},
          "execution_count": 249
        }
      ]
    },
    {
      "cell_type": "code",
      "source": [
        "ss.Destination.value_counts()"
      ],
      "metadata": {
        "colab": {
          "base_uri": "https://localhost:8080/"
        },
        "id": "MzelInU4C9i9",
        "outputId": "78ce7fe5-c6b4-4265-f1c3-025426f9e766"
      },
      "execution_count": 250,
      "outputs": [
        {
          "output_type": "execute_result",
          "data": {
            "text/plain": [
              "TRAPPIST-1e      5915\n",
              "55 Cancri e      1800\n",
              "PSO J318.5-22     796\n",
              "Name: Destination, dtype: int64"
            ]
          },
          "metadata": {},
          "execution_count": 250
        }
      ]
    },
    {
      "cell_type": "code",
      "source": [
        "import matplotlib.pyplot as plt\n",
        "plt.hist(ss.Age)"
      ],
      "metadata": {
        "colab": {
          "base_uri": "https://localhost:8080/",
          "height": 502
        },
        "id": "F27vb8IrDQOw",
        "outputId": "ea5966e5-ec6e-4019-822d-b634a6a4becf"
      },
      "execution_count": 251,
      "outputs": [
        {
          "output_type": "execute_result",
          "data": {
            "text/plain": [
              "(array([ 591.,  649., 2089., 1976., 1350.,  893.,  536.,  294.,  106.,\n",
              "          30.]),\n",
              " array([ 0. ,  7.9, 15.8, 23.7, 31.6, 39.5, 47.4, 55.3, 63.2, 71.1, 79. ]),\n",
              " <BarContainer object of 10 artists>)"
            ]
          },
          "metadata": {},
          "execution_count": 251
        },
        {
          "output_type": "display_data",
          "data": {
            "text/plain": [
              "<Figure size 640x480 with 1 Axes>"
            ],
            "image/png": "[encoded data removed]"
          },
          "metadata": {}
        }
      ]
    },
    {
      "cell_type": "code",
      "source": [
        "ss.VIP.value_counts()"
      ],
      "metadata": {
        "colab": {
          "base_uri": "https://localhost:8080/"
        },
        "id": "uIEYMoewDjYm",
        "outputId": "49c0ca59-2bf2-49c0-c92c-378970d44866"
      },
      "execution_count": 252,
      "outputs": [
        {
          "output_type": "execute_result",
          "data": {
            "text/plain": [
              "False    8291\n",
              "True      199\n",
              "Name: VIP, dtype: int64"
            ]
          },
          "metadata": {},
          "execution_count": 252
        }
      ]
    },
    {
      "cell_type": "code",
      "source": [
        "cols = ['RoomService', 'FoodCourt', 'ShoppingMall', 'Spa', 'VRDeck',]\n",
        "plt.hist(ss.RoomService)"
      ],
      "metadata": {
        "colab": {
          "base_uri": "https://localhost:8080/",
          "height": 520
        },
        "id": "I-dPVhi0DnMs",
        "outputId": "6555c90a-25f4-432d-ccf0-edd9d562315c"
      },
      "execution_count": 253,
      "outputs": [
        {
          "output_type": "execute_result",
          "data": {
            "text/plain": [
              "(array([8.156e+03, 2.540e+02, 6.500e+01, 1.700e+01, 9.000e+00, 9.000e+00,\n",
              "        1.000e+00, 0.000e+00, 0.000e+00, 1.000e+00]),\n",
              " array([    0. ,  1432.7,  2865.4,  4298.1,  5730.8,  7163.5,  8596.2,\n",
              "        10028.9, 11461.6, 12894.3, 14327. ]),\n",
              " <BarContainer object of 10 artists>)"
            ]
          },
          "metadata": {},
          "execution_count": 253
        },
        {
          "output_type": "display_data",
          "data": {
            "text/plain": [
              "<Figure size 640x480 with 1 Axes>"
            ],
            "image/png": "[encoded data removed]"
          },
          "metadata": {}
        }
      ]
    },
    {
      "cell_type": "code",
      "source": [
        "plt.hist(ss.FoodCourt)"
      ],
      "metadata": {
        "colab": {
          "base_uri": "https://localhost:8080/",
          "height": 520
        },
        "id": "-2Gv2ZNRDv6k",
        "outputId": "122a915d-b24a-48f2-89e0-785df512594a"
      },
      "execution_count": 254,
      "outputs": [
        {
          "output_type": "execute_result",
          "data": {
            "text/plain": [
              "(array([8.114e+03, 2.500e+02, 8.000e+01, 3.400e+01, 1.500e+01, 9.000e+00,\n",
              "        3.000e+00, 1.000e+00, 1.000e+00, 3.000e+00]),\n",
              " array([    0. ,  2981.3,  5962.6,  8943.9, 11925.2, 14906.5, 17887.8,\n",
              "        20869.1, 23850.4, 26831.7, 29813. ]),\n",
              " <BarContainer object of 10 artists>)"
            ]
          },
          "metadata": {},
          "execution_count": 254
        },
        {
          "output_type": "display_data",
          "data": {
            "text/plain": [
              "<Figure size 640x480 with 1 Axes>"
            ],
            "image/png": "[encoded data removed]"
          },
          "metadata": {}
        }
      ]
    },
    {
      "cell_type": "code",
      "source": [
        "plt.hist(ss.ShoppingMall)"
      ],
      "metadata": {
        "colab": {
          "base_uri": "https://localhost:8080/",
          "height": 520
        },
        "id": "yoGXP070FRry",
        "outputId": "82cd676d-eabb-4290-e7ec-758d8f5f54bb"
      },
      "execution_count": 255,
      "outputs": [
        {
          "output_type": "execute_result",
          "data": {
            "text/plain": [
              "(array([8.401e+03, 6.200e+01, 1.300e+01, 5.000e+00, 2.000e+00, 1.000e+00,\n",
              "        0.000e+00, 0.000e+00, 0.000e+00, 1.000e+00]),\n",
              " array([    0. ,  2349.2,  4698.4,  7047.6,  9396.8, 11746. , 14095.2,\n",
              "        16444.4, 18793.6, 21142.8, 23492. ]),\n",
              " <BarContainer object of 10 artists>)"
            ]
          },
          "metadata": {},
          "execution_count": 255
        },
        {
          "output_type": "display_data",
          "data": {
            "text/plain": [
              "<Figure size 640x480 with 1 Axes>"
            ],
            "image/png": "[encoded data removed]"
          },
          "metadata": {}
        }
      ]
    },
    {
      "cell_type": "code",
      "source": [
        "plt.hist(ss.Spa)"
      ],
      "metadata": {
        "colab": {
          "base_uri": "https://localhost:8080/",
          "height": 520
        },
        "id": "-yd9DaDyFUUo",
        "outputId": "52051312-b295-41ea-e5c7-7a1fe7384003"
      },
      "execution_count": 256,
      "outputs": [
        {
          "output_type": "execute_result",
          "data": {
            "text/plain": [
              "(array([8.204e+03, 1.800e+02, 7.300e+01, 2.200e+01, 1.500e+01, 6.000e+00,\n",
              "        6.000e+00, 2.000e+00, 1.000e+00, 1.000e+00]),\n",
              " array([    0. ,  2240.8,  4481.6,  6722.4,  8963.2, 11204. , 13444.8,\n",
              "        15685.6, 17926.4, 20167.2, 22408. ]),\n",
              " <BarContainer object of 10 artists>)"
            ]
          },
          "metadata": {},
          "execution_count": 256
        },
        {
          "output_type": "display_data",
          "data": {
            "text/plain": [
              "<Figure size 640x480 with 1 Axes>"
            ],
            "image/png": "[encoded data removed]"
          },
          "metadata": {}
        }
      ]
    },
    {
      "cell_type": "code",
      "source": [
        "plt.hist(ss.VRDeck)"
      ],
      "metadata": {
        "colab": {
          "base_uri": "https://localhost:8080/",
          "height": 520
        },
        "id": "ei13gxx4FWOn",
        "outputId": "640d4e57-1a5f-400d-c0b5-b4c97ca495c1"
      },
      "execution_count": 257,
      "outputs": [
        {
          "output_type": "execute_result",
          "data": {
            "text/plain": [
              "(array([8.252e+03, 1.360e+02, 6.000e+01, 2.600e+01, 1.800e+01, 7.000e+00,\n",
              "        2.000e+00, 2.000e+00, 1.000e+00, 1.000e+00]),\n",
              " array([    0. ,  2413.3,  4826.6,  7239.9,  9653.2, 12066.5, 14479.8,\n",
              "        16893.1, 19306.4, 21719.7, 24133. ]),\n",
              " <BarContainer object of 10 artists>)"
            ]
          },
          "metadata": {},
          "execution_count": 257
        },
        {
          "output_type": "display_data",
          "data": {
            "text/plain": [
              "<Figure size 640x480 with 1 Axes>"
            ],
            "image/png": "[encoded data removed]"
          },
          "metadata": {}
        }
      ]
    },
    {
      "cell_type": "markdown",
      "source": [
        "### Cabin 칼럼 세분화\n",
        "- Cabin은 Cabin_deck, Cabin_num, Cabin_side로 세분화 후 , Cabin_deck, Cabin_side는 범주화 컬럼, Cabin_num은 연속형 컬럼으로 분류 (Takes the form deck/num/side, where side can be either P for Port or S for Starboard.)"
      ],
      "metadata": {
        "id": "Xq3nW_IeG-el"
      }
    },
    {
      "cell_type": "code",
      "source": [
        "ss[\"Cabin_deck\"]= ss.Cabin.str.split('/').str[0]\n",
        "ss[\"Cabin_num\"]= ss.Cabin.str.split('/').str[1]\n",
        "ss[\"Cabin_side\"]= ss.Cabin.str.split('/').str[2]"
      ],
      "metadata": {
        "id": "EqLObuRXHDpf"
      },
      "execution_count": 258,
      "outputs": []
    },
    {
      "cell_type": "code",
      "source": [
        "ss.Cabin_deck.value_counts()"
      ],
      "metadata": {
        "colab": {
          "base_uri": "https://localhost:8080/"
        },
        "id": "AdUp7ExFHs4n",
        "outputId": "98655dd1-5b74-444a-8a7e-208301bbf786"
      },
      "execution_count": 259,
      "outputs": [
        {
          "output_type": "execute_result",
          "data": {
            "text/plain": [
              "F    2794\n",
              "G    2559\n",
              "E     876\n",
              "B     779\n",
              "C     747\n",
              "D     478\n",
              "A     256\n",
              "T       5\n",
              "Name: Cabin_deck, dtype: int64"
            ]
          },
          "metadata": {},
          "execution_count": 259
        }
      ]
    },
    {
      "cell_type": "code",
      "source": [
        "ss.Cabin_side.value_counts()"
      ],
      "metadata": {
        "colab": {
          "base_uri": "https://localhost:8080/"
        },
        "id": "PA-W2gqmG-IK",
        "outputId": "2689ac4a-0fb9-4b8f-b5f4-f6c83fd57468"
      },
      "execution_count": 260,
      "outputs": [
        {
          "output_type": "execute_result",
          "data": {
            "text/plain": [
              "S    4288\n",
              "P    4206\n",
              "Name: Cabin_side, dtype: int64"
            ]
          },
          "metadata": {},
          "execution_count": 260
        }
      ]
    },
    {
      "cell_type": "code",
      "source": [
        "plt.hist(ss.Cabin_num)"
      ],
      "metadata": {
        "colab": {
          "base_uri": "https://localhost:8080/",
          "height": 520
        },
        "id": "a-VybuwAIPSD",
        "outputId": "53b83a06-7f08-4b13-b3df-4b4055e72d06"
      },
      "execution_count": 331,
      "outputs": [
        {
          "output_type": "execute_result",
          "data": {
            "text/plain": [
              "(array([2077., 1526.,  773.,  611.,  566.,  602.,  495.,  505.,  329.,\n",
              "         267.]),\n",
              " array([   0. ,  178.7,  357.4,  536.1,  714.8,  893.5, 1072.2, 1250.9,\n",
              "        1429.6, 1608.3, 1787. ]),\n",
              " <BarContainer object of 10 artists>)"
            ]
          },
          "metadata": {},
          "execution_count": 331
        },
        {
          "output_type": "display_data",
          "data": {
            "text/plain": [
              "<Figure size 640x480 with 1 Axes>"
            ],
            "image/png": "[encoded data removed]"
          },
          "metadata": {}
        }
      ]
    },
    {
      "cell_type": "code",
      "source": [
        "# 이제 Cabin 칼럼 자체는 삭제하기\n",
        "ss=ss[[ 'HomePlanet', 'CryoSleep', 'Destination', 'Age',\n",
        "       'VIP', 'RoomService', 'FoodCourt', 'ShoppingMall', 'Spa', 'VRDeck',\n",
        "        'Transported', 'Cabin_deck', 'Cabin_num', 'Cabin_side']]"
      ],
      "metadata": {
        "id": "LOhP9jNRJrjP"
      },
      "execution_count": 262,
      "outputs": []
    },
    {
      "cell_type": "markdown",
      "source": [
        "##  Null값 채우기"
      ],
      "metadata": {
        "id": "nrEK9J9BIxHt"
      }
    },
    {
      "cell_type": "code",
      "source": [
        "ss.isnull().sum()"
      ],
      "metadata": {
        "colab": {
          "base_uri": "https://localhost:8080/"
        },
        "id": "D6SCgEYcH0HK",
        "outputId": "56e88cc3-3e99-4c3a-aaa2-649b60bba31c"
      },
      "execution_count": 273,
      "outputs": [
        {
          "output_type": "execute_result",
          "data": {
            "text/plain": [
              "HomePlanet        0\n",
              "CryoSleep         0\n",
              "Destination       0\n",
              "Age             169\n",
              "VIP               0\n",
              "RoomService       0\n",
              "FoodCourt         0\n",
              "ShoppingMall      0\n",
              "Spa               0\n",
              "VRDeck            0\n",
              "Transported       0\n",
              "Cabin_deck        0\n",
              "Cabin_num         0\n",
              "Cabin_side        0\n",
              "dtype: int64"
            ]
          },
          "metadata": {},
          "execution_count": 273
        }
      ]
    },
    {
      "cell_type": "code",
      "source": [
        "# HomePlanet Null값 행 삭제\n",
        "ss.dropna(subset='HomePlanet', axis=0, inplace=True)\n",
        "ss.reset_index(drop=True, inplace=True)"
      ],
      "metadata": {
        "colab": {
          "base_uri": "https://localhost:8080/"
        },
        "id": "YoBp30ODJDR0",
        "outputId": "67bb4fd7-99f6-438a-fdd3-910f7cea6a97"
      },
      "execution_count": 264,
      "outputs": [
        {
          "output_type": "stream",
          "name": "stderr",
          "text": [
            "<ipython-input-264-685efa47823b>:2: SettingWithCopyWarning: \n",
            "A value is trying to be set on a copy of a slice from a DataFrame\n",
            "\n",
            "See the caveats in the documentation: https://pandas.pydata.org/pandas-docs/stable/user_guide/indexing.html#returning-a-view-versus-a-copy\n",
            "  ss.dropna(subset='HomePlanet', axis=0, inplace=True)\n"
          ]
        }
      ]
    },
    {
      "cell_type": "code",
      "source": [
        "# CryoSleep Null값 행 삭제\n",
        "ss.dropna(subset='CryoSleep', axis=0, inplace=True)\n",
        "ss.reset_index(drop=True, inplace=True)\n",
        "# Destinaton Null값 행 삭제\n",
        "ss.dropna(subset='Destination', axis=0, inplace=True)\n",
        "ss.reset_index(drop=True, inplace=True)"
      ],
      "metadata": {
        "colab": {
          "base_uri": "https://localhost:8080/"
        },
        "id": "JBotiUKiKWqR",
        "outputId": "677d3968-160d-4483-a9eb-07fc99fe1314"
      },
      "execution_count": 265,
      "outputs": [
        {
          "output_type": "stream",
          "name": "stderr",
          "text": [
            "<ipython-input-265-8f44a1117045>:2: SettingWithCopyWarning: \n",
            "A value is trying to be set on a copy of a slice from a DataFrame\n",
            "\n",
            "See the caveats in the documentation: https://pandas.pydata.org/pandas-docs/stable/user_guide/indexing.html#returning-a-view-versus-a-copy\n",
            "  ss.dropna(subset='CryoSleep', axis=0, inplace=True)\n",
            "<ipython-input-265-8f44a1117045>:5: SettingWithCopyWarning: \n",
            "A value is trying to be set on a copy of a slice from a DataFrame\n",
            "\n",
            "See the caveats in the documentation: https://pandas.pydata.org/pandas-docs/stable/user_guide/indexing.html#returning-a-view-versus-a-copy\n",
            "  ss.dropna(subset='Destination', axis=0, inplace=True)\n"
          ]
        }
      ]
    },
    {
      "cell_type": "code",
      "source": [
        "# Cabin_side 값 행 삭제\n",
        "ss.dropna(subset='Cabin_side', axis=0, inplace=True)\n",
        "ss.reset_index(drop=True, inplace=True)"
      ],
      "metadata": {
        "colab": {
          "base_uri": "https://localhost:8080/"
        },
        "id": "zVvI2CM4KpVL",
        "outputId": "da6c9841-7355-4668-fc0d-c7ff67137574"
      },
      "execution_count": 266,
      "outputs": [
        {
          "output_type": "stream",
          "name": "stderr",
          "text": [
            "<ipython-input-266-452d6cd263d9>:2: SettingWithCopyWarning: \n",
            "A value is trying to be set on a copy of a slice from a DataFrame\n",
            "\n",
            "See the caveats in the documentation: https://pandas.pydata.org/pandas-docs/stable/user_guide/indexing.html#returning-a-view-versus-a-copy\n",
            "  ss.dropna(subset='Cabin_side', axis=0, inplace=True)\n"
          ]
        }
      ]
    },
    {
      "cell_type": "code",
      "source": [
        "# VIP 값 False로 채우기\n",
        "ss['VIP'].fillna(False, inplace= True)"
      ],
      "metadata": {
        "colab": {
          "base_uri": "https://localhost:8080/"
        },
        "id": "h7hWT3eSLMSi",
        "outputId": "1c4d79e2-e9c3-4f0b-91d4-f622fa555fbc"
      },
      "execution_count": 267,
      "outputs": [
        {
          "output_type": "stream",
          "name": "stderr",
          "text": [
            "<ipython-input-267-c2b73458f343>:2: SettingWithCopyWarning: \n",
            "A value is trying to be set on a copy of a slice from a DataFrame\n",
            "\n",
            "See the caveats in the documentation: https://pandas.pydata.org/pandas-docs/stable/user_guide/indexing.html#returning-a-view-versus-a-copy\n",
            "  ss['VIP'].fillna(False, inplace= True)\n"
          ]
        }
      ]
    },
    {
      "cell_type": "code",
      "source": [
        "ss.VIP.value_counts()"
      ],
      "metadata": {
        "colab": {
          "base_uri": "https://localhost:8080/"
        },
        "id": "4raj2fbeMCYs",
        "outputId": "6d2f0840-96c1-44bf-853d-2d1d20760693"
      },
      "execution_count": 268,
      "outputs": [
        {
          "output_type": "execute_result",
          "data": {
            "text/plain": [
              "False    7737\n",
              "True      183\n",
              "Name: VIP, dtype: int64"
            ]
          },
          "metadata": {},
          "execution_count": 268
        }
      ]
    },
    {
      "cell_type": "code",
      "source": [
        "cols = ['RoomService', 'FoodCourt', 'ShoppingMall', 'Spa', 'VRDeck']\n",
        "for col in cols:\n",
        "  ss= ss.astype({col :'float'})\n"
      ],
      "metadata": {
        "id": "dhR2qh5nPF-J"
      },
      "execution_count": 269,
      "outputs": []
    },
    {
      "cell_type": "code",
      "source": [
        "## 'RoomService', 'FoodCourt', 'ShoppingMall', 'Spa', 'VRDeck' 는 중간값으로 대체하기\n",
        "import numpy as np\n",
        "cols = ['RoomService', 'FoodCourt', 'ShoppingMall', 'Spa', 'VRDeck']\n",
        "for col in cols:\n",
        "  idx = ss[ss[col].notnull()].index\n",
        "  med = np.median(ss[col][idx])\n",
        "  ss[col].fillna(med, inplace= True)"
      ],
      "metadata": {
        "id": "dbJELnrEMEUu"
      },
      "execution_count": 270,
      "outputs": []
    },
    {
      "cell_type": "code",
      "source": [
        "# Age Null값 행 삭제\n",
        "ss.dropna(subset='Age', axis=0, inplace=True)\n",
        "ss.reset_index(drop=True, inplace=True)"
      ],
      "metadata": {
        "id": "cy2VZD-6SRGA"
      },
      "execution_count": 274,
      "outputs": []
    },
    {
      "cell_type": "markdown",
      "source": [
        "# 인코딩\n",
        "- HomePlanet, CryoSleep, Destination, VIP , Cabin_deck, Cabin_side\n",
        "- 레이블인코딩 : Cabin_deck\n",
        "- 원핫인코딩 : HomePlanet, CryoSleep, Destination, VIP ,Cabin_side"
      ],
      "metadata": {
        "id": "sP7icva8Sau4"
      }
    },
    {
      "cell_type": "markdown",
      "source": [
        "### 레이블 인코딩"
      ],
      "metadata": {
        "id": "BN_vtn4iU8xR"
      }
    },
    {
      "cell_type": "code",
      "source": [
        "from sklearn.preprocessing import LabelEncoder\n",
        "items = ss.Cabin_deck\n",
        "\n",
        "#LabelEncoder를 객체로 생성한 후, fit(), transform() 으로 레이블 인코딩 수행\n",
        "encoder = LabelEncoder() # 생성\n",
        "encoder.fit(items) # 학습\n",
        "labels = encoder.transform(items)\n",
        "ss['Cabin_deck']= labels"
      ],
      "metadata": {
        "colab": {
          "base_uri": "https://localhost:8080/"
        },
        "id": "6F_sx48BU8ab",
        "outputId": "a26d3403-6cf2-471d-9c32-9917a9454f26"
      },
      "execution_count": 282,
      "outputs": [
        {
          "output_type": "execute_result",
          "data": {
            "text/plain": [
              "array([0, 1, 2, 3, 4, 5, 6, 7])"
            ]
          },
          "metadata": {},
          "execution_count": 282
        }
      ]
    },
    {
      "cell_type": "markdown",
      "source": [
        "### 원핫인코딩"
      ],
      "metadata": {
        "id": "TiqU6J5wVbHj"
      }
    },
    {
      "cell_type": "code",
      "source": [
        "df_1 = pd.get_dummies(ss['HomePlanet'])\n",
        "df_1 = df_1.rename(columns={'Earth':'HomePlanet_Earth', 'Europa':'HomePlanet_Europa', 'Mars':\"HomePlanet_Mars\"})\n",
        "df_3 = pd.get_dummies(ss['Destination'])\n",
        "df_3 = df_3.rename(columns={'55 Cancri e':'Destination_55 Cancri e', 'PSO J318.5-22':'Destination_PSO J318.5-22', 'TRAPPIST-1e':'Destination_TRAPPIST-1e'})\n",
        "df_5 = pd.get_dummies(ss['Cabin_side'])\n",
        "df_5 = df_5.rename(columns={'P':'Cabinside_P', 'S':'Cabinside_S'})\n"
      ],
      "metadata": {
        "id": "lWNsuuZIVJmi"
      },
      "execution_count": 304,
      "outputs": []
    },
    {
      "cell_type": "code",
      "source": [
        "new = pd.concat([ss, df_1,  df_3, df_5],axis=1) #깔끔한 하나의 숫자로 완성된 데이터프레임을 만들 수 있다!\n",
        "#  기존 컬럼과 겹치는거 방지\n",
        "new= new[[ 'CryoSleep', 'Age', 'VIP', 'RoomService',\n",
        "       'FoodCourt', 'ShoppingMall', 'Spa', 'VRDeck', 'Transported',\n",
        "       'Cabin_deck', 'Cabin_num','HomePlanet_Earth',\n",
        "       'HomePlanet_Europa', 'HomePlanet_Mars', 'Destination_55 Cancri e',\n",
        "       'Destination_PSO J318.5-22', 'Destination_TRAPPIST-1e', 'Cabinside_P',\n",
        "       'Cabinside_S']]\n"
      ],
      "metadata": {
        "id": "1bCwTqWFVpHT"
      },
      "execution_count": 310,
      "outputs": []
    },
    {
      "cell_type": "markdown",
      "source": [
        "# 스케일링\n",
        "- 'Age',  'RoomService', 'FoodCourt', 'ShoppingMall',       'Spa', 'VRDeck',  'Cabin_num',\n",
        "- Standard : age\n",
        "- MinMax : 'Cabin_num',\n",
        "- Maxabs\n",
        "- Robust:  'RoomService', 'FoodCourt', 'ShoppingMall',       'Spa', 'VRDeck',\n",
        "- Normalize\n",
        "      \n",
        "\n"
      ],
      "metadata": {
        "id": "bjXzOLeBYe6R"
      }
    },
    {
      "cell_type": "markdown",
      "source": [
        "## StandardScaler\n",
        "- Age 칼럼"
      ],
      "metadata": {
        "id": "zZy8Yu8_YkWJ"
      }
    },
    {
      "cell_type": "code",
      "source": [
        "from sklearn.preprocessing import StandardScaler\n",
        "import matplotlib.pyplot as plt\n",
        "#2차원 ndarray로 변환\n",
        "items = np.array(new.Age).reshape(-1,1)\n",
        "# StandardScaler객체 생성\n",
        "scaler = StandardScaler()\n",
        "# StandardScaler로 데이터 세트 변환. fit()과 transform() 호출.\n",
        "scaler.fit(items)\n",
        "items_scaled = scaler.transform(items)\n",
        "\n",
        "#transform()시 스케일 변화노딘 데이터 세트가 Numpy ndarray로 반환돼 이를 DataFrame으로 변환\n",
        "items_df_scaled = pd.DataFrame(data=items_scaled)\n",
        "print('feature 들의 평균 값')\n",
        "print(items_df_scaled.mean())\n",
        "print('\\nfeature들의 분산 값')\n",
        "print(items_df_scaled.var())\n",
        "\n",
        "# 칼럼 추가\n",
        "new['Standard_Scale_Age']= items_df_scaled"
      ],
      "metadata": {
        "colab": {
          "base_uri": "https://localhost:8080/"
        },
        "id": "xWVSuQOjWg-O",
        "outputId": "0cd81d00-c51b-4ece-eedb-b2ac015c1c35"
      },
      "execution_count": 329,
      "outputs": [
        {
          "output_type": "stream",
          "name": "stdout",
          "text": [
            "feature 들의 평균 값\n",
            "0    9.717137e-17\n",
            "dtype: float64\n",
            "\n",
            "feature들의 분산 값\n",
            "0    1.000129\n",
            "dtype: float64\n"
          ]
        }
      ]
    },
    {
      "cell_type": "markdown",
      "source": [
        "## MinMaxScaler"
      ],
      "metadata": {
        "id": "g48sKlSgc6nD"
      }
    },
    {
      "cell_type": "code",
      "source": [
        "from sklearn.preprocessing import MinMaxScaler\n",
        "#2차원 ndarray로 변환\n",
        "items = np.array(new.Cabin_num).reshape(-1,1)\n",
        "\n",
        "#MinMaxScaler객체 생성\n",
        "scaler = MinMaxScaler()\n",
        "#MinMaxScaler로 데이터 세트 변환. fit()과 transform() 호출\n",
        "scaler.fit(items)\n",
        "items_scaled = scaler.transform(items)\n",
        "\n",
        "#transform()시 스케일 변환된 데이터 세트가 Numpy ndarray로 반환돼 이를 DataFrame으로 변환\n",
        "items_scaled = pd.DataFrame(data=items_scaled)\n",
        "print('feature들의 최솟값')\n",
        "print(items_scaled.min())\n",
        "print('\\nfeature들의 최댓값')\n",
        "print(items_scaled.max())\n",
        "\n",
        "# 칼럼 추가\n",
        "new['MinMax_Scale_Cabin_num']= items_scaled"
      ],
      "metadata": {
        "colab": {
          "base_uri": "https://localhost:8080/"
        },
        "id": "IfMnqAh0aezv",
        "outputId": "d6a4615f-1606-42c2-d7d1-f45bc35a88b8"
      },
      "execution_count": 334,
      "outputs": [
        {
          "output_type": "stream",
          "name": "stdout",
          "text": [
            "feature들의 최솟값\n",
            "0    0.0\n",
            "dtype: float64\n",
            "\n",
            "feature들의 최댓값\n",
            "0    1.0\n",
            "dtype: float64\n"
          ]
        }
      ]
    },
    {
      "cell_type": "markdown",
      "source": [
        "## MaxAbsScaler\n",
        "- Cabin_num은 음수값이 존재하지 않으므로 위에서 실행한 MinMaxScaler와 동일하게 결과 나옴 확인 가능"
      ],
      "metadata": {
        "id": "kCi8j0R9dmdz"
      }
    },
    {
      "cell_type": "code",
      "source": [
        "from sklearn.preprocessing import MaxAbsScaler\n",
        "\n",
        "#2차원 ndarray로 변환\n",
        "items = np.array(new.Cabin_num).reshape(-1,1)\n",
        "\n",
        "# 변형 객체 생성\n",
        "maxabs_scaler = MaxAbsScaler()\n",
        "\n",
        "# 훈련데이터의 모수 분포 저장\n",
        "maxabs_scaler.fit(items)\n",
        "\n",
        "# 훈련 데이터 스케일링\n",
        "items_scaled = maxabs_scaler.transform(items)\n",
        "\n",
        "#transform()시 스케일 변환된 데이터 세트가 Numpy ndarray로 반환돼 이를 DataFrame으로 변환\n",
        "items_df_scaled = pd.DataFrame(data=items_scaled)\n",
        "print('feature들의 최솟값')\n",
        "print(items_df_scaled.min())\n",
        "print('\\nfeature들의 최댓값')\n",
        "print(items_df_scaled.max())\n",
        "\n",
        "\n"
      ],
      "metadata": {
        "colab": {
          "base_uri": "https://localhost:8080/"
        },
        "id": "GFfFTu95dfX3",
        "outputId": "24ed23b8-aec4-475b-bdd1-d224466ad5ef"
      },
      "execution_count": 336,
      "outputs": [
        {
          "output_type": "stream",
          "name": "stdout",
          "text": [
            "feature들의 최솟값\n",
            "0    0.0\n",
            "dtype: float64\n",
            "\n",
            "feature들의 최댓값\n",
            "0    1.0\n",
            "dtype: float64\n"
          ]
        }
      ]
    },
    {
      "cell_type": "markdown",
      "source": [
        "## RobustScaler"
      ],
      "metadata": {
        "id": "LJX-IXVqeGzw"
      }
    },
    {
      "cell_type": "code",
      "source": [
        "from sklearn.preprocessing import RobustScaler\n",
        "\n",
        "cols = ['RoomService', 'FoodCourt', 'ShoppingMall', 'Spa', 'VRDeck']\n",
        "for col in cols:\n",
        "  #2차원 ndarray로 변환\n",
        "  items = np.array(new[col]).reshape(-1,1)\n",
        "\n",
        "  # 변형 객체 생성\n",
        "  robust_scaler = RobustScaler()\n",
        "\n",
        "  # 훈련데이터의 모수 분포 저장\n",
        "  robust_scaler.fit(items)\n",
        "\n",
        "  # 훈련 데이터 스케일링\n",
        "  items_scaled = robust_scaler.transform(items)\n",
        "\n",
        "  #transform()시 스케일 변환된 데이터 세트가 Numpy ndarray로 반환돼 이를 DataFrame으로 변환\n",
        "  items_df_scaled = pd.DataFrame(data=items_scaled)\n",
        "  print('feature들의 최솟값')\n",
        "  print(items_df_scaled.min())\n",
        "  print('\\nfeature들의 최댓값')\n",
        "  print(items_df_scaled.max())\n",
        "\n",
        "  # 칼럼 추가\n",
        "  feat_name = 'Robust_Scale_'+col\n",
        "  new[feat_name]= items_scaled\n"
      ],
      "metadata": {
        "id": "wIKCfgwjeKK9"
      },
      "execution_count": null,
      "outputs": []
    },
    {
      "cell_type": "markdown",
      "source": [
        "## Normalize"
      ],
      "metadata": {
        "id": "YZ94B-_dfYDz"
      }
    },
    {
      "cell_type": "code",
      "source": [
        "from sklearn.preprocessing import Normalizer\n",
        "items = np.array(new.Age).reshape(-1,1)\n",
        "# 변형 객체 생성\n",
        "normal_scaler = Normalizer()\n",
        "\n",
        "# 훈련데이터의 모수 분포 저장\n",
        "normal_scaler.fit(items)\n",
        "\n",
        "# 훈련 데이터 스케일링\n",
        "X_train_scaled = normal_scaler.transform(items)\n",
        "#transform()시 스케일 변환된 데이터 세트가 Numpy ndarray로 반환돼 이를 DataFrame으로 변환\n",
        "ss_df_scaled = pd.DataFrame(data=X_train_scaled)\n",
        "print('feature들의 최솟값')\n",
        "print(ss_df_scaled.min())\n",
        "print('\\nfeature들의 최댓값')\n",
        "print(ss_df_scaled.max())"
      ],
      "metadata": {
        "colab": {
          "base_uri": "https://localhost:8080/"
        },
        "id": "BmT6K4OSfP6y",
        "outputId": "a5cc806f-4ac3-450e-b21a-cdb203ab6be5"
      },
      "execution_count": 343,
      "outputs": [
        {
          "output_type": "stream",
          "name": "stdout",
          "text": [
            "feature들의 최솟값\n",
            "0    0.0\n",
            "dtype: float64\n",
            "\n",
            "feature들의 최댓값\n",
            "0    1.0\n",
            "dtype: float64\n"
          ]
        }
      ]
    },
    {
      "cell_type": "markdown",
      "source": [
        "## Log"
      ],
      "metadata": {
        "id": "CwQZS3cBgFru"
      }
    },
    {
      "cell_type": "code",
      "source": [
        "data = new.Spa[:1000]\n",
        "y= np.log(data) # 로그변환\n",
        "plt.plot(data, label = 'Original')\n",
        "plt.plot(y, label = 'log')\n",
        "plt.suptitle('Log Transform', size =  24)\n",
        "plt.legend()\n",
        "plt.show()"
      ],
      "metadata": {
        "colab": {
          "base_uri": "https://localhost:8080/",
          "height": 514
        },
        "id": "2BXSbFNFfw9d",
        "outputId": "3cdf1662-aab7-4032-c485-d911993fb570"
      },
      "execution_count": 350,
      "outputs": [
        {
          "output_type": "stream",
          "name": "stderr",
          "text": [
            "/usr/local/lib/python3.10/dist-packages/pandas/core/arraylike.py:402: RuntimeWarning: divide by zero encountered in log\n",
            "  result = getattr(ufunc, method)(*inputs, **kwargs)\n"
          ]
        },
        {
          "output_type": "display_data",
          "data": {
            "text/plain": [
              "<Figure size 640x480 with 1 Axes>"
            ],
            "image/png": "[encoded data removed]"
          },
          "metadata": {}
        }
      ]
    },
    {
      "cell_type": "markdown",
      "source": [
        "# 최종"
      ],
      "metadata": {
        "id": "40iNruVbg2Cd"
      }
    },
    {
      "cell_type": "code",
      "source": [
        "new.columns"
      ],
      "metadata": {
        "colab": {
          "base_uri": "https://localhost:8080/"
        },
        "id": "CjDPw2MIgRSZ",
        "outputId": "df7b56eb-b10e-4e0b-adf0-8cce72936c38"
      },
      "execution_count": 351,
      "outputs": [
        {
          "output_type": "execute_result",
          "data": {
            "text/plain": [
              "Index(['CryoSleep', 'Age', 'VIP', 'RoomService', 'FoodCourt', 'ShoppingMall',\n",
              "       'Spa', 'VRDeck', 'Transported', 'Cabin_deck', 'Cabin_num',\n",
              "       'HomePlanet_Earth', 'HomePlanet_Europa', 'HomePlanet_Mars',\n",
              "       'Destination_55 Cancri e', 'Destination_PSO J318.5-22',\n",
              "       'Destination_TRAPPIST-1e', 'Cabinside_P', 'Cabinside_S',\n",
              "       'Standard_Scale_Age', 'MinMax_Scale_Cabin_num',\n",
              "       'Robust_Scale_RoomService', 'Robust_Scale_FoodCourt',\n",
              "       'Robust_Scale_ShoppingMall', 'Robust_Scale_Spa', 'Robust_Scale_VRDeck'],\n",
              "      dtype='object')"
            ]
          },
          "metadata": {},
          "execution_count": 351
        }
      ]
    },
    {
      "cell_type": "code",
      "source": [
        "final = new[['CryoSleep',  'VIP',  'Cabin_deck',\n",
        "       'HomePlanet_Earth', 'HomePlanet_Europa', 'HomePlanet_Mars',\n",
        "       'Destination_55 Cancri e', 'Destination_PSO J318.5-22',\n",
        "       'Destination_TRAPPIST-1e', 'Cabinside_P', 'Cabinside_S',\n",
        "       'Standard_Scale_Age', 'MinMax_Scale_Cabin_num',\n",
        "       'Robust_Scale_RoomService', 'Robust_Scale_FoodCourt',\n",
        "       'Robust_Scale_ShoppingMall', 'Robust_Scale_Spa', 'Robust_Scale_VRDeck', 'Transported',]]\n",
        "final"
      ],
      "metadata": {
        "colab": {
          "base_uri": "https://localhost:8080/",
          "height": 505
        },
        "id": "WHUFLIDvgzdQ",
        "outputId": "877518dd-fcb2-4907-aa43-7788c216b4f3"
      },
      "execution_count": 354,
      "outputs": [
        {
          "output_type": "execute_result",
          "data": {
            "text/plain": [
              "     CryoSleep    VIP  Cabin_deck  HomePlanet_Earth  HomePlanet_Europa  \\\n",
              "0        False  False           1                 0                  1   \n",
              "1        False  False           5                 1                  0   \n",
              "2        False   True           0                 0                  1   \n",
              "3        False  False           0                 0                  1   \n",
              "4        False  False           5                 1                  0   \n",
              "...        ...    ...         ...               ...                ...   \n",
              "7746     False   True           0                 0                  1   \n",
              "7747      True  False           6                 1                  0   \n",
              "7748     False  False           6                 1                  0   \n",
              "7749     False  False           4                 0                  1   \n",
              "7750     False  False           4                 0                  1   \n",
              "\n",
              "      HomePlanet_Mars  Destination_55 Cancri e  Destination_PSO J318.5-22  \\\n",
              "0                   0                        0                          0   \n",
              "1                   0                        0                          0   \n",
              "2                   0                        0                          0   \n",
              "3                   0                        0                          0   \n",
              "4                   0                        0                          0   \n",
              "...               ...                      ...                        ...   \n",
              "7746                0                        1                          0   \n",
              "7747                0                        0                          1   \n",
              "7748                0                        0                          0   \n",
              "7749                0                        1                          0   \n",
              "7750                0                        0                          0   \n",
              "\n",
              "      Destination_TRAPPIST-1e  Cabinside_P  Cabinside_S  Standard_Scale_Age  \\\n",
              "0                           1            1            0            0.701040   \n",
              "1                           1            0            1           -0.331824   \n",
              "2                           1            0            1            2.009335   \n",
              "3                           1            0            1            0.287894   \n",
              "4                           1            0            1           -0.882685   \n",
              "...                       ...          ...          ...                 ...   \n",
              "7746                        0            1            0            0.838755   \n",
              "7747                        0            0            1           -0.744970   \n",
              "7748                        1            0            1           -0.194109   \n",
              "7749                        0            0            1            0.219037   \n",
              "7750                        1            0            1            1.045328   \n",
              "\n",
              "      MinMax_Scale_Cabin_num  Robust_Scale_RoomService  \\\n",
              "0                   0.000000                  0.000000   \n",
              "1                   0.000000                  2.534884   \n",
              "2                   0.000000                  1.000000   \n",
              "3                   0.000000                  0.000000   \n",
              "4                   0.000528                  7.046512   \n",
              "...                      ...                       ...   \n",
              "7746                0.051742                  0.000000   \n",
              "7747                0.791447                  0.000000   \n",
              "7748                0.791975                  0.000000   \n",
              "7749                0.321014                  0.000000   \n",
              "7750                0.321014                  2.930233   \n",
              "\n",
              "      Robust_Scale_FoodCourt  Robust_Scale_ShoppingMall  Robust_Scale_Spa  \\\n",
              "0                   0.000000                   0.000000          0.000000   \n",
              "1                   0.140625                   1.041667          9.803571   \n",
              "2                  55.875000                   0.000000        119.910714   \n",
              "3                  20.046875                  15.458333         59.446429   \n",
              "4                   1.093750                   6.291667         10.089286   \n",
              "...                      ...                        ...               ...   \n",
              "7746              106.546875                   0.000000         29.339286   \n",
              "7747                0.000000                   0.000000          0.000000   \n",
              "7748                0.000000                  78.000000          0.017857   \n",
              "7749               16.390625                   0.000000          6.303571   \n",
              "7750               73.250000                   0.000000          0.000000   \n",
              "\n",
              "      Robust_Scale_VRDeck  Transported  \n",
              "0                0.000000        False  \n",
              "1                1.073171         True  \n",
              "2                1.195122        False  \n",
              "3                4.707317        False  \n",
              "4                0.048780         True  \n",
              "...                   ...          ...  \n",
              "7746             1.804878        False  \n",
              "7747             0.000000        False  \n",
              "7748             0.000000         True  \n",
              "7749            78.902439        False  \n",
              "7750             0.292683         True  \n",
              "\n",
              "[7751 rows x 19 columns]"
            ],
            "text/html": [
              "\n",
              "\n",
              "  <div id=\"df-925b9bdb-f31a-4497-aca4-afedb65bb9c9\">\n",
              "    <div class=\"colab-df-container\">\n",
              "      <div>\n",
              "<style scoped>\n",
              "    .dataframe tbody tr th:only-of-type {\n",
              "        vertical-align: middle;\n",
              "    }\n",
              "\n",
              "    .dataframe tbody tr th {\n",
              "        vertical-align: top;\n",
              "    }\n",
              "\n",
              "    .dataframe thead th {\n",
              "        text-align: right;\n",
              "    }\n",
              "</style>\n",
              "<table border=\"1\" class=\"dataframe\">\n",
              "  <thead>\n",
              "    <tr style=\"text-align: right;\">\n",
              "      <th></th>\n",
              "      <th>CryoSleep</th>\n",
              "      <th>VIP</th>\n",
              "      <th>Cabin_deck</th>\n",
              "      <th>HomePlanet_Earth</th>\n",
              "      <th>HomePlanet_Europa</th>\n",
              "      <th>HomePlanet_Mars</th>\n",
              "      <th>Destination_55 Cancri e</th>\n",
              "      <th>Destination_PSO J318.5-22</th>\n",
              "      <th>Destination_TRAPPIST-1e</th>\n",
              "      <th>Cabinside_P</th>\n",
              "      <th>Cabinside_S</th>\n",
              "      <th>Standard_Scale_Age</th>\n",
              "      <th>MinMax_Scale_Cabin_num</th>\n",
              "      <th>Robust_Scale_RoomService</th>\n",
              "      <th>Robust_Scale_FoodCourt</th>\n",
              "      <th>Robust_Scale_ShoppingMall</th>\n",
              "      <th>Robust_Scale_Spa</th>\n",
              "      <th>Robust_Scale_VRDeck</th>\n",
              "      <th>Transported</th>\n",
              "    </tr>\n",
              "  </thead>\n",
              "  <tbody>\n",
              "    <tr>\n",
              "      <th>0</th>\n",
              "      <td>False</td>\n",
              "      <td>False</td>\n",
              "      <td>1</td>\n",
              "      <td>0</td>\n",
              "      <td>1</td>\n",
              "      <td>0</td>\n",
              "      <td>0</td>\n",
              "      <td>0</td>\n",
              "      <td>1</td>\n",
              "      <td>1</td>\n",
              "      <td>0</td>\n",
              "      <td>0.701040</td>\n",
              "      <td>0.000000</td>\n",
              "      <td>0.000000</td>\n",
              "      <td>0.000000</td>\n",
              "      <td>0.000000</td>\n",
              "      <td>0.000000</td>\n",
              "      <td>0.000000</td>\n",
              "      <td>False</td>\n",
              "    </tr>\n",
              "    <tr>\n",
              "      <th>1</th>\n",
              "      <td>False</td>\n",
              "      <td>False</td>\n",
              "      <td>5</td>\n",
              "      <td>1</td>\n",
              "      <td>0</td>\n",
              "      <td>0</td>\n",
              "      <td>0</td>\n",
              "      <td>0</td>\n",
              "      <td>1</td>\n",
              "      <td>0</td>\n",
              "      <td>1</td>\n",
              "      <td>-0.331824</td>\n",
              "      <td>0.000000</td>\n",
              "      <td>2.534884</td>\n",
              "      <td>0.140625</td>\n",
              "      <td>1.041667</td>\n",
              "      <td>9.803571</td>\n",
              "      <td>1.073171</td>\n",
              "      <td>True</td>\n",
              "    </tr>\n",
              "    <tr>\n",
              "      <th>2</th>\n",
              "      <td>False</td>\n",
              "      <td>True</td>\n",
              "      <td>0</td>\n",
              "      <td>0</td>\n",
              "      <td>1</td>\n",
              "      <td>0</td>\n",
              "      <td>0</td>\n",
              "      <td>0</td>\n",
              "      <td>1</td>\n",
              "      <td>0</td>\n",
              "      <td>1</td>\n",
              "      <td>2.009335</td>\n",
              "      <td>0.000000</td>\n",
              "      <td>1.000000</td>\n",
              "      <td>55.875000</td>\n",
              "      <td>0.000000</td>\n",
              "      <td>119.910714</td>\n",
              "      <td>1.195122</td>\n",
              "      <td>False</td>\n",
              "    </tr>\n",
              "    <tr>\n",
              "      <th>3</th>\n",
              "      <td>False</td>\n",
              "      <td>False</td>\n",
              "      <td>0</td>\n",
              "      <td>0</td>\n",
              "      <td>1</td>\n",
              "      <td>0</td>\n",
              "      <td>0</td>\n",
              "      <td>0</td>\n",
              "      <td>1</td>\n",
              "      <td>0</td>\n",
              "      <td>1</td>\n",
              "      <td>0.287894</td>\n",
              "      <td>0.000000</td>\n",
              "      <td>0.000000</td>\n",
              "      <td>20.046875</td>\n",
              "      <td>15.458333</td>\n",
              "      <td>59.446429</td>\n",
              "      <td>4.707317</td>\n",
              "      <td>False</td>\n",
              "    </tr>\n",
              "    <tr>\n",
              "      <th>4</th>\n",
              "      <td>False</td>\n",
              "      <td>False</td>\n",
              "      <td>5</td>\n",
              "      <td>1</td>\n",
              "      <td>0</td>\n",
              "      <td>0</td>\n",
              "      <td>0</td>\n",
              "      <td>0</td>\n",
              "      <td>1</td>\n",
              "      <td>0</td>\n",
              "      <td>1</td>\n",
              "      <td>-0.882685</td>\n",
              "      <td>0.000528</td>\n",
              "      <td>7.046512</td>\n",
              "      <td>1.093750</td>\n",
              "      <td>6.291667</td>\n",
              "      <td>10.089286</td>\n",
              "      <td>0.048780</td>\n",
              "      <td>True</td>\n",
              "    </tr>\n",
              "    <tr>\n",
              "      <th>...</th>\n",
              "      <td>...</td>\n",
              "      <td>...</td>\n",
              "      <td>...</td>\n",
              "      <td>...</td>\n",
              "      <td>...</td>\n",
              "      <td>...</td>\n",
              "      <td>...</td>\n",
              "      <td>...</td>\n",
              "      <td>...</td>\n",
              "      <td>...</td>\n",
              "      <td>...</td>\n",
              "      <td>...</td>\n",
              "      <td>...</td>\n",
              "      <td>...</td>\n",
              "      <td>...</td>\n",
              "      <td>...</td>\n",
              "      <td>...</td>\n",
              "      <td>...</td>\n",
              "      <td>...</td>\n",
              "    </tr>\n",
              "    <tr>\n",
              "      <th>7746</th>\n",
              "      <td>False</td>\n",
              "      <td>True</td>\n",
              "      <td>0</td>\n",
              "      <td>0</td>\n",
              "      <td>1</td>\n",
              "      <td>0</td>\n",
              "      <td>1</td>\n",
              "      <td>0</td>\n",
              "      <td>0</td>\n",
              "      <td>1</td>\n",
              "      <td>0</td>\n",
              "      <td>0.838755</td>\n",
              "      <td>0.051742</td>\n",
              "      <td>0.000000</td>\n",
              "      <td>106.546875</td>\n",
              "      <td>0.000000</td>\n",
              "      <td>29.339286</td>\n",
              "      <td>1.804878</td>\n",
              "      <td>False</td>\n",
              "    </tr>\n",
              "    <tr>\n",
              "      <th>7747</th>\n",
              "      <td>True</td>\n",
              "      <td>False</td>\n",
              "      <td>6</td>\n",
              "      <td>1</td>\n",
              "      <td>0</td>\n",
              "      <td>0</td>\n",
              "      <td>0</td>\n",
              "      <td>1</td>\n",
              "      <td>0</td>\n",
              "      <td>0</td>\n",
              "      <td>1</td>\n",
              "      <td>-0.744970</td>\n",
              "      <td>0.791447</td>\n",
              "      <td>0.000000</td>\n",
              "      <td>0.000000</td>\n",
              "      <td>0.000000</td>\n",
              "      <td>0.000000</td>\n",
              "      <td>0.000000</td>\n",
              "      <td>False</td>\n",
              "    </tr>\n",
              "    <tr>\n",
              "      <th>7748</th>\n",
              "      <td>False</td>\n",
              "      <td>False</td>\n",
              "      <td>6</td>\n",
              "      <td>1</td>\n",
              "      <td>0</td>\n",
              "      <td>0</td>\n",
              "      <td>0</td>\n",
              "      <td>0</td>\n",
              "      <td>1</td>\n",
              "      <td>0</td>\n",
              "      <td>1</td>\n",
              "      <td>-0.194109</td>\n",
              "      <td>0.791975</td>\n",
              "      <td>0.000000</td>\n",
              "      <td>0.000000</td>\n",
              "      <td>78.000000</td>\n",
              "      <td>0.017857</td>\n",
              "      <td>0.000000</td>\n",
              "      <td>True</td>\n",
              "    </tr>\n",
              "    <tr>\n",
              "      <th>7749</th>\n",
              "      <td>False</td>\n",
              "      <td>False</td>\n",
              "      <td>4</td>\n",
              "      <td>0</td>\n",
              "      <td>1</td>\n",
              "      <td>0</td>\n",
              "      <td>1</td>\n",
              "      <td>0</td>\n",
              "      <td>0</td>\n",
              "      <td>0</td>\n",
              "      <td>1</td>\n",
              "      <td>0.219037</td>\n",
              "      <td>0.321014</td>\n",
              "      <td>0.000000</td>\n",
              "      <td>16.390625</td>\n",
              "      <td>0.000000</td>\n",
              "      <td>6.303571</td>\n",
              "      <td>78.902439</td>\n",
              "      <td>False</td>\n",
              "    </tr>\n",
              "    <tr>\n",
              "      <th>7750</th>\n",
              "      <td>False</td>\n",
              "      <td>False</td>\n",
              "      <td>4</td>\n",
              "      <td>0</td>\n",
              "      <td>1</td>\n",
              "      <td>0</td>\n",
              "      <td>0</td>\n",
              "      <td>0</td>\n",
              "      <td>1</td>\n",
              "      <td>0</td>\n",
              "      <td>1</td>\n",
              "      <td>1.045328</td>\n",
              "      <td>0.321014</td>\n",
              "      <td>2.930233</td>\n",
              "      <td>73.250000</td>\n",
              "      <td>0.000000</td>\n",
              "      <td>0.000000</td>\n",
              "      <td>0.292683</td>\n",
              "      <td>True</td>\n",
              "    </tr>\n",
              "  </tbody>\n",
              "</table>\n",
              "<p>7751 rows × 19 columns</p>\n",
              "</div>\n",
              "      <button class=\"colab-df-convert\" onclick=\"convertToInteractive('df-925b9bdb-f31a-4497-aca4-afedb65bb9c9')\"\n",
              "              title=\"Convert this dataframe to an interactive table.\"\n",
              "              style=\"display:none;\">\n",
              "\n",
              "  <svg xmlns=\"http://www.w3.org/2000/svg\" height=\"24px\"viewBox=\"0 0 24 24\"\n",
              "       width=\"24px\">\n",
              "    <path d=\"M0 0h24v24H0V0z\" fill=\"none\"/>\n",
              "    <path d=\"M18.56 5.44l.94 2.06.94-2.06 2.06-.94-2.06-.94-.94-2.06-.94 2.06-2.06.94zm-11 1L8.5 8.5l.94-2.06 2.06-.94-2.06-.94L8.5 2.5l-.94 2.06-2.06.94zm10 10l.94 2.06.94-2.06 2.06-.94-2.06-.94-.94-2.06-.94 2.06-2.06.94z\"/><path d=\"M17.41 7.96l-1.37-1.37c-.4-.4-.92-.59-1.43-.59-.52 0-1.04.2-1.43.59L10.3 9.45l-7.72 7.72c-.78.78-.78 2.05 0 2.83L4 21.41c.39.39.9.59 1.41.59.51 0 1.02-.2 1.41-.59l7.78-7.78 2.81-2.81c.8-.78.8-2.07 0-2.86zM5.41 20L4 18.59l7.72-7.72 1.47 1.35L5.41 20z\"/>\n",
              "  </svg>\n",
              "      </button>\n",
              "\n",
              "\n",
              "\n",
              "    <div id=\"df-f79eba6b-de94-4bda-8168-06a627f5f03d\">\n",
              "      <button class=\"colab-df-quickchart\" onclick=\"quickchart('df-f79eba6b-de94-4bda-8168-06a627f5f03d')\"\n",
              "              title=\"Suggest charts.\"\n",
              "              style=\"display:none;\">\n",
              "\n",
              "<svg xmlns=\"http://www.w3.org/2000/svg\" height=\"24px\"viewBox=\"0 0 24 24\"\n",
              "     width=\"24px\">\n",
              "    <g>\n",
              "        <path d=\"M19 3H5c-1.1 0-2 .9-2 2v14c0 1.1.9 2 2 2h14c1.1 0 2-.9 2-2V5c0-1.1-.9-2-2-2zM9 17H7v-7h2v7zm4 0h-2V7h2v10zm4 0h-2v-4h2v4z\"/>\n",
              "    </g>\n",
              "</svg>\n",
              "      </button>\n",
              "    </div>\n",
              "\n",
              "<style>\n",
              "  .colab-df-quickchart {\n",
              "    background-color: #E8F0FE;\n",
              "    border: none;\n",
              "    border-radius: 50%;\n",
              "    cursor: pointer;\n",
              "    display: none;\n",
              "    fill: #1967D2;\n",
              "    height: 32px;\n",
              "    padding: 0 0 0 0;\n",
              "    width: 32px;\n",
              "  }\n",
              "\n",
              "  .colab-df-quickchart:hover {\n",
              "    background-color: #E2EBFA;\n",
              "    box-shadow: 0px 1px 2px rgba(60, 64, 67, 0.3), 0px 1px 3px 1px rgba(60, 64, 67, 0.15);\n",
              "    fill: #174EA6;\n",
              "  }\n",
              "\n",
              "  [theme=dark] .colab-df-quickchart {\n",
              "    background-color: #3B4455;\n",
              "    fill: #D2E3FC;\n",
              "  }\n",
              "\n",
              "  [theme=dark] .colab-df-quickchart:hover {\n",
              "    background-color: #434B5C;\n",
              "    box-shadow: 0px 1px 3px 1px rgba(0, 0, 0, 0.15);\n",
              "    filter: drop-shadow(0px 1px 2px rgba(0, 0, 0, 0.3));\n",
              "    fill: #FFFFFF;\n",
              "  }\n",
              "</style>\n",
              "\n",
              "    <script>\n",
              "      async function quickchart(key) {\n",
              "        const containerElement = document.querySelector('#' + key);\n",
              "        const charts = await google.colab.kernel.invokeFunction(\n",
              "            'suggestCharts', [key], {});\n",
              "      }\n",
              "    </script>\n",
              "\n",
              "      <script>\n",
              "\n",
              "function displayQuickchartButton(domScope) {\n",
              "  let quickchartButtonEl =\n",
              "    domScope.querySelector('#df-f79eba6b-de94-4bda-8168-06a627f5f03d button.colab-df-quickchart');\n",
              "  quickchartButtonEl.style.display =\n",
              "    google.colab.kernel.accessAllowed ? 'block' : 'none';\n",
              "}\n",
              "\n",
              "        displayQuickchartButton(document);\n",
              "      </script>\n",
              "      <style>\n",
              "    .colab-df-container {\n",
              "      display:flex;\n",
              "      flex-wrap:wrap;\n",
              "      gap: 12px;\n",
              "    }\n",
              "\n",
              "    .colab-df-convert {\n",
              "      background-color: #E8F0FE;\n",
              "      border: none;\n",
              "      border-radius: 50%;\n",
              "      cursor: pointer;\n",
              "      display: none;\n",
              "      fill: #1967D2;\n",
              "      height: 32px;\n",
              "      padding: 0 0 0 0;\n",
              "      width: 32px;\n",
              "    }\n",
              "\n",
              "    .colab-df-convert:hover {\n",
              "      background-color: #E2EBFA;\n",
              "      box-shadow: 0px 1px 2px rgba(60, 64, 67, 0.3), 0px 1px 3px 1px rgba(60, 64, 67, 0.15);\n",
              "      fill: #174EA6;\n",
              "    }\n",
              "\n",
              "    [theme=dark] .colab-df-convert {\n",
              "      background-color: #3B4455;\n",
              "      fill: #D2E3FC;\n",
              "    }\n",
              "\n",
              "    [theme=dark] .colab-df-convert:hover {\n",
              "      background-color: #434B5C;\n",
              "      box-shadow: 0px 1px 3px 1px rgba(0, 0, 0, 0.15);\n",
              "      filter: drop-shadow(0px 1px 2px rgba(0, 0, 0, 0.3));\n",
              "      fill: #FFFFFF;\n",
              "    }\n",
              "  </style>\n",
              "\n",
              "      <script>\n",
              "        const buttonEl =\n",
              "          document.querySelector('#df-925b9bdb-f31a-4497-aca4-afedb65bb9c9 button.colab-df-convert');\n",
              "        buttonEl.style.display =\n",
              "          google.colab.kernel.accessAllowed ? 'block' : 'none';\n",
              "\n",
              "        async function convertToInteractive(key) {\n",
              "          const element = document.querySelector('#df-925b9bdb-f31a-4497-aca4-afedb65bb9c9');\n",
              "          const dataTable =\n",
              "            await google.colab.kernel.invokeFunction('convertToInteractive',\n",
              "                                                     [key], {});\n",
              "          if (!dataTable) return;\n",
              "\n",
              "          const docLinkHtml = 'Like what you see? Visit the ' +\n",
              "            '<a target=\"_blank\" href=https://colab.research.google.com/notebooks/data_table.ipynb>data table notebook</a>'\n",
              "            + ' to learn more about interactive tables.';\n",
              "          element.innerHTML = '';\n",
              "          dataTable['output_type'] = 'display_data';\n",
              "          await google.colab.output.renderOutput(dataTable, element);\n",
              "          const docLink = document.createElement('div');\n",
              "          docLink.innerHTML = docLinkHtml;\n",
              "          element.appendChild(docLink);\n",
              "        }\n",
              "      </script>\n",
              "    </div>\n",
              "  </div>\n"
            ]
          },
          "metadata": {},
          "execution_count": 354
        }
      ]
    },
    {
      "cell_type": "code",
      "source": [
        "final.to_csv('spaceship_tt_final.csv',index= False)"
      ],
      "metadata": {
        "id": "n8KC6gmchG5Q"
      },
      "execution_count": 356,
      "outputs": []
    },
    {
      "cell_type": "code",
      "source": [
        "pd.read_csv('/content/spaceship_tt_final.csv')"
      ],
      "metadata": {
        "colab": {
          "base_uri": "https://localhost:8080/",
          "height": 505
        },
        "id": "6IbhKIFUhP38",
        "outputId": "f246a250-a4a8-4cdc-9c88-819114007401"
      },
      "execution_count": 357,
      "outputs": [
        {
          "output_type": "execute_result",
          "data": {
            "text/plain": [
              "      CryoSleep    VIP  Cabin_deck  HomePlanet_Earth  HomePlanet_Europa  \\\n",
              "0         False  False           1                 0                  1   \n",
              "1         False  False           5                 1                  0   \n",
              "2         False   True           0                 0                  1   \n",
              "3         False  False           0                 0                  1   \n",
              "4         False  False           5                 1                  0   \n",
              "...         ...    ...         ...               ...                ...   \n",
              "7746      False   True           0                 0                  1   \n",
              "7747       True  False           6                 1                  0   \n",
              "7748      False  False           6                 1                  0   \n",
              "7749      False  False           4                 0                  1   \n",
              "7750      False  False           4                 0                  1   \n",
              "\n",
              "      HomePlanet_Mars  Destination_55 Cancri e  Destination_PSO J318.5-22  \\\n",
              "0                   0                        0                          0   \n",
              "1                   0                        0                          0   \n",
              "2                   0                        0                          0   \n",
              "3                   0                        0                          0   \n",
              "4                   0                        0                          0   \n",
              "...               ...                      ...                        ...   \n",
              "7746                0                        1                          0   \n",
              "7747                0                        0                          1   \n",
              "7748                0                        0                          0   \n",
              "7749                0                        1                          0   \n",
              "7750                0                        0                          0   \n",
              "\n",
              "      Destination_TRAPPIST-1e  Cabinside_P  Cabinside_S  Standard_Scale_Age  \\\n",
              "0                           1            1            0            0.701040   \n",
              "1                           1            0            1           -0.331824   \n",
              "2                           1            0            1            2.009335   \n",
              "3                           1            0            1            0.287894   \n",
              "4                           1            0            1           -0.882685   \n",
              "...                       ...          ...          ...                 ...   \n",
              "7746                        0            1            0            0.838755   \n",
              "7747                        0            0            1           -0.744970   \n",
              "7748                        1            0            1           -0.194109   \n",
              "7749                        0            0            1            0.219037   \n",
              "7750                        1            0            1            1.045328   \n",
              "\n",
              "      MinMax_Scale_Cabin_num  Robust_Scale_RoomService  \\\n",
              "0                   0.000000                  0.000000   \n",
              "1                   0.000000                  2.534884   \n",
              "2                   0.000000                  1.000000   \n",
              "3                   0.000000                  0.000000   \n",
              "4                   0.000528                  7.046512   \n",
              "...                      ...                       ...   \n",
              "7746                0.051742                  0.000000   \n",
              "7747                0.791447                  0.000000   \n",
              "7748                0.791975                  0.000000   \n",
              "7749                0.321014                  0.000000   \n",
              "7750                0.321014                  2.930233   \n",
              "\n",
              "      Robust_Scale_FoodCourt  Robust_Scale_ShoppingMall  Robust_Scale_Spa  \\\n",
              "0                   0.000000                   0.000000          0.000000   \n",
              "1                   0.140625                   1.041667          9.803571   \n",
              "2                  55.875000                   0.000000        119.910714   \n",
              "3                  20.046875                  15.458333         59.446429   \n",
              "4                   1.093750                   6.291667         10.089286   \n",
              "...                      ...                        ...               ...   \n",
              "7746              106.546875                   0.000000         29.339286   \n",
              "7747                0.000000                   0.000000          0.000000   \n",
              "7748                0.000000                  78.000000          0.017857   \n",
              "7749               16.390625                   0.000000          6.303571   \n",
              "7750               73.250000                   0.000000          0.000000   \n",
              "\n",
              "      Robust_Scale_VRDeck  Transported  \n",
              "0                0.000000        False  \n",
              "1                1.073171         True  \n",
              "2                1.195122        False  \n",
              "3                4.707317        False  \n",
              "4                0.048780         True  \n",
              "...                   ...          ...  \n",
              "7746             1.804878        False  \n",
              "7747             0.000000        False  \n",
              "7748             0.000000         True  \n",
              "7749            78.902439        False  \n",
              "7750             0.292683         True  \n",
              "\n",
              "[7751 rows x 19 columns]"
            ],
            "text/html": [
              "\n",
              "\n",
              "  <div id=\"df-fb58461b-aea1-4004-b4c6-bb421150fa7c\">\n",
              "    <div class=\"colab-df-container\">\n",
              "      <div>\n",
              "<style scoped>\n",
              "    .dataframe tbody tr th:only-of-type {\n",
              "        vertical-align: middle;\n",
              "    }\n",
              "\n",
              "    .dataframe tbody tr th {\n",
              "        vertical-align: top;\n",
              "    }\n",
              "\n",
              "    .dataframe thead th {\n",
              "        text-align: right;\n",
              "    }\n",
              "</style>\n",
              "<table border=\"1\" class=\"dataframe\">\n",
              "  <thead>\n",
              "    <tr style=\"text-align: right;\">\n",
              "      <th></th>\n",
              "      <th>CryoSleep</th>\n",
              "      <th>VIP</th>\n",
              "      <th>Cabin_deck</th>\n",
              "      <th>HomePlanet_Earth</th>\n",
              "      <th>HomePlanet_Europa</th>\n",
              "      <th>HomePlanet_Mars</th>\n",
              "      <th>Destination_55 Cancri e</th>\n",
              "      <th>Destination_PSO J318.5-22</th>\n",
              "      <th>Destination_TRAPPIST-1e</th>\n",
              "      <th>Cabinside_P</th>\n",
              "      <th>Cabinside_S</th>\n",
              "      <th>Standard_Scale_Age</th>\n",
              "      <th>MinMax_Scale_Cabin_num</th>\n",
              "      <th>Robust_Scale_RoomService</th>\n",
              "      <th>Robust_Scale_FoodCourt</th>\n",
              "      <th>Robust_Scale_ShoppingMall</th>\n",
              "      <th>Robust_Scale_Spa</th>\n",
              "      <th>Robust_Scale_VRDeck</th>\n",
              "      <th>Transported</th>\n",
              "    </tr>\n",
              "  </thead>\n",
              "  <tbody>\n",
              "    <tr>\n",
              "      <th>0</th>\n",
              "      <td>False</td>\n",
              "      <td>False</td>\n",
              "      <td>1</td>\n",
              "      <td>0</td>\n",
              "      <td>1</td>\n",
              "      <td>0</td>\n",
              "      <td>0</td>\n",
              "      <td>0</td>\n",
              "      <td>1</td>\n",
              "      <td>1</td>\n",
              "      <td>0</td>\n",
              "      <td>0.701040</td>\n",
              "      <td>0.000000</td>\n",
              "      <td>0.000000</td>\n",
              "      <td>0.000000</td>\n",
              "      <td>0.000000</td>\n",
              "      <td>0.000000</td>\n",
              "      <td>0.000000</td>\n",
              "      <td>False</td>\n",
              "    </tr>\n",
              "    <tr>\n",
              "      <th>1</th>\n",
              "      <td>False</td>\n",
              "      <td>False</td>\n",
              "      <td>5</td>\n",
              "      <td>1</td>\n",
              "      <td>0</td>\n",
              "      <td>0</td>\n",
              "      <td>0</td>\n",
              "      <td>0</td>\n",
              "      <td>1</td>\n",
              "      <td>0</td>\n",
              "      <td>1</td>\n",
              "      <td>-0.331824</td>\n",
              "      <td>0.000000</td>\n",
              "      <td>2.534884</td>\n",
              "      <td>0.140625</td>\n",
              "      <td>1.041667</td>\n",
              "      <td>9.803571</td>\n",
              "      <td>1.073171</td>\n",
              "      <td>True</td>\n",
              "    </tr>\n",
              "    <tr>\n",
              "      <th>2</th>\n",
              "      <td>False</td>\n",
              "      <td>True</td>\n",
              "      <td>0</td>\n",
              "      <td>0</td>\n",
              "      <td>1</td>\n",
              "      <td>0</td>\n",
              "      <td>0</td>\n",
              "      <td>0</td>\n",
              "      <td>1</td>\n",
              "      <td>0</td>\n",
              "      <td>1</td>\n",
              "      <td>2.009335</td>\n",
              "      <td>0.000000</td>\n",
              "      <td>1.000000</td>\n",
              "      <td>55.875000</td>\n",
              "      <td>0.000000</td>\n",
              "      <td>119.910714</td>\n",
              "      <td>1.195122</td>\n",
              "      <td>False</td>\n",
              "    </tr>\n",
              "    <tr>\n",
              "      <th>3</th>\n",
              "      <td>False</td>\n",
              "      <td>False</td>\n",
              "      <td>0</td>\n",
              "      <td>0</td>\n",
              "      <td>1</td>\n",
              "      <td>0</td>\n",
              "      <td>0</td>\n",
              "      <td>0</td>\n",
              "      <td>1</td>\n",
              "      <td>0</td>\n",
              "      <td>1</td>\n",
              "      <td>0.287894</td>\n",
              "      <td>0.000000</td>\n",
              "      <td>0.000000</td>\n",
              "      <td>20.046875</td>\n",
              "      <td>15.458333</td>\n",
              "      <td>59.446429</td>\n",
              "      <td>4.707317</td>\n",
              "      <td>False</td>\n",
              "    </tr>\n",
              "    <tr>\n",
              "      <th>4</th>\n",
              "      <td>False</td>\n",
              "      <td>False</td>\n",
              "      <td>5</td>\n",
              "      <td>1</td>\n",
              "      <td>0</td>\n",
              "      <td>0</td>\n",
              "      <td>0</td>\n",
              "      <td>0</td>\n",
              "      <td>1</td>\n",
              "      <td>0</td>\n",
              "      <td>1</td>\n",
              "      <td>-0.882685</td>\n",
              "      <td>0.000528</td>\n",
              "      <td>7.046512</td>\n",
              "      <td>1.093750</td>\n",
              "      <td>6.291667</td>\n",
              "      <td>10.089286</td>\n",
              "      <td>0.048780</td>\n",
              "      <td>True</td>\n",
              "    </tr>\n",
              "    <tr>\n",
              "      <th>...</th>\n",
              "      <td>...</td>\n",
              "      <td>...</td>\n",
              "      <td>...</td>\n",
              "      <td>...</td>\n",
              "      <td>...</td>\n",
              "      <td>...</td>\n",
              "      <td>...</td>\n",
              "      <td>...</td>\n",
              "      <td>...</td>\n",
              "      <td>...</td>\n",
              "      <td>...</td>\n",
              "      <td>...</td>\n",
              "      <td>...</td>\n",
              "      <td>...</td>\n",
              "      <td>...</td>\n",
              "      <td>...</td>\n",
              "      <td>...</td>\n",
              "      <td>...</td>\n",
              "      <td>...</td>\n",
              "    </tr>\n",
              "    <tr>\n",
              "      <th>7746</th>\n",
              "      <td>False</td>\n",
              "      <td>True</td>\n",
              "      <td>0</td>\n",
              "      <td>0</td>\n",
              "      <td>1</td>\n",
              "      <td>0</td>\n",
              "      <td>1</td>\n",
              "      <td>0</td>\n",
              "      <td>0</td>\n",
              "      <td>1</td>\n",
              "      <td>0</td>\n",
              "      <td>0.838755</td>\n",
              "      <td>0.051742</td>\n",
              "      <td>0.000000</td>\n",
              "      <td>106.546875</td>\n",
              "      <td>0.000000</td>\n",
              "      <td>29.339286</td>\n",
              "      <td>1.804878</td>\n",
              "      <td>False</td>\n",
              "    </tr>\n",
              "    <tr>\n",
              "      <th>7747</th>\n",
              "      <td>True</td>\n",
              "      <td>False</td>\n",
              "      <td>6</td>\n",
              "      <td>1</td>\n",
              "      <td>0</td>\n",
              "      <td>0</td>\n",
              "      <td>0</td>\n",
              "      <td>1</td>\n",
              "      <td>0</td>\n",
              "      <td>0</td>\n",
              "      <td>1</td>\n",
              "      <td>-0.744970</td>\n",
              "      <td>0.791447</td>\n",
              "      <td>0.000000</td>\n",
              "      <td>0.000000</td>\n",
              "      <td>0.000000</td>\n",
              "      <td>0.000000</td>\n",
              "      <td>0.000000</td>\n",
              "      <td>False</td>\n",
              "    </tr>\n",
              "    <tr>\n",
              "      <th>7748</th>\n",
              "      <td>False</td>\n",
              "      <td>False</td>\n",
              "      <td>6</td>\n",
              "      <td>1</td>\n",
              "      <td>0</td>\n",
              "      <td>0</td>\n",
              "      <td>0</td>\n",
              "      <td>0</td>\n",
              "      <td>1</td>\n",
              "      <td>0</td>\n",
              "      <td>1</td>\n",
              "      <td>-0.194109</td>\n",
              "      <td>0.791975</td>\n",
              "      <td>0.000000</td>\n",
              "      <td>0.000000</td>\n",
              "      <td>78.000000</td>\n",
              "      <td>0.017857</td>\n",
              "      <td>0.000000</td>\n",
              "      <td>True</td>\n",
              "    </tr>\n",
              "    <tr>\n",
              "      <th>7749</th>\n",
              "      <td>False</td>\n",
              "      <td>False</td>\n",
              "      <td>4</td>\n",
              "      <td>0</td>\n",
              "      <td>1</td>\n",
              "      <td>0</td>\n",
              "      <td>1</td>\n",
              "      <td>0</td>\n",
              "      <td>0</td>\n",
              "      <td>0</td>\n",
              "      <td>1</td>\n",
              "      <td>0.219037</td>\n",
              "      <td>0.321014</td>\n",
              "      <td>0.000000</td>\n",
              "      <td>16.390625</td>\n",
              "      <td>0.000000</td>\n",
              "      <td>6.303571</td>\n",
              "      <td>78.902439</td>\n",
              "      <td>False</td>\n",
              "    </tr>\n",
              "    <tr>\n",
              "      <th>7750</th>\n",
              "      <td>False</td>\n",
              "      <td>False</td>\n",
              "      <td>4</td>\n",
              "      <td>0</td>\n",
              "      <td>1</td>\n",
              "      <td>0</td>\n",
              "      <td>0</td>\n",
              "      <td>0</td>\n",
              "      <td>1</td>\n",
              "      <td>0</td>\n",
              "      <td>1</td>\n",
              "      <td>1.045328</td>\n",
              "      <td>0.321014</td>\n",
              "      <td>2.930233</td>\n",
              "      <td>73.250000</td>\n",
              "      <td>0.000000</td>\n",
              "      <td>0.000000</td>\n",
              "      <td>0.292683</td>\n",
              "      <td>True</td>\n",
              "    </tr>\n",
              "  </tbody>\n",
              "</table>\n",
              "<p>7751 rows × 19 columns</p>\n",
              "</div>\n",
              "      <button class=\"colab-df-convert\" onclick=\"convertToInteractive('df-fb58461b-aea1-4004-b4c6-bb421150fa7c')\"\n",
              "              title=\"Convert this dataframe to an interactive table.\"\n",
              "              style=\"display:none;\">\n",
              "\n",
              "  <svg xmlns=\"http://www.w3.org/2000/svg\" height=\"24px\"viewBox=\"0 0 24 24\"\n",
              "       width=\"24px\">\n",
              "    <path d=\"M0 0h24v24H0V0z\" fill=\"none\"/>\n",
              "    <path d=\"M18.56 5.44l.94 2.06.94-2.06 2.06-.94-2.06-.94-.94-2.06-.94 2.06-2.06.94zm-11 1L8.5 8.5l.94-2.06 2.06-.94-2.06-.94L8.5 2.5l-.94 2.06-2.06.94zm10 10l.94 2.06.94-2.06 2.06-.94-2.06-.94-.94-2.06-.94 2.06-2.06.94z\"/><path d=\"M17.41 7.96l-1.37-1.37c-.4-.4-.92-.59-1.43-.59-.52 0-1.04.2-1.43.59L10.3 9.45l-7.72 7.72c-.78.78-.78 2.05 0 2.83L4 21.41c.39.39.9.59 1.41.59.51 0 1.02-.2 1.41-.59l7.78-7.78 2.81-2.81c.8-.78.8-2.07 0-2.86zM5.41 20L4 18.59l7.72-7.72 1.47 1.35L5.41 20z\"/>\n",
              "  </svg>\n",
              "      </button>\n",
              "\n",
              "\n",
              "\n",
              "    <div id=\"df-558c85eb-cd12-4355-8a9a-956771729ae9\">\n",
              "      <button class=\"colab-df-quickchart\" onclick=\"quickchart('df-558c85eb-cd12-4355-8a9a-956771729ae9')\"\n",
              "              title=\"Suggest charts.\"\n",
              "              style=\"display:none;\">\n",
              "\n",
              "<svg xmlns=\"http://www.w3.org/2000/svg\" height=\"24px\"viewBox=\"0 0 24 24\"\n",
              "     width=\"24px\">\n",
              "    <g>\n",
              "        <path d=\"M19 3H5c-1.1 0-2 .9-2 2v14c0 1.1.9 2 2 2h14c1.1 0 2-.9 2-2V5c0-1.1-.9-2-2-2zM9 17H7v-7h2v7zm4 0h-2V7h2v10zm4 0h-2v-4h2v4z\"/>\n",
              "    </g>\n",
              "</svg>\n",
              "      </button>\n",
              "    </div>\n",
              "\n",
              "<style>\n",
              "  .colab-df-quickchart {\n",
              "    background-color: #E8F0FE;\n",
              "    border: none;\n",
              "    border-radius: 50%;\n",
              "    cursor: pointer;\n",
              "    display: none;\n",
              "    fill: #1967D2;\n",
              "    height: 32px;\n",
              "    padding: 0 0 0 0;\n",
              "    width: 32px;\n",
              "  }\n",
              "\n",
              "  .colab-df-quickchart:hover {\n",
              "    background-color: #E2EBFA;\n",
              "    box-shadow: 0px 1px 2px rgba(60, 64, 67, 0.3), 0px 1px 3px 1px rgba(60, 64, 67, 0.15);\n",
              "    fill: #174EA6;\n",
              "  }\n",
              "\n",
              "  [theme=dark] .colab-df-quickchart {\n",
              "    background-color: #3B4455;\n",
              "    fill: #D2E3FC;\n",
              "  }\n",
              "\n",
              "  [theme=dark] .colab-df-quickchart:hover {\n",
              "    background-color: #434B5C;\n",
              "    box-shadow: 0px 1px 3px 1px rgba(0, 0, 0, 0.15);\n",
              "    filter: drop-shadow(0px 1px 2px rgba(0, 0, 0, 0.3));\n",
              "    fill: #FFFFFF;\n",
              "  }\n",
              "</style>\n",
              "\n",
              "    <script>\n",
              "      async function quickchart(key) {\n",
              "        const containerElement = document.querySelector('#' + key);\n",
              "        const charts = await google.colab.kernel.invokeFunction(\n",
              "            'suggestCharts', [key], {});\n",
              "      }\n",
              "    </script>\n",
              "\n",
              "      <script>\n",
              "\n",
              "function displayQuickchartButton(domScope) {\n",
              "  let quickchartButtonEl =\n",
              "    domScope.querySelector('#df-558c85eb-cd12-4355-8a9a-956771729ae9 button.colab-df-quickchart');\n",
              "  quickchartButtonEl.style.display =\n",
              "    google.colab.kernel.accessAllowed ? 'block' : 'none';\n",
              "}\n",
              "\n",
              "        displayQuickchartButton(document);\n",
              "      </script>\n",
              "      <style>\n",
              "    .colab-df-container {\n",
              "      display:flex;\n",
              "      flex-wrap:wrap;\n",
              "      gap: 12px;\n",
              "    }\n",
              "\n",
              "    .colab-df-convert {\n",
              "      background-color: #E8F0FE;\n",
              "      border: none;\n",
              "      border-radius: 50%;\n",
              "      cursor: pointer;\n",
              "      display: none;\n",
              "      fill: #1967D2;\n",
              "      height: 32px;\n",
              "      padding: 0 0 0 0;\n",
              "      width: 32px;\n",
              "    }\n",
              "\n",
              "    .colab-df-convert:hover {\n",
              "      background-color: #E2EBFA;\n",
              "      box-shadow: 0px 1px 2px rgba(60, 64, 67, 0.3), 0px 1px 3px 1px rgba(60, 64, 67, 0.15);\n",
              "      fill: #174EA6;\n",
              "    }\n",
              "\n",
              "    [theme=dark] .colab-df-convert {\n",
              "      background-color: #3B4455;\n",
              "      fill: #D2E3FC;\n",
              "    }\n",
              "\n",
              "    [theme=dark] .colab-df-convert:hover {\n",
              "      background-color: #434B5C;\n",
              "      box-shadow: 0px 1px 3px 1px rgba(0, 0, 0, 0.15);\n",
              "      filter: drop-shadow(0px 1px 2px rgba(0, 0, 0, 0.3));\n",
              "      fill: #FFFFFF;\n",
              "    }\n",
              "  </style>\n",
              "\n",
              "      <script>\n",
              "        const buttonEl =\n",
              "          document.querySelector('#df-fb58461b-aea1-4004-b4c6-bb421150fa7c button.colab-df-convert');\n",
              "        buttonEl.style.display =\n",
              "          google.colab.kernel.accessAllowed ? 'block' : 'none';\n",
              "\n",
              "        async function convertToInteractive(key) {\n",
              "          const element = document.querySelector('#df-fb58461b-aea1-4004-b4c6-bb421150fa7c');\n",
              "          const dataTable =\n",
              "            await google.colab.kernel.invokeFunction('convertToInteractive',\n",
              "                                                     [key], {});\n",
              "          if (!dataTable) return;\n",
              "\n",
              "          const docLinkHtml = 'Like what you see? Visit the ' +\n",
              "            '<a target=\"_blank\" href=https://colab.research.google.com/notebooks/data_table.ipynb>data table notebook</a>'\n",
              "            + ' to learn more about interactive tables.';\n",
              "          element.innerHTML = '';\n",
              "          dataTable['output_type'] = 'display_data';\n",
              "          await google.colab.output.renderOutput(dataTable, element);\n",
              "          const docLink = document.createElement('div');\n",
              "          docLink.innerHTML = docLinkHtml;\n",
              "          element.appendChild(docLink);\n",
              "        }\n",
              "      </script>\n",
              "    </div>\n",
              "  </div>\n"
            ]
          },
          "metadata": {},
          "execution_count": 357
        }
      ]
    },
    {
      "cell_type": "code",
      "source": [],
      "metadata": {
        "id": "Q9Ze6C9phZsD"
      },
      "execution_count": null,
      "outputs": []
    }
  ]
}