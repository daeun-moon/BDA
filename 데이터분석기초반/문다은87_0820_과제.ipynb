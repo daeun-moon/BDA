{
  "nbformat": 4,
  "nbformat_minor": 0,
  "metadata": {
    "colab": {
      "provenance": [],
      "collapsed_sections": [
        "f_eKAXaJQ_Fh",
        "90r3yXyBRBAP",
        "tf9OWsI6WxpA"
      ],
      "toc_visible": true
    },
    "kernelspec": {
      "name": "python3",
      "display_name": "Python 3"
    },
    "language_info": {
      "name": "python"
    }
  },
  "cells": [
    {
      "cell_type": "code",
      "source": [
        "# 경고무시\n",
        "import warnings\n",
        "warnings.filterwarnings(action  = 'ignore')"
      ],
      "metadata": {
        "id": "ibI8It6nZJOD"
      },
      "execution_count": 235,
      "outputs": []
    },
    {
      "cell_type": "code",
      "execution_count": 236,
      "metadata": {
        "colab": {
          "base_uri": "https://localhost:8080/",
          "height": 756
        },
        "id": "TthoDFGTOZw7",
        "outputId": "e817ea47-ab45-48fb-b71a-0956f1bd84da"
      },
      "outputs": [
        {
          "output_type": "execute_result",
          "data": {
            "text/plain": [
              "       age     workclass     education  education-num      marital-status  \\\n",
              "0       25       Private          11th              7       Never-married   \n",
              "1       38       Private       HS-grad              9  Married-civ-spouse   \n",
              "2       28     Local-gov    Assoc-acdm             12  Married-civ-spouse   \n",
              "3       44       Private  Some-college             10  Married-civ-spouse   \n",
              "4       18           NaN  Some-college             10       Never-married   \n",
              "...    ...           ...           ...            ...                 ...   \n",
              "48837   27       Private    Assoc-acdm             12  Married-civ-spouse   \n",
              "48838   40       Private       HS-grad              9  Married-civ-spouse   \n",
              "48839   58       Private       HS-grad              9             Widowed   \n",
              "48840   22       Private       HS-grad              9       Never-married   \n",
              "48841   52  Self-emp-inc       HS-grad              9  Married-civ-spouse   \n",
              "\n",
              "              occupation relationship   race     sex  capital-gain  \\\n",
              "0      Machine-op-inspct    Own-child  Black    Male             0   \n",
              "1        Farming-fishing      Husband  White    Male             0   \n",
              "2        Protective-serv      Husband  White    Male             0   \n",
              "3      Machine-op-inspct      Husband  Black    Male          7688   \n",
              "4                    NaN    Own-child  White  Female             0   \n",
              "...                  ...          ...    ...     ...           ...   \n",
              "48837       Tech-support         Wife  White  Female             0   \n",
              "48838  Machine-op-inspct      Husband  White    Male             0   \n",
              "48839       Adm-clerical    Unmarried  White  Female             0   \n",
              "48840       Adm-clerical    Own-child  White    Male             0   \n",
              "48841    Exec-managerial         Wife  White  Female         15024   \n",
              "\n",
              "       capital-loss  hours-per-week native-country  class  \n",
              "0                 0              40  United-States      0  \n",
              "1                 0              50  United-States      0  \n",
              "2                 0              40  United-States      1  \n",
              "3                 0              40  United-States      1  \n",
              "4                 0              30  United-States      0  \n",
              "...             ...             ...            ...    ...  \n",
              "48837             0              38  United-States      0  \n",
              "48838             0              40  United-States      1  \n",
              "48839             0              40  United-States      0  \n",
              "48840             0              20  United-States      0  \n",
              "48841             0              40  United-States      1  \n",
              "\n",
              "[48842 rows x 14 columns]"
            ],
            "text/html": [
              "\n",
              "  <div id=\"df-cf91d3e6-8439-4e63-8e9b-c570253f7b37\" class=\"colab-df-container\">\n",
              "    <div>\n",
              "<style scoped>\n",
              "    .dataframe tbody tr th:only-of-type {\n",
              "        vertical-align: middle;\n",
              "    }\n",
              "\n",
              "    .dataframe tbody tr th {\n",
              "        vertical-align: top;\n",
              "    }\n",
              "\n",
              "    .dataframe thead th {\n",
              "        text-align: right;\n",
              "    }\n",
              "</style>\n",
              "<table border=\"1\" class=\"dataframe\">\n",
              "  <thead>\n",
              "    <tr style=\"text-align: right;\">\n",
              "      <th></th>\n",
              "      <th>age</th>\n",
              "      <th>workclass</th>\n",
              "      <th>education</th>\n",
              "      <th>education-num</th>\n",
              "      <th>marital-status</th>\n",
              "      <th>occupation</th>\n",
              "      <th>relationship</th>\n",
              "      <th>race</th>\n",
              "      <th>sex</th>\n",
              "      <th>capital-gain</th>\n",
              "      <th>capital-loss</th>\n",
              "      <th>hours-per-week</th>\n",
              "      <th>native-country</th>\n",
              "      <th>class</th>\n",
              "    </tr>\n",
              "  </thead>\n",
              "  <tbody>\n",
              "    <tr>\n",
              "      <th>0</th>\n",
              "      <td>25</td>\n",
              "      <td>Private</td>\n",
              "      <td>11th</td>\n",
              "      <td>7</td>\n",
              "      <td>Never-married</td>\n",
              "      <td>Machine-op-inspct</td>\n",
              "      <td>Own-child</td>\n",
              "      <td>Black</td>\n",
              "      <td>Male</td>\n",
              "      <td>0</td>\n",
              "      <td>0</td>\n",
              "      <td>40</td>\n",
              "      <td>United-States</td>\n",
              "      <td>0</td>\n",
              "    </tr>\n",
              "    <tr>\n",
              "      <th>1</th>\n",
              "      <td>38</td>\n",
              "      <td>Private</td>\n",
              "      <td>HS-grad</td>\n",
              "      <td>9</td>\n",
              "      <td>Married-civ-spouse</td>\n",
              "      <td>Farming-fishing</td>\n",
              "      <td>Husband</td>\n",
              "      <td>White</td>\n",
              "      <td>Male</td>\n",
              "      <td>0</td>\n",
              "      <td>0</td>\n",
              "      <td>50</td>\n",
              "      <td>United-States</td>\n",
              "      <td>0</td>\n",
              "    </tr>\n",
              "    <tr>\n",
              "      <th>2</th>\n",
              "      <td>28</td>\n",
              "      <td>Local-gov</td>\n",
              "      <td>Assoc-acdm</td>\n",
              "      <td>12</td>\n",
              "      <td>Married-civ-spouse</td>\n",
              "      <td>Protective-serv</td>\n",
              "      <td>Husband</td>\n",
              "      <td>White</td>\n",
              "      <td>Male</td>\n",
              "      <td>0</td>\n",
              "      <td>0</td>\n",
              "      <td>40</td>\n",
              "      <td>United-States</td>\n",
              "      <td>1</td>\n",
              "    </tr>\n",
              "    <tr>\n",
              "      <th>3</th>\n",
              "      <td>44</td>\n",
              "      <td>Private</td>\n",
              "      <td>Some-college</td>\n",
              "      <td>10</td>\n",
              "      <td>Married-civ-spouse</td>\n",
              "      <td>Machine-op-inspct</td>\n",
              "      <td>Husband</td>\n",
              "      <td>Black</td>\n",
              "      <td>Male</td>\n",
              "      <td>7688</td>\n",
              "      <td>0</td>\n",
              "      <td>40</td>\n",
              "      <td>United-States</td>\n",
              "      <td>1</td>\n",
              "    </tr>\n",
              "    <tr>\n",
              "      <th>4</th>\n",
              "      <td>18</td>\n",
              "      <td>NaN</td>\n",
              "      <td>Some-college</td>\n",
              "      <td>10</td>\n",
              "      <td>Never-married</td>\n",
              "      <td>NaN</td>\n",
              "      <td>Own-child</td>\n",
              "      <td>White</td>\n",
              "      <td>Female</td>\n",
              "      <td>0</td>\n",
              "      <td>0</td>\n",
              "      <td>30</td>\n",
              "      <td>United-States</td>\n",
              "      <td>0</td>\n",
              "    </tr>\n",
              "    <tr>\n",
              "      <th>...</th>\n",
              "      <td>...</td>\n",
              "      <td>...</td>\n",
              "      <td>...</td>\n",
              "      <td>...</td>\n",
              "      <td>...</td>\n",
              "      <td>...</td>\n",
              "      <td>...</td>\n",
              "      <td>...</td>\n",
              "      <td>...</td>\n",
              "      <td>...</td>\n",
              "      <td>...</td>\n",
              "      <td>...</td>\n",
              "      <td>...</td>\n",
              "      <td>...</td>\n",
              "    </tr>\n",
              "    <tr>\n",
              "      <th>48837</th>\n",
              "      <td>27</td>\n",
              "      <td>Private</td>\n",
              "      <td>Assoc-acdm</td>\n",
              "      <td>12</td>\n",
              "      <td>Married-civ-spouse</td>\n",
              "      <td>Tech-support</td>\n",
              "      <td>Wife</td>\n",
              "      <td>White</td>\n",
              "      <td>Female</td>\n",
              "      <td>0</td>\n",
              "      <td>0</td>\n",
              "      <td>38</td>\n",
              "      <td>United-States</td>\n",
              "      <td>0</td>\n",
              "    </tr>\n",
              "    <tr>\n",
              "      <th>48838</th>\n",
              "      <td>40</td>\n",
              "      <td>Private</td>\n",
              "      <td>HS-grad</td>\n",
              "      <td>9</td>\n",
              "      <td>Married-civ-spouse</td>\n",
              "      <td>Machine-op-inspct</td>\n",
              "      <td>Husband</td>\n",
              "      <td>White</td>\n",
              "      <td>Male</td>\n",
              "      <td>0</td>\n",
              "      <td>0</td>\n",
              "      <td>40</td>\n",
              "      <td>United-States</td>\n",
              "      <td>1</td>\n",
              "    </tr>\n",
              "    <tr>\n",
              "      <th>48839</th>\n",
              "      <td>58</td>\n",
              "      <td>Private</td>\n",
              "      <td>HS-grad</td>\n",
              "      <td>9</td>\n",
              "      <td>Widowed</td>\n",
              "      <td>Adm-clerical</td>\n",
              "      <td>Unmarried</td>\n",
              "      <td>White</td>\n",
              "      <td>Female</td>\n",
              "      <td>0</td>\n",
              "      <td>0</td>\n",
              "      <td>40</td>\n",
              "      <td>United-States</td>\n",
              "      <td>0</td>\n",
              "    </tr>\n",
              "    <tr>\n",
              "      <th>48840</th>\n",
              "      <td>22</td>\n",
              "      <td>Private</td>\n",
              "      <td>HS-grad</td>\n",
              "      <td>9</td>\n",
              "      <td>Never-married</td>\n",
              "      <td>Adm-clerical</td>\n",
              "      <td>Own-child</td>\n",
              "      <td>White</td>\n",
              "      <td>Male</td>\n",
              "      <td>0</td>\n",
              "      <td>0</td>\n",
              "      <td>20</td>\n",
              "      <td>United-States</td>\n",
              "      <td>0</td>\n",
              "    </tr>\n",
              "    <tr>\n",
              "      <th>48841</th>\n",
              "      <td>52</td>\n",
              "      <td>Self-emp-inc</td>\n",
              "      <td>HS-grad</td>\n",
              "      <td>9</td>\n",
              "      <td>Married-civ-spouse</td>\n",
              "      <td>Exec-managerial</td>\n",
              "      <td>Wife</td>\n",
              "      <td>White</td>\n",
              "      <td>Female</td>\n",
              "      <td>15024</td>\n",
              "      <td>0</td>\n",
              "      <td>40</td>\n",
              "      <td>United-States</td>\n",
              "      <td>1</td>\n",
              "    </tr>\n",
              "  </tbody>\n",
              "</table>\n",
              "<p>48842 rows × 14 columns</p>\n",
              "</div>\n",
              "    <div class=\"colab-df-buttons\">\n",
              "\n",
              "  <div class=\"colab-df-container\">\n",
              "    <button class=\"colab-df-convert\" onclick=\"convertToInteractive('df-cf91d3e6-8439-4e63-8e9b-c570253f7b37')\"\n",
              "            title=\"Convert this dataframe to an interactive table.\"\n",
              "            style=\"display:none;\">\n",
              "\n",
              "  <svg xmlns=\"http://www.w3.org/2000/svg\" height=\"24px\" viewBox=\"0 -960 960 960\">\n",
              "    <path d=\"M120-120v-720h720v720H120Zm60-500h600v-160H180v160Zm220 220h160v-160H400v160Zm0 220h160v-160H400v160ZM180-400h160v-160H180v160Zm440 0h160v-160H620v160ZM180-180h160v-160H180v160Zm440 0h160v-160H620v160Z\"/>\n",
              "  </svg>\n",
              "    </button>\n",
              "\n",
              "  <style>\n",
              "    .colab-df-container {\n",
              "      display:flex;\n",
              "      gap: 12px;\n",
              "    }\n",
              "\n",
              "    .colab-df-convert {\n",
              "      background-color: #E8F0FE;\n",
              "      border: none;\n",
              "      border-radius: 50%;\n",
              "      cursor: pointer;\n",
              "      display: none;\n",
              "      fill: #1967D2;\n",
              "      height: 32px;\n",
              "      padding: 0 0 0 0;\n",
              "      width: 32px;\n",
              "    }\n",
              "\n",
              "    .colab-df-convert:hover {\n",
              "      background-color: #E2EBFA;\n",
              "      box-shadow: 0px 1px 2px rgba(60, 64, 67, 0.3), 0px 1px 3px 1px rgba(60, 64, 67, 0.15);\n",
              "      fill: #174EA6;\n",
              "    }\n",
              "\n",
              "    .colab-df-buttons div {\n",
              "      margin-bottom: 4px;\n",
              "    }\n",
              "\n",
              "    [theme=dark] .colab-df-convert {\n",
              "      background-color: #3B4455;\n",
              "      fill: #D2E3FC;\n",
              "    }\n",
              "\n",
              "    [theme=dark] .colab-df-convert:hover {\n",
              "      background-color: #434B5C;\n",
              "      box-shadow: 0px 1px 3px 1px rgba(0, 0, 0, 0.15);\n",
              "      filter: drop-shadow(0px 1px 2px rgba(0, 0, 0, 0.3));\n",
              "      fill: #FFFFFF;\n",
              "    }\n",
              "  </style>\n",
              "\n",
              "    <script>\n",
              "      const buttonEl =\n",
              "        document.querySelector('#df-cf91d3e6-8439-4e63-8e9b-c570253f7b37 button.colab-df-convert');\n",
              "      buttonEl.style.display =\n",
              "        google.colab.kernel.accessAllowed ? 'block' : 'none';\n",
              "\n",
              "      async function convertToInteractive(key) {\n",
              "        const element = document.querySelector('#df-cf91d3e6-8439-4e63-8e9b-c570253f7b37');\n",
              "        const dataTable =\n",
              "          await google.colab.kernel.invokeFunction('convertToInteractive',\n",
              "                                                    [key], {});\n",
              "        if (!dataTable) return;\n",
              "\n",
              "        const docLinkHtml = 'Like what you see? Visit the ' +\n",
              "          '<a target=\"_blank\" href=https://colab.research.google.com/notebooks/data_table.ipynb>data table notebook</a>'\n",
              "          + ' to learn more about interactive tables.';\n",
              "        element.innerHTML = '';\n",
              "        dataTable['output_type'] = 'display_data';\n",
              "        await google.colab.output.renderOutput(dataTable, element);\n",
              "        const docLink = document.createElement('div');\n",
              "        docLink.innerHTML = docLinkHtml;\n",
              "        element.appendChild(docLink);\n",
              "      }\n",
              "    </script>\n",
              "  </div>\n",
              "\n",
              "\n",
              "<div id=\"df-0504c5f1-dfed-47aa-bf79-6883616100da\">\n",
              "  <button class=\"colab-df-quickchart\" onclick=\"quickchart('df-0504c5f1-dfed-47aa-bf79-6883616100da')\"\n",
              "            title=\"Suggest charts.\"\n",
              "            style=\"display:none;\">\n",
              "\n",
              "<svg xmlns=\"http://www.w3.org/2000/svg\" height=\"24px\"viewBox=\"0 0 24 24\"\n",
              "     width=\"24px\">\n",
              "    <g>\n",
              "        <path d=\"M19 3H5c-1.1 0-2 .9-2 2v14c0 1.1.9 2 2 2h14c1.1 0 2-.9 2-2V5c0-1.1-.9-2-2-2zM9 17H7v-7h2v7zm4 0h-2V7h2v10zm4 0h-2v-4h2v4z\"/>\n",
              "    </g>\n",
              "</svg>\n",
              "  </button>\n",
              "\n",
              "<style>\n",
              "  .colab-df-quickchart {\n",
              "    background-color: #E8F0FE;\n",
              "    border: none;\n",
              "    border-radius: 50%;\n",
              "    cursor: pointer;\n",
              "    display: none;\n",
              "    fill: #1967D2;\n",
              "    height: 32px;\n",
              "    padding: 0 0 0 0;\n",
              "    width: 32px;\n",
              "  }\n",
              "\n",
              "  .colab-df-quickchart:hover {\n",
              "    background-color: #E2EBFA;\n",
              "    box-shadow: 0px 1px 2px rgba(60, 64, 67, 0.3), 0px 1px 3px 1px rgba(60, 64, 67, 0.15);\n",
              "    fill: #174EA6;\n",
              "  }\n",
              "\n",
              "  [theme=dark] .colab-df-quickchart {\n",
              "    background-color: #3B4455;\n",
              "    fill: #D2E3FC;\n",
              "  }\n",
              "\n",
              "  [theme=dark] .colab-df-quickchart:hover {\n",
              "    background-color: #434B5C;\n",
              "    box-shadow: 0px 1px 3px 1px rgba(0, 0, 0, 0.15);\n",
              "    filter: drop-shadow(0px 1px 2px rgba(0, 0, 0, 0.3));\n",
              "    fill: #FFFFFF;\n",
              "  }\n",
              "</style>\n",
              "\n",
              "  <script>\n",
              "    async function quickchart(key) {\n",
              "      const charts = await google.colab.kernel.invokeFunction(\n",
              "          'suggestCharts', [key], {});\n",
              "    }\n",
              "    (() => {\n",
              "      let quickchartButtonEl =\n",
              "        document.querySelector('#df-0504c5f1-dfed-47aa-bf79-6883616100da button');\n",
              "      quickchartButtonEl.style.display =\n",
              "        google.colab.kernel.accessAllowed ? 'block' : 'none';\n",
              "    })();\n",
              "  </script>\n",
              "</div>\n",
              "    </div>\n",
              "  </div>\n"
            ]
          },
          "metadata": {},
          "execution_count": 236
        }
      ],
      "source": [
        "import pandas as pd\n",
        "df= pd.read_csv('salary_class.csv')\n",
        "df=df[['age', 'workclass', 'education', 'education-num',\n",
        "       'marital-status', 'occupation', 'relationship', 'race', 'sex',\n",
        "       'capital-gain', 'capital-loss', 'hours-per-week', 'native-country',\n",
        "       'class']]\n",
        "df"
      ]
    },
    {
      "cell_type": "markdown",
      "source": [
        "# salary_class.csv\n",
        "- age 연령\n",
        "- workclass 고용형태\n",
        "- education 학력\n",
        "- education-num 교육연수\n",
        "- marital-status 혼인상태\n",
        "- occupation 직업\n",
        "- relationshop 가족관계\n",
        "- race 인종\n",
        "- sex 성별\n",
        "- capital-gain 자산 증가분\n",
        "- capital-loss 자산 감소분\n",
        "- hours-per-week 주당 노동 시간\n",
        "- native-country 국적\n",
        "- class target 연봉 기준점 이상 1,0"
      ],
      "metadata": {
        "id": "1CZZdSz7PkVh"
      }
    },
    {
      "cell_type": "markdown",
      "source": [
        "# 기본 정보 확인 (기본 class 평균 0.239282)"
      ],
      "metadata": {
        "id": "uqac-yRGPSHg"
      }
    },
    {
      "cell_type": "code",
      "source": [
        "df.info()\n",
        "# NUll값 존재 : workclass, occupation, native-country"
      ],
      "metadata": {
        "colab": {
          "base_uri": "https://localhost:8080/"
        },
        "id": "wokQ8UZoPUF6",
        "outputId": "6b198fbc-7bdd-4694-ff1b-93aacc3982da"
      },
      "execution_count": 237,
      "outputs": [
        {
          "output_type": "stream",
          "name": "stdout",
          "text": [
            "<class 'pandas.core.frame.DataFrame'>\n",
            "RangeIndex: 48842 entries, 0 to 48841\n",
            "Data columns (total 14 columns):\n",
            " #   Column          Non-Null Count  Dtype \n",
            "---  ------          --------------  ----- \n",
            " 0   age             48842 non-null  int64 \n",
            " 1   workclass       46043 non-null  object\n",
            " 2   education       48842 non-null  object\n",
            " 3   education-num   48842 non-null  int64 \n",
            " 4   marital-status  48842 non-null  object\n",
            " 5   occupation      46033 non-null  object\n",
            " 6   relationship    48842 non-null  object\n",
            " 7   race            48842 non-null  object\n",
            " 8   sex             48842 non-null  object\n",
            " 9   capital-gain    48842 non-null  int64 \n",
            " 10  capital-loss    48842 non-null  int64 \n",
            " 11  hours-per-week  48842 non-null  int64 \n",
            " 12  native-country  47985 non-null  object\n",
            " 13  class           48842 non-null  int64 \n",
            "dtypes: int64(6), object(8)\n",
            "memory usage: 5.2+ MB\n"
          ]
        }
      ]
    },
    {
      "cell_type": "code",
      "source": [
        "df.describe()\n",
        "# capital-gain, capital-loss 이상치 매우 높음.\n",
        "# class는 대체적으로 0이 많네"
      ],
      "metadata": {
        "colab": {
          "base_uri": "https://localhost:8080/",
          "height": 300
        },
        "id": "Vhoe3R8-QCwh",
        "outputId": "a3425dde-13f7-4102-dc11-825a3aa0ac1f"
      },
      "execution_count": 238,
      "outputs": [
        {
          "output_type": "execute_result",
          "data": {
            "text/plain": [
              "                age  education-num  capital-gain  capital-loss  \\\n",
              "count  48842.000000   48842.000000  48842.000000  48842.000000   \n",
              "mean      38.643585      10.078089   1079.067626     87.502314   \n",
              "std       13.710510       2.570973   7452.019058    403.004552   \n",
              "min       17.000000       1.000000      0.000000      0.000000   \n",
              "25%       28.000000       9.000000      0.000000      0.000000   \n",
              "50%       37.000000      10.000000      0.000000      0.000000   \n",
              "75%       48.000000      12.000000      0.000000      0.000000   \n",
              "max       90.000000      16.000000  99999.000000   4356.000000   \n",
              "\n",
              "       hours-per-week         class  \n",
              "count    48842.000000  48842.000000  \n",
              "mean        40.422382      0.239282  \n",
              "std         12.391444      0.426649  \n",
              "min          1.000000      0.000000  \n",
              "25%         40.000000      0.000000  \n",
              "50%         40.000000      0.000000  \n",
              "75%         45.000000      0.000000  \n",
              "max         99.000000      1.000000  "
            ],
            "text/html": [
              "\n",
              "  <div id=\"df-313ce010-4081-48e8-9f7c-95a7157b3ab1\" class=\"colab-df-container\">\n",
              "    <div>\n",
              "<style scoped>\n",
              "    .dataframe tbody tr th:only-of-type {\n",
              "        vertical-align: middle;\n",
              "    }\n",
              "\n",
              "    .dataframe tbody tr th {\n",
              "        vertical-align: top;\n",
              "    }\n",
              "\n",
              "    .dataframe thead th {\n",
              "        text-align: right;\n",
              "    }\n",
              "</style>\n",
              "<table border=\"1\" class=\"dataframe\">\n",
              "  <thead>\n",
              "    <tr style=\"text-align: right;\">\n",
              "      <th></th>\n",
              "      <th>age</th>\n",
              "      <th>education-num</th>\n",
              "      <th>capital-gain</th>\n",
              "      <th>capital-loss</th>\n",
              "      <th>hours-per-week</th>\n",
              "      <th>class</th>\n",
              "    </tr>\n",
              "  </thead>\n",
              "  <tbody>\n",
              "    <tr>\n",
              "      <th>count</th>\n",
              "      <td>48842.000000</td>\n",
              "      <td>48842.000000</td>\n",
              "      <td>48842.000000</td>\n",
              "      <td>48842.000000</td>\n",
              "      <td>48842.000000</td>\n",
              "      <td>48842.000000</td>\n",
              "    </tr>\n",
              "    <tr>\n",
              "      <th>mean</th>\n",
              "      <td>38.643585</td>\n",
              "      <td>10.078089</td>\n",
              "      <td>1079.067626</td>\n",
              "      <td>87.502314</td>\n",
              "      <td>40.422382</td>\n",
              "      <td>0.239282</td>\n",
              "    </tr>\n",
              "    <tr>\n",
              "      <th>std</th>\n",
              "      <td>13.710510</td>\n",
              "      <td>2.570973</td>\n",
              "      <td>7452.019058</td>\n",
              "      <td>403.004552</td>\n",
              "      <td>12.391444</td>\n",
              "      <td>0.426649</td>\n",
              "    </tr>\n",
              "    <tr>\n",
              "      <th>min</th>\n",
              "      <td>17.000000</td>\n",
              "      <td>1.000000</td>\n",
              "      <td>0.000000</td>\n",
              "      <td>0.000000</td>\n",
              "      <td>1.000000</td>\n",
              "      <td>0.000000</td>\n",
              "    </tr>\n",
              "    <tr>\n",
              "      <th>25%</th>\n",
              "      <td>28.000000</td>\n",
              "      <td>9.000000</td>\n",
              "      <td>0.000000</td>\n",
              "      <td>0.000000</td>\n",
              "      <td>40.000000</td>\n",
              "      <td>0.000000</td>\n",
              "    </tr>\n",
              "    <tr>\n",
              "      <th>50%</th>\n",
              "      <td>37.000000</td>\n",
              "      <td>10.000000</td>\n",
              "      <td>0.000000</td>\n",
              "      <td>0.000000</td>\n",
              "      <td>40.000000</td>\n",
              "      <td>0.000000</td>\n",
              "    </tr>\n",
              "    <tr>\n",
              "      <th>75%</th>\n",
              "      <td>48.000000</td>\n",
              "      <td>12.000000</td>\n",
              "      <td>0.000000</td>\n",
              "      <td>0.000000</td>\n",
              "      <td>45.000000</td>\n",
              "      <td>0.000000</td>\n",
              "    </tr>\n",
              "    <tr>\n",
              "      <th>max</th>\n",
              "      <td>90.000000</td>\n",
              "      <td>16.000000</td>\n",
              "      <td>99999.000000</td>\n",
              "      <td>4356.000000</td>\n",
              "      <td>99.000000</td>\n",
              "      <td>1.000000</td>\n",
              "    </tr>\n",
              "  </tbody>\n",
              "</table>\n",
              "</div>\n",
              "    <div class=\"colab-df-buttons\">\n",
              "\n",
              "  <div class=\"colab-df-container\">\n",
              "    <button class=\"colab-df-convert\" onclick=\"convertToInteractive('df-313ce010-4081-48e8-9f7c-95a7157b3ab1')\"\n",
              "            title=\"Convert this dataframe to an interactive table.\"\n",
              "            style=\"display:none;\">\n",
              "\n",
              "  <svg xmlns=\"http://www.w3.org/2000/svg\" height=\"24px\" viewBox=\"0 -960 960 960\">\n",
              "    <path d=\"M120-120v-720h720v720H120Zm60-500h600v-160H180v160Zm220 220h160v-160H400v160Zm0 220h160v-160H400v160ZM180-400h160v-160H180v160Zm440 0h160v-160H620v160ZM180-180h160v-160H180v160Zm440 0h160v-160H620v160Z\"/>\n",
              "  </svg>\n",
              "    </button>\n",
              "\n",
              "  <style>\n",
              "    .colab-df-container {\n",
              "      display:flex;\n",
              "      gap: 12px;\n",
              "    }\n",
              "\n",
              "    .colab-df-convert {\n",
              "      background-color: #E8F0FE;\n",
              "      border: none;\n",
              "      border-radius: 50%;\n",
              "      cursor: pointer;\n",
              "      display: none;\n",
              "      fill: #1967D2;\n",
              "      height: 32px;\n",
              "      padding: 0 0 0 0;\n",
              "      width: 32px;\n",
              "    }\n",
              "\n",
              "    .colab-df-convert:hover {\n",
              "      background-color: #E2EBFA;\n",
              "      box-shadow: 0px 1px 2px rgba(60, 64, 67, 0.3), 0px 1px 3px 1px rgba(60, 64, 67, 0.15);\n",
              "      fill: #174EA6;\n",
              "    }\n",
              "\n",
              "    .colab-df-buttons div {\n",
              "      margin-bottom: 4px;\n",
              "    }\n",
              "\n",
              "    [theme=dark] .colab-df-convert {\n",
              "      background-color: #3B4455;\n",
              "      fill: #D2E3FC;\n",
              "    }\n",
              "\n",
              "    [theme=dark] .colab-df-convert:hover {\n",
              "      background-color: #434B5C;\n",
              "      box-shadow: 0px 1px 3px 1px rgba(0, 0, 0, 0.15);\n",
              "      filter: drop-shadow(0px 1px 2px rgba(0, 0, 0, 0.3));\n",
              "      fill: #FFFFFF;\n",
              "    }\n",
              "  </style>\n",
              "\n",
              "    <script>\n",
              "      const buttonEl =\n",
              "        document.querySelector('#df-313ce010-4081-48e8-9f7c-95a7157b3ab1 button.colab-df-convert');\n",
              "      buttonEl.style.display =\n",
              "        google.colab.kernel.accessAllowed ? 'block' : 'none';\n",
              "\n",
              "      async function convertToInteractive(key) {\n",
              "        const element = document.querySelector('#df-313ce010-4081-48e8-9f7c-95a7157b3ab1');\n",
              "        const dataTable =\n",
              "          await google.colab.kernel.invokeFunction('convertToInteractive',\n",
              "                                                    [key], {});\n",
              "        if (!dataTable) return;\n",
              "\n",
              "        const docLinkHtml = 'Like what you see? Visit the ' +\n",
              "          '<a target=\"_blank\" href=https://colab.research.google.com/notebooks/data_table.ipynb>data table notebook</a>'\n",
              "          + ' to learn more about interactive tables.';\n",
              "        element.innerHTML = '';\n",
              "        dataTable['output_type'] = 'display_data';\n",
              "        await google.colab.output.renderOutput(dataTable, element);\n",
              "        const docLink = document.createElement('div');\n",
              "        docLink.innerHTML = docLinkHtml;\n",
              "        element.appendChild(docLink);\n",
              "      }\n",
              "    </script>\n",
              "  </div>\n",
              "\n",
              "\n",
              "<div id=\"df-1c042e8d-727e-4cfe-87ec-779929c71204\">\n",
              "  <button class=\"colab-df-quickchart\" onclick=\"quickchart('df-1c042e8d-727e-4cfe-87ec-779929c71204')\"\n",
              "            title=\"Suggest charts.\"\n",
              "            style=\"display:none;\">\n",
              "\n",
              "<svg xmlns=\"http://www.w3.org/2000/svg\" height=\"24px\"viewBox=\"0 0 24 24\"\n",
              "     width=\"24px\">\n",
              "    <g>\n",
              "        <path d=\"M19 3H5c-1.1 0-2 .9-2 2v14c0 1.1.9 2 2 2h14c1.1 0 2-.9 2-2V5c0-1.1-.9-2-2-2zM9 17H7v-7h2v7zm4 0h-2V7h2v10zm4 0h-2v-4h2v4z\"/>\n",
              "    </g>\n",
              "</svg>\n",
              "  </button>\n",
              "\n",
              "<style>\n",
              "  .colab-df-quickchart {\n",
              "    background-color: #E8F0FE;\n",
              "    border: none;\n",
              "    border-radius: 50%;\n",
              "    cursor: pointer;\n",
              "    display: none;\n",
              "    fill: #1967D2;\n",
              "    height: 32px;\n",
              "    padding: 0 0 0 0;\n",
              "    width: 32px;\n",
              "  }\n",
              "\n",
              "  .colab-df-quickchart:hover {\n",
              "    background-color: #E2EBFA;\n",
              "    box-shadow: 0px 1px 2px rgba(60, 64, 67, 0.3), 0px 1px 3px 1px rgba(60, 64, 67, 0.15);\n",
              "    fill: #174EA6;\n",
              "  }\n",
              "\n",
              "  [theme=dark] .colab-df-quickchart {\n",
              "    background-color: #3B4455;\n",
              "    fill: #D2E3FC;\n",
              "  }\n",
              "\n",
              "  [theme=dark] .colab-df-quickchart:hover {\n",
              "    background-color: #434B5C;\n",
              "    box-shadow: 0px 1px 3px 1px rgba(0, 0, 0, 0.15);\n",
              "    filter: drop-shadow(0px 1px 2px rgba(0, 0, 0, 0.3));\n",
              "    fill: #FFFFFF;\n",
              "  }\n",
              "</style>\n",
              "\n",
              "  <script>\n",
              "    async function quickchart(key) {\n",
              "      const charts = await google.colab.kernel.invokeFunction(\n",
              "          'suggestCharts', [key], {});\n",
              "    }\n",
              "    (() => {\n",
              "      let quickchartButtonEl =\n",
              "        document.querySelector('#df-1c042e8d-727e-4cfe-87ec-779929c71204 button');\n",
              "      quickchartButtonEl.style.display =\n",
              "        google.colab.kernel.accessAllowed ? 'block' : 'none';\n",
              "    })();\n",
              "  </script>\n",
              "</div>\n",
              "    </div>\n",
              "  </div>\n"
            ]
          },
          "metadata": {},
          "execution_count": 238
        }
      ]
    },
    {
      "cell_type": "code",
      "source": [
        "df.describe(include='all')"
      ],
      "metadata": {
        "colab": {
          "base_uri": "https://localhost:8080/",
          "height": 466
        },
        "id": "VU-7vkp7PVEC",
        "outputId": "76294462-1714-4111-f20a-e084a0a426a8"
      },
      "execution_count": 239,
      "outputs": [
        {
          "output_type": "execute_result",
          "data": {
            "text/plain": [
              "                 age workclass education  education-num      marital-status  \\\n",
              "count   48842.000000     46043     48842   48842.000000               48842   \n",
              "unique           NaN         8        16            NaN                   7   \n",
              "top              NaN   Private   HS-grad            NaN  Married-civ-spouse   \n",
              "freq             NaN     33906     15784            NaN               22379   \n",
              "mean       38.643585       NaN       NaN      10.078089                 NaN   \n",
              "std        13.710510       NaN       NaN       2.570973                 NaN   \n",
              "min        17.000000       NaN       NaN       1.000000                 NaN   \n",
              "25%        28.000000       NaN       NaN       9.000000                 NaN   \n",
              "50%        37.000000       NaN       NaN      10.000000                 NaN   \n",
              "75%        48.000000       NaN       NaN      12.000000                 NaN   \n",
              "max        90.000000       NaN       NaN      16.000000                 NaN   \n",
              "\n",
              "            occupation relationship   race    sex  capital-gain  capital-loss  \\\n",
              "count            46033        48842  48842  48842  48842.000000  48842.000000   \n",
              "unique              14            6      5      2           NaN           NaN   \n",
              "top     Prof-specialty      Husband  White   Male           NaN           NaN   \n",
              "freq              6172        19716  41762  32650           NaN           NaN   \n",
              "mean               NaN          NaN    NaN    NaN   1079.067626     87.502314   \n",
              "std                NaN          NaN    NaN    NaN   7452.019058    403.004552   \n",
              "min                NaN          NaN    NaN    NaN      0.000000      0.000000   \n",
              "25%                NaN          NaN    NaN    NaN      0.000000      0.000000   \n",
              "50%                NaN          NaN    NaN    NaN      0.000000      0.000000   \n",
              "75%                NaN          NaN    NaN    NaN      0.000000      0.000000   \n",
              "max                NaN          NaN    NaN    NaN  99999.000000   4356.000000   \n",
              "\n",
              "        hours-per-week native-country         class  \n",
              "count     48842.000000          47985  48842.000000  \n",
              "unique             NaN             41           NaN  \n",
              "top                NaN  United-States           NaN  \n",
              "freq               NaN          43832           NaN  \n",
              "mean         40.422382            NaN      0.239282  \n",
              "std          12.391444            NaN      0.426649  \n",
              "min           1.000000            NaN      0.000000  \n",
              "25%          40.000000            NaN      0.000000  \n",
              "50%          40.000000            NaN      0.000000  \n",
              "75%          45.000000            NaN      0.000000  \n",
              "max          99.000000            NaN      1.000000  "
            ],
            "text/html": [
              "\n",
              "  <div id=\"df-0e96fee3-9034-492c-900f-08254acbed22\" class=\"colab-df-container\">\n",
              "    <div>\n",
              "<style scoped>\n",
              "    .dataframe tbody tr th:only-of-type {\n",
              "        vertical-align: middle;\n",
              "    }\n",
              "\n",
              "    .dataframe tbody tr th {\n",
              "        vertical-align: top;\n",
              "    }\n",
              "\n",
              "    .dataframe thead th {\n",
              "        text-align: right;\n",
              "    }\n",
              "</style>\n",
              "<table border=\"1\" class=\"dataframe\">\n",
              "  <thead>\n",
              "    <tr style=\"text-align: right;\">\n",
              "      <th></th>\n",
              "      <th>age</th>\n",
              "      <th>workclass</th>\n",
              "      <th>education</th>\n",
              "      <th>education-num</th>\n",
              "      <th>marital-status</th>\n",
              "      <th>occupation</th>\n",
              "      <th>relationship</th>\n",
              "      <th>race</th>\n",
              "      <th>sex</th>\n",
              "      <th>capital-gain</th>\n",
              "      <th>capital-loss</th>\n",
              "      <th>hours-per-week</th>\n",
              "      <th>native-country</th>\n",
              "      <th>class</th>\n",
              "    </tr>\n",
              "  </thead>\n",
              "  <tbody>\n",
              "    <tr>\n",
              "      <th>count</th>\n",
              "      <td>48842.000000</td>\n",
              "      <td>46043</td>\n",
              "      <td>48842</td>\n",
              "      <td>48842.000000</td>\n",
              "      <td>48842</td>\n",
              "      <td>46033</td>\n",
              "      <td>48842</td>\n",
              "      <td>48842</td>\n",
              "      <td>48842</td>\n",
              "      <td>48842.000000</td>\n",
              "      <td>48842.000000</td>\n",
              "      <td>48842.000000</td>\n",
              "      <td>47985</td>\n",
              "      <td>48842.000000</td>\n",
              "    </tr>\n",
              "    <tr>\n",
              "      <th>unique</th>\n",
              "      <td>NaN</td>\n",
              "      <td>8</td>\n",
              "      <td>16</td>\n",
              "      <td>NaN</td>\n",
              "      <td>7</td>\n",
              "      <td>14</td>\n",
              "      <td>6</td>\n",
              "      <td>5</td>\n",
              "      <td>2</td>\n",
              "      <td>NaN</td>\n",
              "      <td>NaN</td>\n",
              "      <td>NaN</td>\n",
              "      <td>41</td>\n",
              "      <td>NaN</td>\n",
              "    </tr>\n",
              "    <tr>\n",
              "      <th>top</th>\n",
              "      <td>NaN</td>\n",
              "      <td>Private</td>\n",
              "      <td>HS-grad</td>\n",
              "      <td>NaN</td>\n",
              "      <td>Married-civ-spouse</td>\n",
              "      <td>Prof-specialty</td>\n",
              "      <td>Husband</td>\n",
              "      <td>White</td>\n",
              "      <td>Male</td>\n",
              "      <td>NaN</td>\n",
              "      <td>NaN</td>\n",
              "      <td>NaN</td>\n",
              "      <td>United-States</td>\n",
              "      <td>NaN</td>\n",
              "    </tr>\n",
              "    <tr>\n",
              "      <th>freq</th>\n",
              "      <td>NaN</td>\n",
              "      <td>33906</td>\n",
              "      <td>15784</td>\n",
              "      <td>NaN</td>\n",
              "      <td>22379</td>\n",
              "      <td>6172</td>\n",
              "      <td>19716</td>\n",
              "      <td>41762</td>\n",
              "      <td>32650</td>\n",
              "      <td>NaN</td>\n",
              "      <td>NaN</td>\n",
              "      <td>NaN</td>\n",
              "      <td>43832</td>\n",
              "      <td>NaN</td>\n",
              "    </tr>\n",
              "    <tr>\n",
              "      <th>mean</th>\n",
              "      <td>38.643585</td>\n",
              "      <td>NaN</td>\n",
              "      <td>NaN</td>\n",
              "      <td>10.078089</td>\n",
              "      <td>NaN</td>\n",
              "      <td>NaN</td>\n",
              "      <td>NaN</td>\n",
              "      <td>NaN</td>\n",
              "      <td>NaN</td>\n",
              "      <td>1079.067626</td>\n",
              "      <td>87.502314</td>\n",
              "      <td>40.422382</td>\n",
              "      <td>NaN</td>\n",
              "      <td>0.239282</td>\n",
              "    </tr>\n",
              "    <tr>\n",
              "      <th>std</th>\n",
              "      <td>13.710510</td>\n",
              "      <td>NaN</td>\n",
              "      <td>NaN</td>\n",
              "      <td>2.570973</td>\n",
              "      <td>NaN</td>\n",
              "      <td>NaN</td>\n",
              "      <td>NaN</td>\n",
              "      <td>NaN</td>\n",
              "      <td>NaN</td>\n",
              "      <td>7452.019058</td>\n",
              "      <td>403.004552</td>\n",
              "      <td>12.391444</td>\n",
              "      <td>NaN</td>\n",
              "      <td>0.426649</td>\n",
              "    </tr>\n",
              "    <tr>\n",
              "      <th>min</th>\n",
              "      <td>17.000000</td>\n",
              "      <td>NaN</td>\n",
              "      <td>NaN</td>\n",
              "      <td>1.000000</td>\n",
              "      <td>NaN</td>\n",
              "      <td>NaN</td>\n",
              "      <td>NaN</td>\n",
              "      <td>NaN</td>\n",
              "      <td>NaN</td>\n",
              "      <td>0.000000</td>\n",
              "      <td>0.000000</td>\n",
              "      <td>1.000000</td>\n",
              "      <td>NaN</td>\n",
              "      <td>0.000000</td>\n",
              "    </tr>\n",
              "    <tr>\n",
              "      <th>25%</th>\n",
              "      <td>28.000000</td>\n",
              "      <td>NaN</td>\n",
              "      <td>NaN</td>\n",
              "      <td>9.000000</td>\n",
              "      <td>NaN</td>\n",
              "      <td>NaN</td>\n",
              "      <td>NaN</td>\n",
              "      <td>NaN</td>\n",
              "      <td>NaN</td>\n",
              "      <td>0.000000</td>\n",
              "      <td>0.000000</td>\n",
              "      <td>40.000000</td>\n",
              "      <td>NaN</td>\n",
              "      <td>0.000000</td>\n",
              "    </tr>\n",
              "    <tr>\n",
              "      <th>50%</th>\n",
              "      <td>37.000000</td>\n",
              "      <td>NaN</td>\n",
              "      <td>NaN</td>\n",
              "      <td>10.000000</td>\n",
              "      <td>NaN</td>\n",
              "      <td>NaN</td>\n",
              "      <td>NaN</td>\n",
              "      <td>NaN</td>\n",
              "      <td>NaN</td>\n",
              "      <td>0.000000</td>\n",
              "      <td>0.000000</td>\n",
              "      <td>40.000000</td>\n",
              "      <td>NaN</td>\n",
              "      <td>0.000000</td>\n",
              "    </tr>\n",
              "    <tr>\n",
              "      <th>75%</th>\n",
              "      <td>48.000000</td>\n",
              "      <td>NaN</td>\n",
              "      <td>NaN</td>\n",
              "      <td>12.000000</td>\n",
              "      <td>NaN</td>\n",
              "      <td>NaN</td>\n",
              "      <td>NaN</td>\n",
              "      <td>NaN</td>\n",
              "      <td>NaN</td>\n",
              "      <td>0.000000</td>\n",
              "      <td>0.000000</td>\n",
              "      <td>45.000000</td>\n",
              "      <td>NaN</td>\n",
              "      <td>0.000000</td>\n",
              "    </tr>\n",
              "    <tr>\n",
              "      <th>max</th>\n",
              "      <td>90.000000</td>\n",
              "      <td>NaN</td>\n",
              "      <td>NaN</td>\n",
              "      <td>16.000000</td>\n",
              "      <td>NaN</td>\n",
              "      <td>NaN</td>\n",
              "      <td>NaN</td>\n",
              "      <td>NaN</td>\n",
              "      <td>NaN</td>\n",
              "      <td>99999.000000</td>\n",
              "      <td>4356.000000</td>\n",
              "      <td>99.000000</td>\n",
              "      <td>NaN</td>\n",
              "      <td>1.000000</td>\n",
              "    </tr>\n",
              "  </tbody>\n",
              "</table>\n",
              "</div>\n",
              "    <div class=\"colab-df-buttons\">\n",
              "\n",
              "  <div class=\"colab-df-container\">\n",
              "    <button class=\"colab-df-convert\" onclick=\"convertToInteractive('df-0e96fee3-9034-492c-900f-08254acbed22')\"\n",
              "            title=\"Convert this dataframe to an interactive table.\"\n",
              "            style=\"display:none;\">\n",
              "\n",
              "  <svg xmlns=\"http://www.w3.org/2000/svg\" height=\"24px\" viewBox=\"0 -960 960 960\">\n",
              "    <path d=\"M120-120v-720h720v720H120Zm60-500h600v-160H180v160Zm220 220h160v-160H400v160Zm0 220h160v-160H400v160ZM180-400h160v-160H180v160Zm440 0h160v-160H620v160ZM180-180h160v-160H180v160Zm440 0h160v-160H620v160Z\"/>\n",
              "  </svg>\n",
              "    </button>\n",
              "\n",
              "  <style>\n",
              "    .colab-df-container {\n",
              "      display:flex;\n",
              "      gap: 12px;\n",
              "    }\n",
              "\n",
              "    .colab-df-convert {\n",
              "      background-color: #E8F0FE;\n",
              "      border: none;\n",
              "      border-radius: 50%;\n",
              "      cursor: pointer;\n",
              "      display: none;\n",
              "      fill: #1967D2;\n",
              "      height: 32px;\n",
              "      padding: 0 0 0 0;\n",
              "      width: 32px;\n",
              "    }\n",
              "\n",
              "    .colab-df-convert:hover {\n",
              "      background-color: #E2EBFA;\n",
              "      box-shadow: 0px 1px 2px rgba(60, 64, 67, 0.3), 0px 1px 3px 1px rgba(60, 64, 67, 0.15);\n",
              "      fill: #174EA6;\n",
              "    }\n",
              "\n",
              "    .colab-df-buttons div {\n",
              "      margin-bottom: 4px;\n",
              "    }\n",
              "\n",
              "    [theme=dark] .colab-df-convert {\n",
              "      background-color: #3B4455;\n",
              "      fill: #D2E3FC;\n",
              "    }\n",
              "\n",
              "    [theme=dark] .colab-df-convert:hover {\n",
              "      background-color: #434B5C;\n",
              "      box-shadow: 0px 1px 3px 1px rgba(0, 0, 0, 0.15);\n",
              "      filter: drop-shadow(0px 1px 2px rgba(0, 0, 0, 0.3));\n",
              "      fill: #FFFFFF;\n",
              "    }\n",
              "  </style>\n",
              "\n",
              "    <script>\n",
              "      const buttonEl =\n",
              "        document.querySelector('#df-0e96fee3-9034-492c-900f-08254acbed22 button.colab-df-convert');\n",
              "      buttonEl.style.display =\n",
              "        google.colab.kernel.accessAllowed ? 'block' : 'none';\n",
              "\n",
              "      async function convertToInteractive(key) {\n",
              "        const element = document.querySelector('#df-0e96fee3-9034-492c-900f-08254acbed22');\n",
              "        const dataTable =\n",
              "          await google.colab.kernel.invokeFunction('convertToInteractive',\n",
              "                                                    [key], {});\n",
              "        if (!dataTable) return;\n",
              "\n",
              "        const docLinkHtml = 'Like what you see? Visit the ' +\n",
              "          '<a target=\"_blank\" href=https://colab.research.google.com/notebooks/data_table.ipynb>data table notebook</a>'\n",
              "          + ' to learn more about interactive tables.';\n",
              "        element.innerHTML = '';\n",
              "        dataTable['output_type'] = 'display_data';\n",
              "        await google.colab.output.renderOutput(dataTable, element);\n",
              "        const docLink = document.createElement('div');\n",
              "        docLink.innerHTML = docLinkHtml;\n",
              "        element.appendChild(docLink);\n",
              "      }\n",
              "    </script>\n",
              "  </div>\n",
              "\n",
              "\n",
              "<div id=\"df-efc408cb-11f8-458f-bfd7-270309354fe7\">\n",
              "  <button class=\"colab-df-quickchart\" onclick=\"quickchart('df-efc408cb-11f8-458f-bfd7-270309354fe7')\"\n",
              "            title=\"Suggest charts.\"\n",
              "            style=\"display:none;\">\n",
              "\n",
              "<svg xmlns=\"http://www.w3.org/2000/svg\" height=\"24px\"viewBox=\"0 0 24 24\"\n",
              "     width=\"24px\">\n",
              "    <g>\n",
              "        <path d=\"M19 3H5c-1.1 0-2 .9-2 2v14c0 1.1.9 2 2 2h14c1.1 0 2-.9 2-2V5c0-1.1-.9-2-2-2zM9 17H7v-7h2v7zm4 0h-2V7h2v10zm4 0h-2v-4h2v4z\"/>\n",
              "    </g>\n",
              "</svg>\n",
              "  </button>\n",
              "\n",
              "<style>\n",
              "  .colab-df-quickchart {\n",
              "    background-color: #E8F0FE;\n",
              "    border: none;\n",
              "    border-radius: 50%;\n",
              "    cursor: pointer;\n",
              "    display: none;\n",
              "    fill: #1967D2;\n",
              "    height: 32px;\n",
              "    padding: 0 0 0 0;\n",
              "    width: 32px;\n",
              "  }\n",
              "\n",
              "  .colab-df-quickchart:hover {\n",
              "    background-color: #E2EBFA;\n",
              "    box-shadow: 0px 1px 2px rgba(60, 64, 67, 0.3), 0px 1px 3px 1px rgba(60, 64, 67, 0.15);\n",
              "    fill: #174EA6;\n",
              "  }\n",
              "\n",
              "  [theme=dark] .colab-df-quickchart {\n",
              "    background-color: #3B4455;\n",
              "    fill: #D2E3FC;\n",
              "  }\n",
              "\n",
              "  [theme=dark] .colab-df-quickchart:hover {\n",
              "    background-color: #434B5C;\n",
              "    box-shadow: 0px 1px 3px 1px rgba(0, 0, 0, 0.15);\n",
              "    filter: drop-shadow(0px 1px 2px rgba(0, 0, 0, 0.3));\n",
              "    fill: #FFFFFF;\n",
              "  }\n",
              "</style>\n",
              "\n",
              "  <script>\n",
              "    async function quickchart(key) {\n",
              "      const charts = await google.colab.kernel.invokeFunction(\n",
              "          'suggestCharts', [key], {});\n",
              "    }\n",
              "    (() => {\n",
              "      let quickchartButtonEl =\n",
              "        document.querySelector('#df-efc408cb-11f8-458f-bfd7-270309354fe7 button');\n",
              "      quickchartButtonEl.style.display =\n",
              "        google.colab.kernel.accessAllowed ? 'block' : 'none';\n",
              "    })();\n",
              "  </script>\n",
              "</div>\n",
              "    </div>\n",
              "  </div>\n"
            ]
          },
          "metadata": {},
          "execution_count": 239
        }
      ]
    },
    {
      "cell_type": "code",
      "source": [
        "df.corr()"
      ],
      "metadata": {
        "colab": {
          "base_uri": "https://localhost:8080/",
          "height": 237
        },
        "id": "xGB8JTLhO5ep",
        "outputId": "3e192674-e3f6-4299-d0ea-702277f35685"
      },
      "execution_count": 240,
      "outputs": [
        {
          "output_type": "execute_result",
          "data": {
            "text/plain": [
              "                     age  education-num  capital-gain  capital-loss  \\\n",
              "age             1.000000       0.030940      0.077229      0.056944   \n",
              "education-num   0.030940       1.000000      0.125146      0.080972   \n",
              "capital-gain    0.077229       0.125146      1.000000     -0.031441   \n",
              "capital-loss    0.056944       0.080972     -0.031441      1.000000   \n",
              "hours-per-week  0.071558       0.143689      0.082157      0.054467   \n",
              "class           0.230369       0.332613      0.223013      0.147554   \n",
              "\n",
              "                hours-per-week     class  \n",
              "age                   0.071558  0.230369  \n",
              "education-num         0.143689  0.332613  \n",
              "capital-gain          0.082157  0.223013  \n",
              "capital-loss          0.054467  0.147554  \n",
              "hours-per-week        1.000000  0.227687  \n",
              "class                 0.227687  1.000000  "
            ],
            "text/html": [
              "\n",
              "  <div id=\"df-1b4480d7-9af7-439a-900e-e4abed140375\" class=\"colab-df-container\">\n",
              "    <div>\n",
              "<style scoped>\n",
              "    .dataframe tbody tr th:only-of-type {\n",
              "        vertical-align: middle;\n",
              "    }\n",
              "\n",
              "    .dataframe tbody tr th {\n",
              "        vertical-align: top;\n",
              "    }\n",
              "\n",
              "    .dataframe thead th {\n",
              "        text-align: right;\n",
              "    }\n",
              "</style>\n",
              "<table border=\"1\" class=\"dataframe\">\n",
              "  <thead>\n",
              "    <tr style=\"text-align: right;\">\n",
              "      <th></th>\n",
              "      <th>age</th>\n",
              "      <th>education-num</th>\n",
              "      <th>capital-gain</th>\n",
              "      <th>capital-loss</th>\n",
              "      <th>hours-per-week</th>\n",
              "      <th>class</th>\n",
              "    </tr>\n",
              "  </thead>\n",
              "  <tbody>\n",
              "    <tr>\n",
              "      <th>age</th>\n",
              "      <td>1.000000</td>\n",
              "      <td>0.030940</td>\n",
              "      <td>0.077229</td>\n",
              "      <td>0.056944</td>\n",
              "      <td>0.071558</td>\n",
              "      <td>0.230369</td>\n",
              "    </tr>\n",
              "    <tr>\n",
              "      <th>education-num</th>\n",
              "      <td>0.030940</td>\n",
              "      <td>1.000000</td>\n",
              "      <td>0.125146</td>\n",
              "      <td>0.080972</td>\n",
              "      <td>0.143689</td>\n",
              "      <td>0.332613</td>\n",
              "    </tr>\n",
              "    <tr>\n",
              "      <th>capital-gain</th>\n",
              "      <td>0.077229</td>\n",
              "      <td>0.125146</td>\n",
              "      <td>1.000000</td>\n",
              "      <td>-0.031441</td>\n",
              "      <td>0.082157</td>\n",
              "      <td>0.223013</td>\n",
              "    </tr>\n",
              "    <tr>\n",
              "      <th>capital-loss</th>\n",
              "      <td>0.056944</td>\n",
              "      <td>0.080972</td>\n",
              "      <td>-0.031441</td>\n",
              "      <td>1.000000</td>\n",
              "      <td>0.054467</td>\n",
              "      <td>0.147554</td>\n",
              "    </tr>\n",
              "    <tr>\n",
              "      <th>hours-per-week</th>\n",
              "      <td>0.071558</td>\n",
              "      <td>0.143689</td>\n",
              "      <td>0.082157</td>\n",
              "      <td>0.054467</td>\n",
              "      <td>1.000000</td>\n",
              "      <td>0.227687</td>\n",
              "    </tr>\n",
              "    <tr>\n",
              "      <th>class</th>\n",
              "      <td>0.230369</td>\n",
              "      <td>0.332613</td>\n",
              "      <td>0.223013</td>\n",
              "      <td>0.147554</td>\n",
              "      <td>0.227687</td>\n",
              "      <td>1.000000</td>\n",
              "    </tr>\n",
              "  </tbody>\n",
              "</table>\n",
              "</div>\n",
              "    <div class=\"colab-df-buttons\">\n",
              "\n",
              "  <div class=\"colab-df-container\">\n",
              "    <button class=\"colab-df-convert\" onclick=\"convertToInteractive('df-1b4480d7-9af7-439a-900e-e4abed140375')\"\n",
              "            title=\"Convert this dataframe to an interactive table.\"\n",
              "            style=\"display:none;\">\n",
              "\n",
              "  <svg xmlns=\"http://www.w3.org/2000/svg\" height=\"24px\" viewBox=\"0 -960 960 960\">\n",
              "    <path d=\"M120-120v-720h720v720H120Zm60-500h600v-160H180v160Zm220 220h160v-160H400v160Zm0 220h160v-160H400v160ZM180-400h160v-160H180v160Zm440 0h160v-160H620v160ZM180-180h160v-160H180v160Zm440 0h160v-160H620v160Z\"/>\n",
              "  </svg>\n",
              "    </button>\n",
              "\n",
              "  <style>\n",
              "    .colab-df-container {\n",
              "      display:flex;\n",
              "      gap: 12px;\n",
              "    }\n",
              "\n",
              "    .colab-df-convert {\n",
              "      background-color: #E8F0FE;\n",
              "      border: none;\n",
              "      border-radius: 50%;\n",
              "      cursor: pointer;\n",
              "      display: none;\n",
              "      fill: #1967D2;\n",
              "      height: 32px;\n",
              "      padding: 0 0 0 0;\n",
              "      width: 32px;\n",
              "    }\n",
              "\n",
              "    .colab-df-convert:hover {\n",
              "      background-color: #E2EBFA;\n",
              "      box-shadow: 0px 1px 2px rgba(60, 64, 67, 0.3), 0px 1px 3px 1px rgba(60, 64, 67, 0.15);\n",
              "      fill: #174EA6;\n",
              "    }\n",
              "\n",
              "    .colab-df-buttons div {\n",
              "      margin-bottom: 4px;\n",
              "    }\n",
              "\n",
              "    [theme=dark] .colab-df-convert {\n",
              "      background-color: #3B4455;\n",
              "      fill: #D2E3FC;\n",
              "    }\n",
              "\n",
              "    [theme=dark] .colab-df-convert:hover {\n",
              "      background-color: #434B5C;\n",
              "      box-shadow: 0px 1px 3px 1px rgba(0, 0, 0, 0.15);\n",
              "      filter: drop-shadow(0px 1px 2px rgba(0, 0, 0, 0.3));\n",
              "      fill: #FFFFFF;\n",
              "    }\n",
              "  </style>\n",
              "\n",
              "    <script>\n",
              "      const buttonEl =\n",
              "        document.querySelector('#df-1b4480d7-9af7-439a-900e-e4abed140375 button.colab-df-convert');\n",
              "      buttonEl.style.display =\n",
              "        google.colab.kernel.accessAllowed ? 'block' : 'none';\n",
              "\n",
              "      async function convertToInteractive(key) {\n",
              "        const element = document.querySelector('#df-1b4480d7-9af7-439a-900e-e4abed140375');\n",
              "        const dataTable =\n",
              "          await google.colab.kernel.invokeFunction('convertToInteractive',\n",
              "                                                    [key], {});\n",
              "        if (!dataTable) return;\n",
              "\n",
              "        const docLinkHtml = 'Like what you see? Visit the ' +\n",
              "          '<a target=\"_blank\" href=https://colab.research.google.com/notebooks/data_table.ipynb>data table notebook</a>'\n",
              "          + ' to learn more about interactive tables.';\n",
              "        element.innerHTML = '';\n",
              "        dataTable['output_type'] = 'display_data';\n",
              "        await google.colab.output.renderOutput(dataTable, element);\n",
              "        const docLink = document.createElement('div');\n",
              "        docLink.innerHTML = docLinkHtml;\n",
              "        element.appendChild(docLink);\n",
              "      }\n",
              "    </script>\n",
              "  </div>\n",
              "\n",
              "\n",
              "<div id=\"df-04ed39c0-745c-4338-8cc8-70199bbdc358\">\n",
              "  <button class=\"colab-df-quickchart\" onclick=\"quickchart('df-04ed39c0-745c-4338-8cc8-70199bbdc358')\"\n",
              "            title=\"Suggest charts.\"\n",
              "            style=\"display:none;\">\n",
              "\n",
              "<svg xmlns=\"http://www.w3.org/2000/svg\" height=\"24px\"viewBox=\"0 0 24 24\"\n",
              "     width=\"24px\">\n",
              "    <g>\n",
              "        <path d=\"M19 3H5c-1.1 0-2 .9-2 2v14c0 1.1.9 2 2 2h14c1.1 0 2-.9 2-2V5c0-1.1-.9-2-2-2zM9 17H7v-7h2v7zm4 0h-2V7h2v10zm4 0h-2v-4h2v4z\"/>\n",
              "    </g>\n",
              "</svg>\n",
              "  </button>\n",
              "\n",
              "<style>\n",
              "  .colab-df-quickchart {\n",
              "    background-color: #E8F0FE;\n",
              "    border: none;\n",
              "    border-radius: 50%;\n",
              "    cursor: pointer;\n",
              "    display: none;\n",
              "    fill: #1967D2;\n",
              "    height: 32px;\n",
              "    padding: 0 0 0 0;\n",
              "    width: 32px;\n",
              "  }\n",
              "\n",
              "  .colab-df-quickchart:hover {\n",
              "    background-color: #E2EBFA;\n",
              "    box-shadow: 0px 1px 2px rgba(60, 64, 67, 0.3), 0px 1px 3px 1px rgba(60, 64, 67, 0.15);\n",
              "    fill: #174EA6;\n",
              "  }\n",
              "\n",
              "  [theme=dark] .colab-df-quickchart {\n",
              "    background-color: #3B4455;\n",
              "    fill: #D2E3FC;\n",
              "  }\n",
              "\n",
              "  [theme=dark] .colab-df-quickchart:hover {\n",
              "    background-color: #434B5C;\n",
              "    box-shadow: 0px 1px 3px 1px rgba(0, 0, 0, 0.15);\n",
              "    filter: drop-shadow(0px 1px 2px rgba(0, 0, 0, 0.3));\n",
              "    fill: #FFFFFF;\n",
              "  }\n",
              "</style>\n",
              "\n",
              "  <script>\n",
              "    async function quickchart(key) {\n",
              "      const charts = await google.colab.kernel.invokeFunction(\n",
              "          'suggestCharts', [key], {});\n",
              "    }\n",
              "    (() => {\n",
              "      let quickchartButtonEl =\n",
              "        document.querySelector('#df-04ed39c0-745c-4338-8cc8-70199bbdc358 button');\n",
              "      quickchartButtonEl.style.display =\n",
              "        google.colab.kernel.accessAllowed ? 'block' : 'none';\n",
              "    })();\n",
              "  </script>\n",
              "</div>\n",
              "    </div>\n",
              "  </div>\n"
            ]
          },
          "metadata": {},
          "execution_count": 240
        }
      ]
    },
    {
      "cell_type": "markdown",
      "source": [
        "# 결측치 확인"
      ],
      "metadata": {
        "id": "4LefNYjzQ1Hw"
      }
    },
    {
      "cell_type": "markdown",
      "source": [
        "## 1) workclass (범주형 변수)\n",
        "- 결측치 행은 삭제하거나, Without-pay로 대체하자"
      ],
      "metadata": {
        "id": "xosfKJEGQ38e"
      }
    },
    {
      "cell_type": "code",
      "source": [
        "df.workclass.describe()"
      ],
      "metadata": {
        "colab": {
          "base_uri": "https://localhost:8080/"
        },
        "id": "lXgT_ClBRE_H",
        "outputId": "db02bdd9-fee4-4f3d-cfd5-b92a910129f4"
      },
      "execution_count": 241,
      "outputs": [
        {
          "output_type": "execute_result",
          "data": {
            "text/plain": [
              "count       46043\n",
              "unique          8\n",
              "top       Private\n",
              "freq        33906\n",
              "Name: workclass, dtype: object"
            ]
          },
          "metadata": {},
          "execution_count": 241
        }
      ]
    },
    {
      "cell_type": "code",
      "source": [
        "df.workclass.value_counts()"
      ],
      "metadata": {
        "colab": {
          "base_uri": "https://localhost:8080/"
        },
        "id": "XIrCfce4TD61",
        "outputId": "4bb25971-daef-4d32-c4de-2231a962b874"
      },
      "execution_count": 242,
      "outputs": [
        {
          "output_type": "execute_result",
          "data": {
            "text/plain": [
              "Private             33906\n",
              "Self-emp-not-inc     3862\n",
              "Local-gov            3136\n",
              "State-gov            1981\n",
              "Self-emp-inc         1695\n",
              "Federal-gov          1432\n",
              "Without-pay            21\n",
              "Never-worked           10\n",
              "Name: workclass, dtype: int64"
            ]
          },
          "metadata": {},
          "execution_count": 242
        }
      ]
    },
    {
      "cell_type": "code",
      "source": [
        "df.groupby('workclass')['class'].mean().sort_values()"
      ],
      "metadata": {
        "colab": {
          "base_uri": "https://localhost:8080/"
        },
        "id": "92zsdvsjRiqK",
        "outputId": "ef796410-fb04-4bc6-c9fe-180cd06406c1"
      },
      "execution_count": 243,
      "outputs": [
        {
          "output_type": "execute_result",
          "data": {
            "text/plain": [
              "workclass\n",
              "Never-worked        0.000000\n",
              "Without-pay         0.095238\n",
              "Private             0.217867\n",
              "State-gov           0.267542\n",
              "Self-emp-not-inc    0.278871\n",
              "Local-gov           0.295599\n",
              "Federal-gov         0.391760\n",
              "Self-emp-inc        0.553392\n",
              "Name: class, dtype: float64"
            ]
          },
          "metadata": {},
          "execution_count": 243
        }
      ]
    },
    {
      "cell_type": "code",
      "source": [
        "temp = df[df.workclass.isnull()]\n",
        "temp['class'].mean()"
      ],
      "metadata": {
        "colab": {
          "base_uri": "https://localhost:8080/"
        },
        "id": "PB7WTlcvRlbB",
        "outputId": "2111a3e5-af64-44db-da68-e37e84deea08"
      },
      "execution_count": 244,
      "outputs": [
        {
          "output_type": "execute_result",
          "data": {
            "text/plain": [
              "0.09467667023937121"
            ]
          },
          "metadata": {},
          "execution_count": 244
        }
      ]
    },
    {
      "cell_type": "markdown",
      "source": [
        "## 2) occupation\n",
        "- null 값 삭제하자! (이유 : Prof-specialty, Craft-repair 와는 class 평균 너무 차이남   )\n",
        "- 그렇다고 Farming-fishing을 넣기에는 해당 값은 너무 소수라서..."
      ],
      "metadata": {
        "id": "f_eKAXaJQ_Fh"
      }
    },
    {
      "cell_type": "code",
      "source": [
        "df.occupation.describe()"
      ],
      "metadata": {
        "colab": {
          "base_uri": "https://localhost:8080/"
        },
        "id": "fHCkVsiaTUvv",
        "outputId": "b4bb34a8-a088-415a-e2e1-602058aa8660"
      },
      "execution_count": 245,
      "outputs": [
        {
          "output_type": "execute_result",
          "data": {
            "text/plain": [
              "count              46033\n",
              "unique                14\n",
              "top       Prof-specialty\n",
              "freq                6172\n",
              "Name: occupation, dtype: object"
            ]
          },
          "metadata": {},
          "execution_count": 245
        }
      ]
    },
    {
      "cell_type": "code",
      "source": [
        "df.occupation.value_counts()"
      ],
      "metadata": {
        "colab": {
          "base_uri": "https://localhost:8080/"
        },
        "id": "BoW-oCOHTYPb",
        "outputId": "718f72dc-961b-44ab-9c2a-c2639ef88317"
      },
      "execution_count": 246,
      "outputs": [
        {
          "output_type": "execute_result",
          "data": {
            "text/plain": [
              "Prof-specialty       6172\n",
              "Craft-repair         6112\n",
              "Exec-managerial      6086\n",
              "Adm-clerical         5611\n",
              "Sales                5504\n",
              "Other-service        4923\n",
              "Machine-op-inspct    3022\n",
              "Transport-moving     2355\n",
              "Handlers-cleaners    2072\n",
              "Farming-fishing      1490\n",
              "Tech-support         1446\n",
              "Protective-serv       983\n",
              "Priv-house-serv       242\n",
              "Armed-Forces           15\n",
              "Name: occupation, dtype: int64"
            ]
          },
          "metadata": {},
          "execution_count": 246
        }
      ]
    },
    {
      "cell_type": "code",
      "source": [
        "df.groupby('occupation')['class'].mean().sort_values()"
      ],
      "metadata": {
        "colab": {
          "base_uri": "https://localhost:8080/"
        },
        "id": "qHliszbQTkpG",
        "outputId": "e011f83e-ac6c-466c-a19f-97ab452f4147"
      },
      "execution_count": 247,
      "outputs": [
        {
          "output_type": "execute_result",
          "data": {
            "text/plain": [
              "occupation\n",
              "Priv-house-serv      0.012397\n",
              "Other-service        0.041438\n",
              "Handlers-cleaners    0.066602\n",
              "Farming-fishing      0.116107\n",
              "Machine-op-inspct    0.123097\n",
              "Adm-clerical         0.136874\n",
              "Transport-moving     0.204246\n",
              "Craft-repair         0.226276\n",
              "Sales                0.267987\n",
              "Tech-support         0.290456\n",
              "Protective-serv      0.313327\n",
              "Armed-Forces         0.333333\n",
              "Prof-specialty       0.451069\n",
              "Exec-managerial      0.477818\n",
              "Name: class, dtype: float64"
            ]
          },
          "metadata": {},
          "execution_count": 247
        }
      ]
    },
    {
      "cell_type": "code",
      "source": [
        "temp = df[df.occupation.isnull()]\n",
        "temp['class'].mean()"
      ],
      "metadata": {
        "colab": {
          "base_uri": "https://localhost:8080/"
        },
        "id": "YENecmbcTrzr",
        "outputId": "91bb3726-b0d8-4418-c050-2ba72639e473"
      },
      "execution_count": 248,
      "outputs": [
        {
          "output_type": "execute_result",
          "data": {
            "text/plain": [
              "0.09433962264150944"
            ]
          },
          "metadata": {},
          "execution_count": 248
        }
      ]
    },
    {
      "cell_type": "markdown",
      "source": [
        "## 3) native-country\n",
        "- 압도적인 값 United-States로 대체 , class 평균값도 비슷하네"
      ],
      "metadata": {
        "id": "90r3yXyBRBAP"
      }
    },
    {
      "cell_type": "code",
      "source": [
        "df['native-country'].describe()"
      ],
      "metadata": {
        "colab": {
          "base_uri": "https://localhost:8080/"
        },
        "id": "9A_oY03JQ0zo",
        "outputId": "26e28f89-3081-428f-b0e7-fcc406a4c97c"
      },
      "execution_count": 249,
      "outputs": [
        {
          "output_type": "execute_result",
          "data": {
            "text/plain": [
              "count             47985\n",
              "unique               41\n",
              "top       United-States\n",
              "freq              43832\n",
              "Name: native-country, dtype: object"
            ]
          },
          "metadata": {},
          "execution_count": 249
        }
      ]
    },
    {
      "cell_type": "code",
      "source": [
        "df['native-country'].value_counts()"
      ],
      "metadata": {
        "colab": {
          "base_uri": "https://localhost:8080/"
        },
        "id": "QfWfojYmUTpc",
        "outputId": "779cfd29-e66e-49ca-b5fd-40a93e3e6719"
      },
      "execution_count": 250,
      "outputs": [
        {
          "output_type": "execute_result",
          "data": {
            "text/plain": [
              "United-States                 43832\n",
              "Mexico                          951\n",
              "Philippines                     295\n",
              "Germany                         206\n",
              "Puerto-Rico                     184\n",
              "Canada                          182\n",
              "El-Salvador                     155\n",
              "India                           151\n",
              "Cuba                            138\n",
              "England                         127\n",
              "China                           122\n",
              "South                           115\n",
              "Jamaica                         106\n",
              "Italy                           105\n",
              "Dominican-Republic              103\n",
              "Japan                            92\n",
              "Guatemala                        88\n",
              "Poland                           87\n",
              "Vietnam                          86\n",
              "Columbia                         85\n",
              "Haiti                            75\n",
              "Portugal                         67\n",
              "Taiwan                           65\n",
              "Iran                             59\n",
              "Greece                           49\n",
              "Nicaragua                        49\n",
              "Peru                             46\n",
              "Ecuador                          45\n",
              "France                           38\n",
              "Ireland                          37\n",
              "Hong                             30\n",
              "Thailand                         30\n",
              "Cambodia                         28\n",
              "Trinadad&Tobago                  27\n",
              "Yugoslavia                       23\n",
              "Outlying-US(Guam-USVI-etc)       23\n",
              "Laos                             23\n",
              "Scotland                         21\n",
              "Honduras                         20\n",
              "Hungary                          19\n",
              "Holand-Netherlands                1\n",
              "Name: native-country, dtype: int64"
            ]
          },
          "metadata": {},
          "execution_count": 250
        }
      ]
    },
    {
      "cell_type": "code",
      "source": [
        "df.groupby('native-country')['class'].mean().sort_values()"
      ],
      "metadata": {
        "colab": {
          "base_uri": "https://localhost:8080/"
        },
        "id": "qIyLpg4yUgyh",
        "outputId": "577bd0ee-9b0a-4cf1-f0f5-0184bbc8c4a1"
      },
      "execution_count": 251,
      "outputs": [
        {
          "output_type": "execute_result",
          "data": {
            "text/plain": [
              "native-country\n",
              "Holand-Netherlands            0.000000\n",
              "Guatemala                     0.034091\n",
              "Outlying-US(Guam-USVI-etc)    0.043478\n",
              "Columbia                      0.047059\n",
              "Dominican-Republic            0.048544\n",
              "Mexico                        0.049422\n",
              "Nicaragua                     0.061224\n",
              "El-Salvador                   0.070968\n",
              "Trinadad&Tobago               0.074074\n",
              "Vietnam                       0.081395\n",
              "Laos                          0.086957\n",
              "Peru                          0.086957\n",
              "Honduras                      0.100000\n",
              "Puerto-Rico                   0.108696\n",
              "Haiti                         0.120000\n",
              "Ecuador                       0.133333\n",
              "Jamaica                       0.141509\n",
              "Scotland                      0.142857\n",
              "Thailand                      0.166667\n",
              "South                         0.173913\n",
              "Portugal                      0.179104\n",
              "Poland                        0.195402\n",
              "United-States                 0.243977\n",
              "Cuba                          0.246377\n",
              "Hong                          0.266667\n",
              "Germany                       0.281553\n",
              "Philippines                   0.288136\n",
              "China                         0.295082\n",
              "Ireland                       0.297297\n",
              "Hungary                       0.315789\n",
              "Cambodia                      0.321429\n",
              "Italy                         0.323810\n",
              "Canada                        0.346154\n",
              "Japan                         0.347826\n",
              "Yugoslavia                    0.347826\n",
              "Greece                        0.367347\n",
              "England                       0.370079\n",
              "Iran                          0.372881\n",
              "Taiwan                        0.400000\n",
              "India                         0.410596\n",
              "France                        0.421053\n",
              "Name: class, dtype: float64"
            ]
          },
          "metadata": {},
          "execution_count": 251
        }
      ]
    },
    {
      "cell_type": "code",
      "source": [
        "temp = df[df['native-country'].isnull()]\n",
        "temp['class'].mean()"
      ],
      "metadata": {
        "colab": {
          "base_uri": "https://localhost:8080/"
        },
        "id": "u-kfGebCUTls",
        "outputId": "50e22f56-12b3-41d8-a48a-22bfbc2a89b2"
      },
      "execution_count": 252,
      "outputs": [
        {
          "output_type": "execute_result",
          "data": {
            "text/plain": [
              "0.25670945157526254"
            ]
          },
          "metadata": {},
          "execution_count": 252
        }
      ]
    },
    {
      "cell_type": "markdown",
      "source": [
        "## 4) 결측치 제거 코드"
      ],
      "metadata": {
        "id": "pqCEcHUQVhWj"
      }
    },
    {
      "cell_type": "code",
      "source": [
        "df['native-country']= df['native-country'].fillna('United-States')\n",
        "df.dropna(subset = ['workclass'], inplace= True)\n",
        "df.dropna(subset = ['occupation'], inplace= True)"
      ],
      "metadata": {
        "id": "GGW-ghgcVmi0"
      },
      "execution_count": 253,
      "outputs": []
    },
    {
      "cell_type": "code",
      "source": [
        "df.isnull().sum()"
      ],
      "metadata": {
        "colab": {
          "base_uri": "https://localhost:8080/"
        },
        "id": "-OCLBPs7WQtn",
        "outputId": "d380f5de-da75-4930-f669-ab87b9155435"
      },
      "execution_count": 254,
      "outputs": [
        {
          "output_type": "execute_result",
          "data": {
            "text/plain": [
              "age               0\n",
              "workclass         0\n",
              "education         0\n",
              "education-num     0\n",
              "marital-status    0\n",
              "occupation        0\n",
              "relationship      0\n",
              "race              0\n",
              "sex               0\n",
              "capital-gain      0\n",
              "capital-loss      0\n",
              "hours-per-week    0\n",
              "native-country    0\n",
              "class             0\n",
              "dtype: int64"
            ]
          },
          "metadata": {},
          "execution_count": 254
        }
      ]
    },
    {
      "cell_type": "markdown",
      "source": [
        "# 범주형 변수\n",
        "- workclass, education, marital-status, occupation, relationship, race, sex, native-country"
      ],
      "metadata": {
        "id": "tf9OWsI6WxpA"
      }
    },
    {
      "cell_type": "markdown",
      "source": [
        "## 1) workclass : 레이블 인코딩\n",
        "- Without-pay는 0으로\n",
        "- Private는 1로\n",
        "- 나머지는 2로 인코딩"
      ],
      "metadata": {
        "id": "Xmc8qw7RXhfQ"
      }
    },
    {
      "cell_type": "code",
      "source": [
        "df.groupby('workclass')['class'].mean().sort_values()"
      ],
      "metadata": {
        "colab": {
          "base_uri": "https://localhost:8080/"
        },
        "id": "wJFfuinvXk2S",
        "outputId": "db292d71-9b0d-415b-aa88-c5a5fe9e2908"
      },
      "execution_count": 255,
      "outputs": [
        {
          "output_type": "execute_result",
          "data": {
            "text/plain": [
              "workclass\n",
              "Without-pay         0.095238\n",
              "Private             0.217867\n",
              "State-gov           0.267542\n",
              "Self-emp-not-inc    0.278871\n",
              "Local-gov           0.295599\n",
              "Federal-gov         0.391760\n",
              "Self-emp-inc        0.553392\n",
              "Name: class, dtype: float64"
            ]
          },
          "metadata": {},
          "execution_count": 255
        }
      ]
    },
    {
      "cell_type": "code",
      "source": [
        "df.workclass.value_counts()"
      ],
      "metadata": {
        "colab": {
          "base_uri": "https://localhost:8080/"
        },
        "id": "R02kJ66jXuI_",
        "outputId": "1a9e8a95-fca2-4ca3-ee0c-2b05ca34c8e7"
      },
      "execution_count": 256,
      "outputs": [
        {
          "output_type": "execute_result",
          "data": {
            "text/plain": [
              "Private             33906\n",
              "Self-emp-not-inc     3862\n",
              "Local-gov            3136\n",
              "State-gov            1981\n",
              "Self-emp-inc         1695\n",
              "Federal-gov          1432\n",
              "Without-pay            21\n",
              "Name: workclass, dtype: int64"
            ]
          },
          "metadata": {},
          "execution_count": 256
        }
      ]
    },
    {
      "cell_type": "code",
      "source": [
        "df['workclass_enc']= ''\n",
        "for idx, word in df.workclass.items():\n",
        "  if word == 'Without-pay' :\n",
        "    df['workclass_enc'][idx]=0\n",
        "  elif word == 'Private' :\n",
        "    df['workclass_enc'][idx]=1\n",
        "  else :\n",
        "    df['workclass_enc'][idx]=2"
      ],
      "metadata": {
        "id": "HklRvTzhYoIY"
      },
      "execution_count": 257,
      "outputs": []
    },
    {
      "cell_type": "markdown",
      "source": [
        "## 2) education : 레이블 인코딩\n"
      ],
      "metadata": {
        "id": "J55HsTjIZcQ0"
      }
    },
    {
      "cell_type": "code",
      "source": [
        "df.groupby('education')['class'].mean().sort_values()"
      ],
      "metadata": {
        "colab": {
          "base_uri": "https://localhost:8080/"
        },
        "id": "qtHhaAfSZZGL",
        "outputId": "783c7f4c-7202-4d35-dd9c-79f7ca86a03d"
      },
      "execution_count": 258,
      "outputs": [
        {
          "output_type": "execute_result",
          "data": {
            "text/plain": [
              "education\n",
              "Preschool       0.013699\n",
              "1st-4th         0.034934\n",
              "5th-6th         0.053419\n",
              "11th            0.055181\n",
              "9th             0.058224\n",
              "10th            0.066990\n",
              "7th-8th         0.068720\n",
              "12th            0.076795\n",
              "HS-grad         0.162771\n",
              "Some-college    0.200578\n",
              "Assoc-voc       0.257331\n",
              "Assoc-acdm      0.264225\n",
              "Bachelors       0.418554\n",
              "Masters         0.552124\n",
              "Doctorate       0.727431\n",
              "Prof-school     0.748148\n",
              "Name: class, dtype: float64"
            ]
          },
          "metadata": {},
          "execution_count": 258
        }
      ]
    },
    {
      "cell_type": "code",
      "source": [
        "df.education.value_counts()"
      ],
      "metadata": {
        "colab": {
          "base_uri": "https://localhost:8080/"
        },
        "id": "iHpBrum3Znpo",
        "outputId": "1bcc036a-e40b-4bf3-8fb6-90e1629c4440"
      },
      "execution_count": 259,
      "outputs": [
        {
          "output_type": "execute_result",
          "data": {
            "text/plain": [
              "HS-grad         14972\n",
              "Some-college    10036\n",
              "Bachelors        7772\n",
              "Masters          2590\n",
              "Assoc-voc        1978\n",
              "11th             1631\n",
              "Assoc-acdm       1529\n",
              "10th             1239\n",
              "7th-8th           844\n",
              "Prof-school       810\n",
              "9th               687\n",
              "12th              599\n",
              "Doctorate         576\n",
              "5th-6th           468\n",
              "1st-4th           229\n",
              "Preschool          73\n",
              "Name: education, dtype: int64"
            ]
          },
          "metadata": {},
          "execution_count": 259
        }
      ]
    },
    {
      "cell_type": "code",
      "source": [
        "df['education_enc']= ''\n",
        "for idx, word in df.education.items():\n",
        "  if word in [\"Preschool\",\"1st-4th\",\"5th-6th\",\"11th\",\"9th\",\"10th\" ,\"7th-8th\",\"12th\",\"HS-grad\"]:\n",
        "    df['education_enc'][idx]=0\n",
        "  elif word in [\"Some-college\", \"Assoc-voc\"  , \"Assoc-acdm\"] :\n",
        "    df['education_enc'][idx]=1\n",
        "  else :\n",
        "    df['education_enc'][idx]=2"
      ],
      "metadata": {
        "id": "t7dBBYuLZpQx"
      },
      "execution_count": 260,
      "outputs": []
    },
    {
      "cell_type": "markdown",
      "source": [
        "## 3) marital-status : 레이블 인코딩"
      ],
      "metadata": {
        "id": "GSL8a87Na8wj"
      }
    },
    {
      "cell_type": "code",
      "source": [
        "df.groupby('marital-status')['class'].mean().sort_values()"
      ],
      "metadata": {
        "colab": {
          "base_uri": "https://localhost:8080/"
        },
        "id": "8QrHcQQ3a7yU",
        "outputId": "93b8c611-6b15-4241-c189-f1421784db51"
      },
      "execution_count": 261,
      "outputs": [
        {
          "output_type": "execute_result",
          "data": {
            "text/plain": [
              "marital-status\n",
              "Never-married            0.048538\n",
              "Separated                0.069086\n",
              "Widowed                  0.094136\n",
              "Married-spouse-absent    0.097770\n",
              "Divorced                 0.104039\n",
              "Married-AF-spouse        0.437500\n",
              "Married-civ-spouse       0.454338\n",
              "Name: class, dtype: float64"
            ]
          },
          "metadata": {},
          "execution_count": 261
        }
      ]
    },
    {
      "cell_type": "code",
      "source": [
        "df['marital-status'].value_counts()"
      ],
      "metadata": {
        "colab": {
          "base_uri": "https://localhost:8080/"
        },
        "id": "UtPgQdhnbFFK",
        "outputId": "d7c36a2a-8951-4c7b-b938-31033466afd4"
      },
      "execution_count": 262,
      "outputs": [
        {
          "output_type": "execute_result",
          "data": {
            "text/plain": [
              "Married-civ-spouse       21451\n",
              "Never-married            14875\n",
              "Divorced                  6363\n",
              "Separated                 1433\n",
              "Widowed                   1296\n",
              "Married-spouse-absent      583\n",
              "Married-AF-spouse           32\n",
              "Name: marital-status, dtype: int64"
            ]
          },
          "metadata": {},
          "execution_count": 262
        }
      ]
    },
    {
      "cell_type": "code",
      "source": [
        "df['marital-status_enc']= ''\n",
        "for idx, word in df['marital-status'].items():\n",
        "  if word in [\"Married-AF-spouse\",\"Married-civ-spouse\"]:\n",
        "    df['marital-status_enc'][idx]=1\n",
        "  else :\n",
        "    df['marital-status_enc'][idx]=0"
      ],
      "metadata": {
        "id": "B0YvdCsTbFPr"
      },
      "execution_count": 263,
      "outputs": []
    },
    {
      "cell_type": "markdown",
      "source": [
        "## 4) occupation : 레이블 인코딩"
      ],
      "metadata": {
        "id": "35vC49bHbvIB"
      }
    },
    {
      "cell_type": "code",
      "source": [
        "df.groupby('occupation')['class'].mean().sort_values()"
      ],
      "metadata": {
        "colab": {
          "base_uri": "https://localhost:8080/"
        },
        "id": "vCmOrhppb75b",
        "outputId": "ffd9da13-3c64-48c8-f682-e9f3616e8b78"
      },
      "execution_count": 264,
      "outputs": [
        {
          "output_type": "execute_result",
          "data": {
            "text/plain": [
              "occupation\n",
              "Priv-house-serv      0.012397\n",
              "Other-service        0.041438\n",
              "Handlers-cleaners    0.066602\n",
              "Farming-fishing      0.116107\n",
              "Machine-op-inspct    0.123097\n",
              "Adm-clerical         0.136874\n",
              "Transport-moving     0.204246\n",
              "Craft-repair         0.226276\n",
              "Sales                0.267987\n",
              "Tech-support         0.290456\n",
              "Protective-serv      0.313327\n",
              "Armed-Forces         0.333333\n",
              "Prof-specialty       0.451069\n",
              "Exec-managerial      0.477818\n",
              "Name: class, dtype: float64"
            ]
          },
          "metadata": {},
          "execution_count": 264
        }
      ]
    },
    {
      "cell_type": "code",
      "source": [
        "df['occupation'].value_counts()"
      ],
      "metadata": {
        "colab": {
          "base_uri": "https://localhost:8080/"
        },
        "id": "ecwiWpfEb7xH",
        "outputId": "d0af3dca-3d48-4c53-e57d-06769cf53a33"
      },
      "execution_count": 265,
      "outputs": [
        {
          "output_type": "execute_result",
          "data": {
            "text/plain": [
              "Prof-specialty       6172\n",
              "Craft-repair         6112\n",
              "Exec-managerial      6086\n",
              "Adm-clerical         5611\n",
              "Sales                5504\n",
              "Other-service        4923\n",
              "Machine-op-inspct    3022\n",
              "Transport-moving     2355\n",
              "Handlers-cleaners    2072\n",
              "Farming-fishing      1490\n",
              "Tech-support         1446\n",
              "Protective-serv       983\n",
              "Priv-house-serv       242\n",
              "Armed-Forces           15\n",
              "Name: occupation, dtype: int64"
            ]
          },
          "metadata": {},
          "execution_count": 265
        }
      ]
    },
    {
      "cell_type": "code",
      "source": [
        "df['occupation_enc']= ''\n",
        "for idx, word in df['occupation'].items():\n",
        "  if word in [\"Priv-house-serv\", \"Other-service\", \"Handlers-cleaners\" ,\"Farming-fishing\",\"Machine-op-inspct\", \"Adm-clerica\"]:\n",
        "    df['occupation_enc'][idx]=0\n",
        "  elif word in [\"Transport-moving\", \"Craft-repair\", \"Sales\"]:\n",
        "    df['occupation_enc'][idx]=1\n",
        "  else :\n",
        "    df['occupation_enc'][idx]=2"
      ],
      "metadata": {
        "id": "mXMwpMnZcA2g"
      },
      "execution_count": 266,
      "outputs": []
    },
    {
      "cell_type": "markdown",
      "source": [
        "## 5) relationship : 원핫 인코딩"
      ],
      "metadata": {
        "id": "puj_0Z74eaLM"
      }
    },
    {
      "cell_type": "code",
      "source": [
        "df.groupby('relationship')['class'].mean().sort_values()"
      ],
      "metadata": {
        "colab": {
          "base_uri": "https://localhost:8080/"
        },
        "outputId": "803ed6c3-2aae-4fb0-cfce-482cacc481b1",
        "id": "KFdie5iBeaLM"
      },
      "execution_count": 267,
      "outputs": [
        {
          "output_type": "execute_result",
          "data": {
            "text/plain": [
              "relationship\n",
              "Own-child         0.016105\n",
              "Other-relative    0.036429\n",
              "Unmarried         0.062872\n",
              "Not-in-family     0.105153\n",
              "Husband           0.456143\n",
              "Wife              0.483871\n",
              "Name: class, dtype: float64"
            ]
          },
          "metadata": {},
          "execution_count": 267
        }
      ]
    },
    {
      "cell_type": "code",
      "source": [
        "df['relationship'].value_counts()"
      ],
      "metadata": {
        "colab": {
          "base_uri": "https://localhost:8080/"
        },
        "outputId": "1b5354e9-2496-4c14-fda0-577421d929ca",
        "id": "-s3VdH_oeaLN"
      },
      "execution_count": 268,
      "outputs": [
        {
          "output_type": "execute_result",
          "data": {
            "text/plain": [
              "Husband           19005\n",
              "Not-in-family     11916\n",
              "Own-child          6706\n",
              "Unmarried          4867\n",
              "Wife               2139\n",
              "Other-relative     1400\n",
              "Name: relationship, dtype: int64"
            ]
          },
          "metadata": {},
          "execution_count": 268
        }
      ]
    },
    {
      "cell_type": "code",
      "source": [
        "df['relationship_enc']= ''\n",
        "for idx, word in df['relationship'].items():\n",
        "  if word in [\"Husband\", \"Wife\"]:\n",
        "    df['relationship_enc'][idx]=1\n",
        "  else :\n",
        "    df['relationship_enc'][idx]=0"
      ],
      "metadata": {
        "id": "fjoFPYieeaLN"
      },
      "execution_count": 269,
      "outputs": []
    },
    {
      "cell_type": "markdown",
      "source": [
        "## 6) sex : 원핫인코딩"
      ],
      "metadata": {
        "id": "79mligw5e4Cz"
      }
    },
    {
      "cell_type": "code",
      "source": [
        "df.groupby('sex')['class'].mean().sort_values()"
      ],
      "metadata": {
        "colab": {
          "base_uri": "https://localhost:8080/"
        },
        "outputId": "bcc69289-9931-4ec4-e8a4-1ded69d06a33",
        "id": "bs9xiGDKe4Cz"
      },
      "execution_count": 270,
      "outputs": [
        {
          "output_type": "execute_result",
          "data": {
            "text/plain": [
              "sex\n",
              "Female    0.113546\n",
              "Male      0.312657\n",
              "Name: class, dtype: float64"
            ]
          },
          "metadata": {},
          "execution_count": 270
        }
      ]
    },
    {
      "cell_type": "code",
      "source": [
        "df['sex'].value_counts()"
      ],
      "metadata": {
        "colab": {
          "base_uri": "https://localhost:8080/"
        },
        "outputId": "6767400f-f324-4569-c729-c7f9b581a157",
        "id": "TlOf_Sp3e4Cz"
      },
      "execution_count": 271,
      "outputs": [
        {
          "output_type": "execute_result",
          "data": {
            "text/plain": [
              "Male      31114\n",
              "Female    14919\n",
              "Name: sex, dtype: int64"
            ]
          },
          "metadata": {},
          "execution_count": 271
        }
      ]
    },
    {
      "cell_type": "code",
      "source": [
        "df['sex_enc']= ''\n",
        "for idx, word in df['sex'].items():\n",
        "  if word in [\"Male\"]:\n",
        "    df['sex_enc'][idx]=1\n",
        "  else :\n",
        "    df['sex_enc'][idx]=0"
      ],
      "metadata": {
        "id": "1sDQK9Qde4C0"
      },
      "execution_count": 272,
      "outputs": []
    },
    {
      "cell_type": "markdown",
      "source": [
        "## 7) race : 원핫 인코딩"
      ],
      "metadata": {
        "id": "ZiIbaaB0fkKg"
      }
    },
    {
      "cell_type": "code",
      "source": [
        "df.groupby('race')['class'].mean().sort_values()"
      ],
      "metadata": {
        "colab": {
          "base_uri": "https://localhost:8080/"
        },
        "outputId": "3477f1f6-3816-4185-b5f1-977092764c7f",
        "id": "YqY-dG4EfkKg"
      },
      "execution_count": 273,
      "outputs": [
        {
          "output_type": "execute_result",
          "data": {
            "text/plain": [
              "race\n",
              "Amer-Indian-Eskimo    0.121839\n",
              "Other                 0.125333\n",
              "Black                 0.126722\n",
              "White                 0.262828\n",
              "Asian-Pac-Islander    0.283204\n",
              "Name: class, dtype: float64"
            ]
          },
          "metadata": {},
          "execution_count": 273
        }
      ]
    },
    {
      "cell_type": "code",
      "source": [
        "df['race'].value_counts()"
      ],
      "metadata": {
        "colab": {
          "base_uri": "https://localhost:8080/"
        },
        "outputId": "70e1cdca-08e1-4aa0-b02b-0df43b7aaa36",
        "id": "kgatAal_fkKh"
      },
      "execution_count": 274,
      "outputs": [
        {
          "output_type": "execute_result",
          "data": {
            "text/plain": [
              "White                 39444\n",
              "Black                  4356\n",
              "Asian-Pac-Islander     1423\n",
              "Amer-Indian-Eskimo      435\n",
              "Other                   375\n",
              "Name: race, dtype: int64"
            ]
          },
          "metadata": {},
          "execution_count": 274
        }
      ]
    },
    {
      "cell_type": "code",
      "source": [
        "df['race_enc']= ''\n",
        "for idx, word in df['race'].items():\n",
        "  if word in [\"White\",'Asian-Pac-Islander']:\n",
        "    df['race_enc'][idx]=1\n",
        "  else :\n",
        "    df['race_enc'][idx]=0"
      ],
      "metadata": {
        "id": "wiYbqYshfkKh"
      },
      "execution_count": 275,
      "outputs": []
    },
    {
      "cell_type": "markdown",
      "source": [
        "## 8) native-country : 레이블 인코딩"
      ],
      "metadata": {
        "id": "qDuJnLiNgu54"
      }
    },
    {
      "cell_type": "code",
      "source": [
        "df.groupby('native-country')['class'].mean().sort_values()"
      ],
      "metadata": {
        "colab": {
          "base_uri": "https://localhost:8080/"
        },
        "id": "j0WRJaHOfkKh",
        "outputId": "bcfe438e-4029-4546-f715-e5562143c083"
      },
      "execution_count": 276,
      "outputs": [
        {
          "output_type": "execute_result",
          "data": {
            "text/plain": [
              "native-country\n",
              "Holand-Netherlands            0.000000\n",
              "Guatemala                     0.034884\n",
              "Outlying-US(Guam-USVI-etc)    0.045455\n",
              "Columbia                      0.048780\n",
              "Dominican-Republic            0.051546\n",
              "Mexico                        0.052049\n",
              "Nicaragua                     0.062500\n",
              "El-Salvador                   0.074830\n",
              "Trinadad&Tobago               0.076923\n",
              "Vietnam                       0.084337\n",
              "Peru                          0.088889\n",
              "Laos                          0.095238\n",
              "Scotland                      0.100000\n",
              "Honduras                      0.105263\n",
              "Puerto-Rico                   0.114286\n",
              "Haiti                         0.130435\n",
              "Jamaica                       0.135922\n",
              "Ecuador                       0.139535\n",
              "Thailand                      0.172414\n",
              "South                         0.178218\n",
              "Portugal                      0.193548\n",
              "Poland                        0.197531\n",
              "United-States                 0.253236\n",
              "Cuba                          0.255639\n",
              "Ireland                       0.277778\n",
              "Hong                          0.285714\n",
              "Philippines                   0.296820\n",
              "Germany                       0.300518\n",
              "China                         0.318584\n",
              "Italy                         0.330000\n",
              "Hungary                       0.333333\n",
              "Cambodia                      0.346154\n",
              "Yugoslavia                    0.347826\n",
              "Japan                         0.348315\n",
              "Greece                        0.367347\n",
              "Canada                        0.368098\n",
              "Iran                          0.392857\n",
              "England                       0.394958\n",
              "India                         0.421769\n",
              "France                        0.444444\n",
              "Taiwan                        0.454545\n",
              "Name: class, dtype: float64"
            ]
          },
          "metadata": {},
          "execution_count": 276
        }
      ]
    },
    {
      "cell_type": "code",
      "source": [
        "df['native-country'].value_counts()"
      ],
      "metadata": {
        "colab": {
          "base_uri": "https://localhost:8080/"
        },
        "id": "YMFx7g0XfkKh",
        "outputId": "6b849b3f-feaf-496a-cfe2-d93671c88612"
      },
      "execution_count": 277,
      "outputs": [
        {
          "output_type": "execute_result",
          "data": {
            "text/plain": [
              "United-States                 42103\n",
              "Mexico                          903\n",
              "Philippines                     283\n",
              "Germany                         193\n",
              "Puerto-Rico                     175\n",
              "Canada                          163\n",
              "El-Salvador                     147\n",
              "India                           147\n",
              "Cuba                            133\n",
              "England                         119\n",
              "China                           113\n",
              "Jamaica                         103\n",
              "South                           101\n",
              "Italy                           100\n",
              "Dominican-Republic               97\n",
              "Japan                            89\n",
              "Guatemala                        86\n",
              "Vietnam                          83\n",
              "Columbia                         82\n",
              "Poland                           81\n",
              "Haiti                            69\n",
              "Portugal                         62\n",
              "Iran                             56\n",
              "Taiwan                           55\n",
              "Greece                           49\n",
              "Nicaragua                        48\n",
              "Peru                             45\n",
              "Ecuador                          43\n",
              "France                           36\n",
              "Ireland                          36\n",
              "Thailand                         29\n",
              "Hong                             28\n",
              "Cambodia                         26\n",
              "Trinadad&Tobago                  26\n",
              "Yugoslavia                       23\n",
              "Outlying-US(Guam-USVI-etc)       22\n",
              "Laos                             21\n",
              "Scotland                         20\n",
              "Honduras                         19\n",
              "Hungary                          18\n",
              "Holand-Netherlands                1\n",
              "Name: native-country, dtype: int64"
            ]
          },
          "metadata": {},
          "execution_count": 277
        }
      ]
    },
    {
      "cell_type": "code",
      "source": [
        "df['native-country_enc']= ''\n",
        "for idx, word in df['native-country'].items():\n",
        "  if word in [\"Holand-Netherlands\",\"Guatemala\",\"Outlying-US(Guam-USVI-etc)\", \"Columbia\" ,\n",
        "\"Dominican-Republic\", \"Mexico\" ,\"Nicaragua\",\"El-Salvador\", \"Trinadad&Tobago\", \"Vietnam\",\"Peru\", \"Laos\",\"Scotland\", \"Honduras\",\"Puerto-Rico\",\n",
        "\"Haiti\" , \"Jamaica\"   ,\"Ecuador\",\"Thailand\",\"South\",\"Portugal\",\"Poland\"]:\n",
        "    df['native-country_enc'][idx]=0\n",
        "  elif word in [\"United-States\"] :\n",
        "    df['native-country_enc'][idx]=1\n",
        "  else :\n",
        "    df['native-country_enc'][idx]=2"
      ],
      "metadata": {
        "id": "WsOYEWxnhvyS"
      },
      "execution_count": 278,
      "outputs": []
    },
    {
      "cell_type": "markdown",
      "source": [
        "# 수치형 변수\n",
        "- age, education-num, captial-gain, capital-loss, hours-per-week"
      ],
      "metadata": {
        "id": "NftcJmN4WzNV"
      }
    },
    {
      "cell_type": "code",
      "source": [
        "import matplotlib.pyplot as plt\n",
        "plt.hist(df.age)"
      ],
      "metadata": {
        "colab": {
          "base_uri": "https://localhost:8080/",
          "height": 503
        },
        "id": "OVps_HPxmHb8",
        "outputId": "97b6609d-1520-4ba5-f84d-e45cef45fba8"
      },
      "execution_count": 279,
      "outputs": [
        {
          "output_type": "execute_result",
          "data": {
            "text/plain": [
              "(array([7398., 8386., 8886., 8992., 5800., 3670., 2043.,  584.,  195.,\n",
              "          79.]),\n",
              " array([17. , 24.3, 31.6, 38.9, 46.2, 53.5, 60.8, 68.1, 75.4, 82.7, 90. ]),\n",
              " <BarContainer object of 10 artists>)"
            ]
          },
          "metadata": {},
          "execution_count": 279
        },
        {
          "output_type": "display_data",
          "data": {
            "text/plain": [
              "<Figure size 640x480 with 1 Axes>"
            ],
            "image/png": "[encoded data removed]"
          },
          "metadata": {}
        }
      ]
    },
    {
      "cell_type": "code",
      "source": [
        "plt.hist(df['education-num'])"
      ],
      "metadata": {
        "colab": {
          "base_uri": "https://localhost:8080/",
          "height": 503
        },
        "id": "ssqEUYS4mQPK",
        "outputId": "024b335e-40fc-4bf8-a171-0bd9bdd451a0"
      },
      "execution_count": 280,
      "outputs": [
        {
          "output_type": "execute_result",
          "data": {
            "text/plain": [
              "(array([  302.,   468.,  1531.,  1239.,  2230., 14972., 12014.,  1529.,\n",
              "        10362.,  1386.]),\n",
              " array([ 1. ,  2.5,  4. ,  5.5,  7. ,  8.5, 10. , 11.5, 13. , 14.5, 16. ]),\n",
              " <BarContainer object of 10 artists>)"
            ]
          },
          "metadata": {},
          "execution_count": 280
        },
        {
          "output_type": "display_data",
          "data": {
            "text/plain": [
              "<Figure size 640x480 with 1 Axes>"
            ],
            "image/png": "[encoded data removed]"
          },
          "metadata": {}
        }
      ]
    },
    {
      "cell_type": "code",
      "source": [
        "plt.hist(df['capital-gain'])"
      ],
      "metadata": {
        "colab": {
          "base_uri": "https://localhost:8080/",
          "height": 521
        },
        "id": "OWBnUVhPmYHX",
        "outputId": "6cfc4db9-ae57-44ca-b520-5f55793052a6"
      },
      "execution_count": 281,
      "outputs": [
        {
          "output_type": "execute_result",
          "data": {
            "text/plain": [
              "(array([4.4922e+04, 7.4300e+02, 1.2200e+02, 4.0000e+00, 3.0000e+00,\n",
              "        0.0000e+00, 0.0000e+00, 0.0000e+00, 0.0000e+00, 2.3900e+02]),\n",
              " array([    0. ,  9999.9, 19999.8, 29999.7, 39999.6, 49999.5, 59999.4,\n",
              "        69999.3, 79999.2, 89999.1, 99999. ]),\n",
              " <BarContainer object of 10 artists>)"
            ]
          },
          "metadata": {},
          "execution_count": 281
        },
        {
          "output_type": "display_data",
          "data": {
            "text/plain": [
              "<Figure size 640x480 with 1 Axes>"
            ],
            "image/png": "[encoded data removed]"
          },
          "metadata": {}
        }
      ]
    },
    {
      "cell_type": "code",
      "source": [
        "plt.hist(df['capital-loss'])"
      ],
      "metadata": {
        "colab": {
          "base_uri": "https://localhost:8080/",
          "height": 521
        },
        "id": "LX9CcTKgmX_K",
        "outputId": "26d82f65-b8cb-4652-838f-a9b23ce940a3"
      },
      "execution_count": 282,
      "outputs": [
        {
          "output_type": "execute_result",
          "data": {
            "text/plain": [
              "(array([4.3864e+04, 2.3000e+01, 2.8000e+01, 6.5500e+02, 1.1420e+03,\n",
              "        2.9000e+02, 2.0000e+01, 2.0000e+00, 8.0000e+00, 1.0000e+00]),\n",
              " array([   0. ,  435.6,  871.2, 1306.8, 1742.4, 2178. , 2613.6, 3049.2,\n",
              "        3484.8, 3920.4, 4356. ]),\n",
              " <BarContainer object of 10 artists>)"
            ]
          },
          "metadata": {},
          "execution_count": 282
        },
        {
          "output_type": "display_data",
          "data": {
            "text/plain": [
              "<Figure size 640x480 with 1 Axes>"
            ],
            "image/png": "[encoded data removed]"
          },
          "metadata": {}
        }
      ]
    },
    {
      "cell_type": "code",
      "source": [
        "plt.hist(df['hours-per-week'])"
      ],
      "metadata": {
        "colab": {
          "base_uri": "https://localhost:8080/",
          "height": 503
        },
        "id": "c7KvPRmpmX2m",
        "outputId": "acbd8c44-50f0-470e-e7f3-3bc3f4b5ab2a"
      },
      "execution_count": 283,
      "outputs": [
        {
          "output_type": "execute_result",
          "data": {
            "text/plain": [
              "(array([  794.,  2864.,  2986., 25364.,  4558.,  5716.,  2590.,   665.,\n",
              "          295.,   201.]),\n",
              " array([ 1. , 10.8, 20.6, 30.4, 40.2, 50. , 59.8, 69.6, 79.4, 89.2, 99. ]),\n",
              " <BarContainer object of 10 artists>)"
            ]
          },
          "metadata": {},
          "execution_count": 283
        },
        {
          "output_type": "display_data",
          "data": {
            "text/plain": [
              "<Figure size 640x480 with 1 Axes>"
            ],
            "image/png": "[encoded data removed]"
          },
          "metadata": {}
        }
      ]
    },
    {
      "cell_type": "markdown",
      "source": [
        "# 스케일링\n",
        "- **불필요** : relationship_enc, sex_enc, race_enc,\n",
        "'\n",
        "\n",
        "       "
      ],
      "metadata": {
        "id": "AEASTcU_lqdf"
      }
    },
    {
      "cell_type": "markdown",
      "source": [
        "## Robust Scaler"
      ],
      "metadata": {
        "id": "5vwKt1_drHp7"
      }
    },
    {
      "cell_type": "code",
      "source": [
        "from sklearn.preprocessing import RobustScaler\n",
        "cols = ['age', 'education-num',\n",
        "          'capital-gain',\n",
        "       'capital-loss', 'hours-per-week',  'class',\n",
        "       'workclass_enc', 'education_enc', 'marital-status_enc',\n",
        "       'occupation_enc',\n",
        "       'native-country_enc']\n",
        "for col in cols:\n",
        "  #2차원 ndarray로 변환\n",
        "  items = np.array(df[col]).reshape(-1,1)\n",
        "\n",
        "  # 변형 객체 생성\n",
        "  robust_scaler = RobustScaler()\n",
        "\n",
        "  # 훈련데이터의 모수 분포 저장\n",
        "  robust_scaler.fit(items)\n",
        "\n",
        "  # 훈련 데이터 스케일링\n",
        "  items_scaled = robust_scaler.transform(items)\n",
        "\n",
        "  #transform()시 스케일 변환된 데이터 세트가 Numpy ndarray로 반환돼 이를 DataFrame으로 변환\n",
        "  items_df_scaled = pd.DataFrame(data=items_scaled)\n",
        "  print('feature들의 최솟값')\n",
        "  print(items_df_scaled.min())\n",
        "  print('\\nfeature들의 최댓값')\n",
        "  print(items_df_scaled.max())\n",
        "\n",
        "  # 칼럼 추가\n",
        "  feat_name = 'Robust_Scale_'+col\n",
        "  df[feat_name]= items_scaled"
      ],
      "metadata": {
        "colab": {
          "base_uri": "https://localhost:8080/"
        },
        "id": "QVnXxqMSrJlu",
        "outputId": "2e78b37c-bafe-4d10-a061-801ffa9d2fa6"
      },
      "execution_count": 285,
      "outputs": [
        {
          "output_type": "stream",
          "name": "stdout",
          "text": [
            "feature들의 최솟값\n",
            "0   -1.052632\n",
            "dtype: float64\n",
            "\n",
            "feature들의 최댓값\n",
            "0    2.789474\n",
            "dtype: float64\n",
            "feature들의 최솟값\n",
            "0   -2.25\n",
            "dtype: float64\n",
            "\n",
            "feature들의 최댓값\n",
            "0    1.5\n",
            "dtype: float64\n",
            "feature들의 최솟값\n",
            "0    0.0\n",
            "dtype: float64\n",
            "\n",
            "feature들의 최댓값\n",
            "0    99999.0\n",
            "dtype: float64\n",
            "feature들의 최솟값\n",
            "0    0.0\n",
            "dtype: float64\n",
            "\n",
            "feature들의 최댓값\n",
            "0    4356.0\n",
            "dtype: float64\n",
            "feature들의 최솟값\n",
            "0   -7.8\n",
            "dtype: float64\n",
            "\n",
            "feature들의 최댓값\n",
            "0    11.8\n",
            "dtype: float64\n",
            "feature들의 최솟값\n",
            "0    0.0\n",
            "dtype: float64\n",
            "\n",
            "feature들의 최댓값\n",
            "0    1.0\n",
            "dtype: float64\n",
            "feature들의 최솟값\n",
            "0   -1.0\n",
            "dtype: float64\n",
            "\n",
            "feature들의 최댓값\n",
            "0    1.0\n",
            "dtype: float64\n",
            "feature들의 최솟값\n",
            "0   -0.5\n",
            "dtype: float64\n",
            "\n",
            "feature들의 최댓값\n",
            "0    0.5\n",
            "dtype: float64\n",
            "feature들의 최솟값\n",
            "0    0.0\n",
            "dtype: float64\n",
            "\n",
            "feature들의 최댓값\n",
            "0    1.0\n",
            "dtype: float64\n",
            "feature들의 최솟값\n",
            "0   -0.5\n",
            "dtype: float64\n",
            "\n",
            "feature들의 최댓값\n",
            "0    0.5\n",
            "dtype: float64\n",
            "feature들의 최솟값\n",
            "0   -1.0\n",
            "dtype: float64\n",
            "\n",
            "feature들의 최댓값\n",
            "0    1.0\n",
            "dtype: float64\n"
          ]
        }
      ]
    },
    {
      "cell_type": "markdown",
      "source": [
        "# Columns"
      ],
      "metadata": {
        "id": "qqBeckbDyDhk"
      }
    },
    {
      "cell_type": "code",
      "source": [
        "df.columns"
      ],
      "metadata": {
        "colab": {
          "base_uri": "https://localhost:8080/"
        },
        "id": "3x6Z0ZJywTrc",
        "outputId": "e20fd193-297d-4ade-bf38-4a4eeacebe13"
      },
      "execution_count": 291,
      "outputs": [
        {
          "output_type": "execute_result",
          "data": {
            "text/plain": [
              "Index(['age', 'workclass', 'education', 'education-num', 'marital-status',\n",
              "       'occupation', 'relationship', 'race', 'sex', 'capital-gain',\n",
              "       'capital-loss', 'hours-per-week', 'native-country', 'class',\n",
              "       'workclass_enc', 'education_enc', 'marital-status_enc',\n",
              "       'occupation_enc', 'relationship_enc', 'sex_enc', 'race_enc',\n",
              "       'native-country_enc', 'Robust_Scale_age', 'Robust_Scale_education-num',\n",
              "       'Robust_Scale_capital-gain', 'Robust_Scale_capital-loss',\n",
              "       'Robust_Scale_hours-per-week', 'Robust_Scale_class',\n",
              "       'Robust_Scale_workclass_enc', 'Robust_Scale_education_enc',\n",
              "       'Robust_Scale_marital-status_enc', 'Robust_Scale_occupation_enc',\n",
              "       'Robust_Scale_native-country_enc'],\n",
              "      dtype='object')"
            ]
          },
          "metadata": {},
          "execution_count": 291
        }
      ]
    },
    {
      "cell_type": "code",
      "source": [
        "df_base = df[[ 'class','sex_enc',\n",
        "        'relationship_enc',  'race_enc',\n",
        "        'Robust_Scale_age', 'Robust_Scale_education-num',\n",
        "       'Robust_Scale_capital-gain',\n",
        "               'Robust_Scale_capital-loss',\n",
        "       'Robust_Scale_hours-per-week',\n",
        "     'Robust_Scale_workclass_enc',\n",
        "               'Robust_Scale_education_enc',\n",
        "       'Robust_Scale_marital-status_enc', 'Robust_Scale_occupation_enc',\n",
        "\n",
        "       ]]\n",
        "# 'Robust_Scale_native-country_enc' : 상관관계 작아서 제거했더니 정확도 상승"
      ],
      "metadata": {
        "id": "W4Rd1vzVwXXs"
      },
      "execution_count": 362,
      "outputs": []
    },
    {
      "cell_type": "code",
      "source": [
        "df_base.corr()"
      ],
      "metadata": {
        "colab": {
          "base_uri": "https://localhost:8080/",
          "height": 435
        },
        "id": "0U_bE0NFxW_k",
        "outputId": "fd2c95da-33b4-42a6-f703-5f442b6e15fa"
      },
      "execution_count": 361,
      "outputs": [
        {
          "output_type": "execute_result",
          "data": {
            "text/plain": [
              "                                    class  Robust_Scale_age  \\\n",
              "class                            1.000000          0.237338   \n",
              "Robust_Scale_age                 0.237338          1.000000   \n",
              "Robust_Scale_education-num       0.332293          0.037566   \n",
              "Robust_Scale_capital-gain        0.221643          0.079907   \n",
              "Robust_Scale_capital-loss        0.149405          0.059441   \n",
              "Robust_Scale_hours-per-week      0.226795          0.102185   \n",
              "Robust_Scale_workclass_enc       0.117729          0.207759   \n",
              "Robust_Scale_education_enc       0.317104          0.043313   \n",
              "Robust_Scale_marital-status_enc  0.446553          0.305835   \n",
              "Robust_Scale_occupation_enc      0.258287          0.104195   \n",
              "\n",
              "                                 Robust_Scale_education-num  \\\n",
              "class                                              0.332293   \n",
              "Robust_Scale_age                                   0.037566   \n",
              "Robust_Scale_education-num                         1.000000   \n",
              "Robust_Scale_capital-gain                          0.126382   \n",
              "Robust_Scale_capital-loss                          0.081463   \n",
              "Robust_Scale_hours-per-week                        0.145151   \n",
              "Robust_Scale_workclass_enc                         0.165875   \n",
              "Robust_Scale_education_enc                         0.856742   \n",
              "Robust_Scale_marital-status_enc                    0.076034   \n",
              "Robust_Scale_occupation_enc                        0.459669   \n",
              "\n",
              "                                 Robust_Scale_capital-gain  \\\n",
              "class                                             0.221643   \n",
              "Robust_Scale_age                                  0.079907   \n",
              "Robust_Scale_education-num                        0.126382   \n",
              "Robust_Scale_capital-gain                         1.000000   \n",
              "Robust_Scale_capital-loss                        -0.032142   \n",
              "Robust_Scale_hours-per-week                       0.082977   \n",
              "Robust_Scale_workclass_enc                        0.048228   \n",
              "Robust_Scale_education_enc                        0.113069   \n",
              "Robust_Scale_marital-status_enc                   0.080959   \n",
              "Robust_Scale_occupation_enc                       0.077068   \n",
              "\n",
              "                                 Robust_Scale_capital-loss  \\\n",
              "class                                             0.149405   \n",
              "Robust_Scale_age                                  0.059441   \n",
              "Robust_Scale_education-num                        0.081463   \n",
              "Robust_Scale_capital-gain                        -0.032142   \n",
              "Robust_Scale_capital-loss                         1.000000   \n",
              "Robust_Scale_hours-per-week                       0.055545   \n",
              "Robust_Scale_workclass_enc                        0.032796   \n",
              "Robust_Scale_education_enc                        0.078679   \n",
              "Robust_Scale_marital-status_enc                   0.076333   \n",
              "Robust_Scale_occupation_enc                       0.060224   \n",
              "\n",
              "                                 Robust_Scale_hours-per-week  \\\n",
              "class                                               0.226795   \n",
              "Robust_Scale_age                                    0.102185   \n",
              "Robust_Scale_education-num                          0.145151   \n",
              "Robust_Scale_capital-gain                           0.082977   \n",
              "Robust_Scale_capital-loss                           0.055545   \n",
              "Robust_Scale_hours-per-week                         1.000000   \n",
              "Robust_Scale_workclass_enc                          0.095096   \n",
              "Robust_Scale_education_enc                          0.113705   \n",
              "Robust_Scale_marital-status_enc                     0.223269   \n",
              "Robust_Scale_occupation_enc                         0.100242   \n",
              "\n",
              "                                 Robust_Scale_workclass_enc  \\\n",
              "class                                              0.117729   \n",
              "Robust_Scale_age                                   0.207759   \n",
              "Robust_Scale_education-num                         0.165875   \n",
              "Robust_Scale_capital-gain                          0.048228   \n",
              "Robust_Scale_capital-loss                          0.032796   \n",
              "Robust_Scale_hours-per-week                        0.095096   \n",
              "Robust_Scale_workclass_enc                         1.000000   \n",
              "Robust_Scale_education_enc                         0.156200   \n",
              "Robust_Scale_marital-status_enc                    0.130331   \n",
              "Robust_Scale_occupation_enc                        0.184332   \n",
              "\n",
              "                                 Robust_Scale_education_enc  \\\n",
              "class                                              0.317104   \n",
              "Robust_Scale_age                                   0.043313   \n",
              "Robust_Scale_education-num                         0.856742   \n",
              "Robust_Scale_capital-gain                          0.113069   \n",
              "Robust_Scale_capital-loss                          0.078679   \n",
              "Robust_Scale_hours-per-week                        0.113705   \n",
              "Robust_Scale_workclass_enc                         0.156200   \n",
              "Robust_Scale_education_enc                         1.000000   \n",
              "Robust_Scale_marital-status_enc                    0.070579   \n",
              "Robust_Scale_occupation_enc                        0.439936   \n",
              "\n",
              "                                 Robust_Scale_marital-status_enc  \\\n",
              "class                                                   0.446553   \n",
              "Robust_Scale_age                                        0.305835   \n",
              "Robust_Scale_education-num                              0.076034   \n",
              "Robust_Scale_capital-gain                               0.080959   \n",
              "Robust_Scale_capital-loss                               0.076333   \n",
              "Robust_Scale_hours-per-week                             0.223269   \n",
              "Robust_Scale_workclass_enc                              0.130331   \n",
              "Robust_Scale_education_enc                              0.070579   \n",
              "Robust_Scale_marital-status_enc                         1.000000   \n",
              "Robust_Scale_occupation_enc                             0.070023   \n",
              "\n",
              "                                 Robust_Scale_occupation_enc  \n",
              "class                                               0.258287  \n",
              "Robust_Scale_age                                    0.104195  \n",
              "Robust_Scale_education-num                          0.459669  \n",
              "Robust_Scale_capital-gain                           0.077068  \n",
              "Robust_Scale_capital-loss                           0.060224  \n",
              "Robust_Scale_hours-per-week                         0.100242  \n",
              "Robust_Scale_workclass_enc                          0.184332  \n",
              "Robust_Scale_education_enc                          0.439936  \n",
              "Robust_Scale_marital-status_enc                     0.070023  \n",
              "Robust_Scale_occupation_enc                         1.000000  "
            ],
            "text/html": [
              "\n",
              "  <div id=\"df-164164b8-c64b-4df7-9d6f-bd65d4ddbe20\" class=\"colab-df-container\">\n",
              "    <div>\n",
              "<style scoped>\n",
              "    .dataframe tbody tr th:only-of-type {\n",
              "        vertical-align: middle;\n",
              "    }\n",
              "\n",
              "    .dataframe tbody tr th {\n",
              "        vertical-align: top;\n",
              "    }\n",
              "\n",
              "    .dataframe thead th {\n",
              "        text-align: right;\n",
              "    }\n",
              "</style>\n",
              "<table border=\"1\" class=\"dataframe\">\n",
              "  <thead>\n",
              "    <tr style=\"text-align: right;\">\n",
              "      <th></th>\n",
              "      <th>class</th>\n",
              "      <th>Robust_Scale_age</th>\n",
              "      <th>Robust_Scale_education-num</th>\n",
              "      <th>Robust_Scale_capital-gain</th>\n",
              "      <th>Robust_Scale_capital-loss</th>\n",
              "      <th>Robust_Scale_hours-per-week</th>\n",
              "      <th>Robust_Scale_workclass_enc</th>\n",
              "      <th>Robust_Scale_education_enc</th>\n",
              "      <th>Robust_Scale_marital-status_enc</th>\n",
              "      <th>Robust_Scale_occupation_enc</th>\n",
              "    </tr>\n",
              "  </thead>\n",
              "  <tbody>\n",
              "    <tr>\n",
              "      <th>class</th>\n",
              "      <td>1.000000</td>\n",
              "      <td>0.237338</td>\n",
              "      <td>0.332293</td>\n",
              "      <td>0.221643</td>\n",
              "      <td>0.149405</td>\n",
              "      <td>0.226795</td>\n",
              "      <td>0.117729</td>\n",
              "      <td>0.317104</td>\n",
              "      <td>0.446553</td>\n",
              "      <td>0.258287</td>\n",
              "    </tr>\n",
              "    <tr>\n",
              "      <th>Robust_Scale_age</th>\n",
              "      <td>0.237338</td>\n",
              "      <td>1.000000</td>\n",
              "      <td>0.037566</td>\n",
              "      <td>0.079907</td>\n",
              "      <td>0.059441</td>\n",
              "      <td>0.102185</td>\n",
              "      <td>0.207759</td>\n",
              "      <td>0.043313</td>\n",
              "      <td>0.305835</td>\n",
              "      <td>0.104195</td>\n",
              "    </tr>\n",
              "    <tr>\n",
              "      <th>Robust_Scale_education-num</th>\n",
              "      <td>0.332293</td>\n",
              "      <td>0.037566</td>\n",
              "      <td>1.000000</td>\n",
              "      <td>0.126382</td>\n",
              "      <td>0.081463</td>\n",
              "      <td>0.145151</td>\n",
              "      <td>0.165875</td>\n",
              "      <td>0.856742</td>\n",
              "      <td>0.076034</td>\n",
              "      <td>0.459669</td>\n",
              "    </tr>\n",
              "    <tr>\n",
              "      <th>Robust_Scale_capital-gain</th>\n",
              "      <td>0.221643</td>\n",
              "      <td>0.079907</td>\n",
              "      <td>0.126382</td>\n",
              "      <td>1.000000</td>\n",
              "      <td>-0.032142</td>\n",
              "      <td>0.082977</td>\n",
              "      <td>0.048228</td>\n",
              "      <td>0.113069</td>\n",
              "      <td>0.080959</td>\n",
              "      <td>0.077068</td>\n",
              "    </tr>\n",
              "    <tr>\n",
              "      <th>Robust_Scale_capital-loss</th>\n",
              "      <td>0.149405</td>\n",
              "      <td>0.059441</td>\n",
              "      <td>0.081463</td>\n",
              "      <td>-0.032142</td>\n",
              "      <td>1.000000</td>\n",
              "      <td>0.055545</td>\n",
              "      <td>0.032796</td>\n",
              "      <td>0.078679</td>\n",
              "      <td>0.076333</td>\n",
              "      <td>0.060224</td>\n",
              "    </tr>\n",
              "    <tr>\n",
              "      <th>Robust_Scale_hours-per-week</th>\n",
              "      <td>0.226795</td>\n",
              "      <td>0.102185</td>\n",
              "      <td>0.145151</td>\n",
              "      <td>0.082977</td>\n",
              "      <td>0.055545</td>\n",
              "      <td>1.000000</td>\n",
              "      <td>0.095096</td>\n",
              "      <td>0.113705</td>\n",
              "      <td>0.223269</td>\n",
              "      <td>0.100242</td>\n",
              "    </tr>\n",
              "    <tr>\n",
              "      <th>Robust_Scale_workclass_enc</th>\n",
              "      <td>0.117729</td>\n",
              "      <td>0.207759</td>\n",
              "      <td>0.165875</td>\n",
              "      <td>0.048228</td>\n",
              "      <td>0.032796</td>\n",
              "      <td>0.095096</td>\n",
              "      <td>1.000000</td>\n",
              "      <td>0.156200</td>\n",
              "      <td>0.130331</td>\n",
              "      <td>0.184332</td>\n",
              "    </tr>\n",
              "    <tr>\n",
              "      <th>Robust_Scale_education_enc</th>\n",
              "      <td>0.317104</td>\n",
              "      <td>0.043313</td>\n",
              "      <td>0.856742</td>\n",
              "      <td>0.113069</td>\n",
              "      <td>0.078679</td>\n",
              "      <td>0.113705</td>\n",
              "      <td>0.156200</td>\n",
              "      <td>1.000000</td>\n",
              "      <td>0.070579</td>\n",
              "      <td>0.439936</td>\n",
              "    </tr>\n",
              "    <tr>\n",
              "      <th>Robust_Scale_marital-status_enc</th>\n",
              "      <td>0.446553</td>\n",
              "      <td>0.305835</td>\n",
              "      <td>0.076034</td>\n",
              "      <td>0.080959</td>\n",
              "      <td>0.076333</td>\n",
              "      <td>0.223269</td>\n",
              "      <td>0.130331</td>\n",
              "      <td>0.070579</td>\n",
              "      <td>1.000000</td>\n",
              "      <td>0.070023</td>\n",
              "    </tr>\n",
              "    <tr>\n",
              "      <th>Robust_Scale_occupation_enc</th>\n",
              "      <td>0.258287</td>\n",
              "      <td>0.104195</td>\n",
              "      <td>0.459669</td>\n",
              "      <td>0.077068</td>\n",
              "      <td>0.060224</td>\n",
              "      <td>0.100242</td>\n",
              "      <td>0.184332</td>\n",
              "      <td>0.439936</td>\n",
              "      <td>0.070023</td>\n",
              "      <td>1.000000</td>\n",
              "    </tr>\n",
              "  </tbody>\n",
              "</table>\n",
              "</div>\n",
              "    <div class=\"colab-df-buttons\">\n",
              "\n",
              "  <div class=\"colab-df-container\">\n",
              "    <button class=\"colab-df-convert\" onclick=\"convertToInteractive('df-164164b8-c64b-4df7-9d6f-bd65d4ddbe20')\"\n",
              "            title=\"Convert this dataframe to an interactive table.\"\n",
              "            style=\"display:none;\">\n",
              "\n",
              "  <svg xmlns=\"http://www.w3.org/2000/svg\" height=\"24px\" viewBox=\"0 -960 960 960\">\n",
              "    <path d=\"M120-120v-720h720v720H120Zm60-500h600v-160H180v160Zm220 220h160v-160H400v160Zm0 220h160v-160H400v160ZM180-400h160v-160H180v160Zm440 0h160v-160H620v160ZM180-180h160v-160H180v160Zm440 0h160v-160H620v160Z\"/>\n",
              "  </svg>\n",
              "    </button>\n",
              "\n",
              "  <style>\n",
              "    .colab-df-container {\n",
              "      display:flex;\n",
              "      gap: 12px;\n",
              "    }\n",
              "\n",
              "    .colab-df-convert {\n",
              "      background-color: #E8F0FE;\n",
              "      border: none;\n",
              "      border-radius: 50%;\n",
              "      cursor: pointer;\n",
              "      display: none;\n",
              "      fill: #1967D2;\n",
              "      height: 32px;\n",
              "      padding: 0 0 0 0;\n",
              "      width: 32px;\n",
              "    }\n",
              "\n",
              "    .colab-df-convert:hover {\n",
              "      background-color: #E2EBFA;\n",
              "      box-shadow: 0px 1px 2px rgba(60, 64, 67, 0.3), 0px 1px 3px 1px rgba(60, 64, 67, 0.15);\n",
              "      fill: #174EA6;\n",
              "    }\n",
              "\n",
              "    .colab-df-buttons div {\n",
              "      margin-bottom: 4px;\n",
              "    }\n",
              "\n",
              "    [theme=dark] .colab-df-convert {\n",
              "      background-color: #3B4455;\n",
              "      fill: #D2E3FC;\n",
              "    }\n",
              "\n",
              "    [theme=dark] .colab-df-convert:hover {\n",
              "      background-color: #434B5C;\n",
              "      box-shadow: 0px 1px 3px 1px rgba(0, 0, 0, 0.15);\n",
              "      filter: drop-shadow(0px 1px 2px rgba(0, 0, 0, 0.3));\n",
              "      fill: #FFFFFF;\n",
              "    }\n",
              "  </style>\n",
              "\n",
              "    <script>\n",
              "      const buttonEl =\n",
              "        document.querySelector('#df-164164b8-c64b-4df7-9d6f-bd65d4ddbe20 button.colab-df-convert');\n",
              "      buttonEl.style.display =\n",
              "        google.colab.kernel.accessAllowed ? 'block' : 'none';\n",
              "\n",
              "      async function convertToInteractive(key) {\n",
              "        const element = document.querySelector('#df-164164b8-c64b-4df7-9d6f-bd65d4ddbe20');\n",
              "        const dataTable =\n",
              "          await google.colab.kernel.invokeFunction('convertToInteractive',\n",
              "                                                    [key], {});\n",
              "        if (!dataTable) return;\n",
              "\n",
              "        const docLinkHtml = 'Like what you see? Visit the ' +\n",
              "          '<a target=\"_blank\" href=https://colab.research.google.com/notebooks/data_table.ipynb>data table notebook</a>'\n",
              "          + ' to learn more about interactive tables.';\n",
              "        element.innerHTML = '';\n",
              "        dataTable['output_type'] = 'display_data';\n",
              "        await google.colab.output.renderOutput(dataTable, element);\n",
              "        const docLink = document.createElement('div');\n",
              "        docLink.innerHTML = docLinkHtml;\n",
              "        element.appendChild(docLink);\n",
              "      }\n",
              "    </script>\n",
              "  </div>\n",
              "\n",
              "\n",
              "<div id=\"df-db2ea06a-dbcd-4b9c-b4f6-54ef450b38b5\">\n",
              "  <button class=\"colab-df-quickchart\" onclick=\"quickchart('df-db2ea06a-dbcd-4b9c-b4f6-54ef450b38b5')\"\n",
              "            title=\"Suggest charts.\"\n",
              "            style=\"display:none;\">\n",
              "\n",
              "<svg xmlns=\"http://www.w3.org/2000/svg\" height=\"24px\"viewBox=\"0 0 24 24\"\n",
              "     width=\"24px\">\n",
              "    <g>\n",
              "        <path d=\"M19 3H5c-1.1 0-2 .9-2 2v14c0 1.1.9 2 2 2h14c1.1 0 2-.9 2-2V5c0-1.1-.9-2-2-2zM9 17H7v-7h2v7zm4 0h-2V7h2v10zm4 0h-2v-4h2v4z\"/>\n",
              "    </g>\n",
              "</svg>\n",
              "  </button>\n",
              "\n",
              "<style>\n",
              "  .colab-df-quickchart {\n",
              "    background-color: #E8F0FE;\n",
              "    border: none;\n",
              "    border-radius: 50%;\n",
              "    cursor: pointer;\n",
              "    display: none;\n",
              "    fill: #1967D2;\n",
              "    height: 32px;\n",
              "    padding: 0 0 0 0;\n",
              "    width: 32px;\n",
              "  }\n",
              "\n",
              "  .colab-df-quickchart:hover {\n",
              "    background-color: #E2EBFA;\n",
              "    box-shadow: 0px 1px 2px rgba(60, 64, 67, 0.3), 0px 1px 3px 1px rgba(60, 64, 67, 0.15);\n",
              "    fill: #174EA6;\n",
              "  }\n",
              "\n",
              "  [theme=dark] .colab-df-quickchart {\n",
              "    background-color: #3B4455;\n",
              "    fill: #D2E3FC;\n",
              "  }\n",
              "\n",
              "  [theme=dark] .colab-df-quickchart:hover {\n",
              "    background-color: #434B5C;\n",
              "    box-shadow: 0px 1px 3px 1px rgba(0, 0, 0, 0.15);\n",
              "    filter: drop-shadow(0px 1px 2px rgba(0, 0, 0, 0.3));\n",
              "    fill: #FFFFFF;\n",
              "  }\n",
              "</style>\n",
              "\n",
              "  <script>\n",
              "    async function quickchart(key) {\n",
              "      const charts = await google.colab.kernel.invokeFunction(\n",
              "          'suggestCharts', [key], {});\n",
              "    }\n",
              "    (() => {\n",
              "      let quickchartButtonEl =\n",
              "        document.querySelector('#df-db2ea06a-dbcd-4b9c-b4f6-54ef450b38b5 button');\n",
              "      quickchartButtonEl.style.display =\n",
              "        google.colab.kernel.accessAllowed ? 'block' : 'none';\n",
              "    })();\n",
              "  </script>\n",
              "</div>\n",
              "    </div>\n",
              "  </div>\n"
            ]
          },
          "metadata": {},
          "execution_count": 361
        }
      ]
    },
    {
      "cell_type": "markdown",
      "source": [
        "# 모델링 코드"
      ],
      "metadata": {
        "id": "zRoSyE-YOdqQ"
      }
    },
    {
      "cell_type": "code",
      "source": [
        "from sklearn.model_selection import train_test_split\n",
        "X_train, X_test, y_train, y_test = train_test_split(df_base.drop('class',axis=1),df_base['class'], test_size=0.4, random_state=1)"
      ],
      "metadata": {
        "id": "sd-ZKSiOOeqU"
      },
      "execution_count": 380,
      "outputs": []
    },
    {
      "cell_type": "code",
      "source": [
        "from sklearn.tree import DecisionTreeClassifier\n",
        "\n",
        "model = DecisionTreeClassifier()\n",
        "model.fit(X_train, y_train)\n",
        "pred = model.predict(X_test)"
      ],
      "metadata": {
        "id": "LLNnWnyVOkG8"
      },
      "execution_count": 381,
      "outputs": []
    },
    {
      "cell_type": "code",
      "source": [
        "from sklearn.metrics import accuracy_score\n",
        "accuracy_score(y_test, pred)"
      ],
      "metadata": {
        "colab": {
          "base_uri": "https://localhost:8080/"
        },
        "id": "9C9cm8FLOk_D",
        "outputId": "7655669c-dc4f-4586-bfb2-1b8339682944"
      },
      "execution_count": 382,
      "outputs": [
        {
          "output_type": "execute_result",
          "data": {
            "text/plain": [
              "0.8186705767350929"
            ]
          },
          "metadata": {},
          "execution_count": 382
        }
      ]
    },
    {
      "cell_type": "code",
      "source": [
        "df_base = df[['age', 'education-num',\n",
        "          'capital-gain',\n",
        "       'capital-loss', 'hours-per-week',  'class',\n",
        "       'workclass_enc', 'education_enc', 'marital-status_enc',\n",
        "       'occupation_enc', 'relationship_enc', 'sex_enc', 'race_enc',\n",
        "       'native-country_enc']]\n",
        "# 스케일링 전에는 0.816 정확도"
      ],
      "metadata": {
        "id": "Eg27wLOEjVb-"
      },
      "execution_count": 353,
      "outputs": []
    }
  ]
}