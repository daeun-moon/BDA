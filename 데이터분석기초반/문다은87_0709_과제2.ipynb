{
  "nbformat": 4,
  "nbformat_minor": 0,
  "metadata": {
    "colab": {
      "provenance": []
    },
    "kernelspec": {
      "name": "python3",
      "display_name": "Python 3"
    },
    "language_info": {
      "name": "python"
    }
  },
  "cells": [
    {
      "cell_type": "markdown",
      "source": [
        "### 필수과제2\n",
        "- 정규표현식 수업시간에 배우지 않는 것 최소 5개 이상 찾아주시고, 해당 정규표현식 코드 작성 및 주석으로 어떤 원리로 작동하는지 체크해 주세요!"
      ],
      "metadata": {
        "id": "9pX9uR87Hb8C"
      }
    },
    {
      "cell_type": "markdown",
      "source": [
        "## 1. findall() : 정규식과 매치되는 모든 문자열(substring)을 리스트로 리턴한다."
      ],
      "metadata": {
        "id": "r5zkk0O_H0O-"
      }
    },
    {
      "cell_type": "code",
      "execution_count": null,
      "metadata": {
        "colab": {
          "base_uri": "https://localhost:8080/"
        },
        "id": "UCP9irX_HVfm",
        "outputId": "02f6c11e-58a5-49b1-b2d3-8726891e440d"
      },
      "outputs": [
        {
          "output_type": "stream",
          "name": "stdout",
          "text": [
            "['life', 'is', 'too', 'short']\n"
          ]
        }
      ],
      "source": [
        "import re\n",
        "p = re.compile('[a-z]+')\n",
        "# findall은 패턴([a-z]+)과 매치되는 모든 값을 찾아 리스트로 리턴한다.\n",
        "result = p.findall(\"life is too short 1234\")\n",
        "print(result)"
      ]
    },
    {
      "cell_type": "markdown",
      "source": [
        "## 2. finditer() : 정규식과 매치되는 모든 문자열(substring)을 반복 가능한 객체로 리턴한다."
      ],
      "metadata": {
        "id": "Y6-LWFVEH5Xj"
      }
    },
    {
      "cell_type": "code",
      "source": [
        "import re\n",
        "p = re.compile('[a-z]+')\n",
        "#finditer는 findall과 동일하지만, 그 결과로 반복 가능한 객체(iterator object)를 리턴한다.\n",
        "# 그리고 반복 가능한 객체가 포함하는 각각의 요소는 match 객체이다.\n",
        "result = p.finditer(\"life is too short 1234\")\n",
        "for r in result : print(r)\n"
      ],
      "metadata": {
        "colab": {
          "base_uri": "https://localhost:8080/"
        },
        "id": "jj5C0KMeIMOk",
        "outputId": "ff64bccb-385b-4039-8a71-11b11c088eb2"
      },
      "execution_count": null,
      "outputs": [
        {
          "output_type": "stream",
          "name": "stdout",
          "text": [
            "<re.Match object; span=(0, 4), match='life'>\n",
            "<re.Match object; span=(5, 7), match='is'>\n",
            "<re.Match object; span=(8, 11), match='too'>\n",
            "<re.Match object; span=(12, 17), match='short'>\n"
          ]
        }
      ]
    },
    {
      "cell_type": "markdown",
      "source": [
        "## 3. match 객체의 메서드 - start"
      ],
      "metadata": {
        "id": "vs6KRQotH5OL"
      }
    },
    {
      "cell_type": "code",
      "source": [
        "# 매치된 문자열의 시작 위치를 리턴한다.\n",
        "import re\n",
        "p = re.compile('[a-z]+')\n",
        "m = p.match(\"python\")"
      ],
      "metadata": {
        "id": "rZfNvWn4IMbg"
      },
      "execution_count": null,
      "outputs": []
    },
    {
      "cell_type": "code",
      "source": [
        "m.start()"
      ],
      "metadata": {
        "colab": {
          "base_uri": "https://localhost:8080/"
        },
        "id": "0diq4GYtVjCo",
        "outputId": "24e1a1f6-b465-4ca2-cef9-b6a721370a23"
      },
      "execution_count": null,
      "outputs": [
        {
          "output_type": "execute_result",
          "data": {
            "text/plain": [
              "0"
            ]
          },
          "metadata": {},
          "execution_count": 5
        }
      ]
    },
    {
      "cell_type": "markdown",
      "source": [
        "## 4. match 객체의 메서드 - end"
      ],
      "metadata": {
        "id": "a92JoZkHH5FE"
      }
    },
    {
      "cell_type": "code",
      "source": [
        "# 매치된 문자열의 끝 위치를 리턴한다.\n",
        "m.end()"
      ],
      "metadata": {
        "colab": {
          "base_uri": "https://localhost:8080/"
        },
        "id": "PggOGHiQIM1X",
        "outputId": "99d49365-a768-4fa2-d848-4389706bea9d"
      },
      "execution_count": null,
      "outputs": [
        {
          "output_type": "execute_result",
          "data": {
            "text/plain": [
              "6"
            ]
          },
          "metadata": {},
          "execution_count": 6
        }
      ]
    },
    {
      "cell_type": "markdown",
      "source": [
        "## 5. match 객체의 메서드 - span"
      ],
      "metadata": {
        "id": "IkzqXkP5H44v"
      }
    },
    {
      "cell_type": "code",
      "source": [
        "#매치된 문자열의 (시작, 끝)에 해당하는 튜플을 리턴한다.\n",
        "m.span()"
      ],
      "metadata": {
        "colab": {
          "base_uri": "https://localhost:8080/"
        },
        "id": "nJDmEOD1ILjO",
        "outputId": "67e8553a-d62a-48c2-d905-4e183f66d352"
      },
      "execution_count": null,
      "outputs": [
        {
          "output_type": "execute_result",
          "data": {
            "text/plain": [
              "(0, 6)"
            ]
          },
          "metadata": {},
          "execution_count": 7
        }
      ]
    },
    {
      "cell_type": "code",
      "source": [],
      "metadata": {
        "id": "0deqoxGMVwXB"
      },
      "execution_count": null,
      "outputs": []
    }
  ]
}