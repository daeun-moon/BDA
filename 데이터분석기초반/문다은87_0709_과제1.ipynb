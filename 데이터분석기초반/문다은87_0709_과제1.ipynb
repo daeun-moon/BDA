{
  "nbformat": 4,
  "nbformat_minor": 0,
  "metadata": {
    "colab": {
      "provenance": []
    },
    "kernelspec": {
      "name": "python3",
      "display_name": "Python 3"
    },
    "language_info": {
      "name": "python"
    }
  },
  "cells": [
    {
      "cell_type": "markdown",
      "source": [
        "### 필수과제 1\n",
        "- '*'\n",
        "- '+'\n",
        "\n",
        "- 둘의 차이를 찾아서 코드 작성하고, 주석처리 부탁드립니다."
      ],
      "metadata": {
        "id": "sfZ4xBcrCnSv"
      }
    },
    {
      "cell_type": "code",
      "source": [
        "import re"
      ],
      "metadata": {
        "id": "MiSFUHeJDI00"
      },
      "execution_count": 2,
      "outputs": []
    },
    {
      "cell_type": "code",
      "source": [
        "#  x* :  반복여부를 표현하며 x 문자가 0번 또는 그 이상 반복됨을 의미한다.\n",
        "re.match('ca+t',\"ct\")"
      ],
      "metadata": {
        "id": "eTYN_NmyClln"
      },
      "execution_count": 10,
      "outputs": []
    },
    {
      "cell_type": "code",
      "source": [
        "#  x+ :  반복을 표현하며 x 문자가 한번 이상 반복됨을 의미한다.\n",
        "re.match('ca*t',\"ct\")"
      ],
      "metadata": {
        "colab": {
          "base_uri": "https://localhost:8080/"
        },
        "id": "nAlCDc2MCyG0",
        "outputId": "b47086a0-d00e-447f-a2ec-b303fe0d71af"
      },
      "execution_count": 11,
      "outputs": [
        {
          "output_type": "execute_result",
          "data": {
            "text/plain": [
              "<re.Match object; span=(0, 2), match='ct'>"
            ]
          },
          "metadata": {},
          "execution_count": 11
        }
      ]
    },
    {
      "cell_type": "markdown",
      "source": [
        "- 1번 결과에서는 a가 0번 반복되어서 매치되지 않는다\n",
        "- 2번 결과에서는 a가 0번 반복되어 매치된다."
      ],
      "metadata": {
        "id": "7N-hI9d6EVng"
      }
    },
    {
      "cell_type": "code",
      "source": [],
      "metadata": {
        "id": "jegE5cf7EuVr"
      },
      "execution_count": null,
      "outputs": []
    }
  ]
}